{
  "cells": [
    {
      "cell_type": "markdown",
      "source": [
        "Practicing with Credit Card data using a Neural Network"
      ],
      "metadata": {
        "id": "syaP1u5tLT2-"
      }
    },
    {
      "cell_type": "code",
      "execution_count": null,
      "metadata": {
        "colab": {
          "base_uri": "https://localhost:8080/"
        },
        "id": "T5GNDYG6eoHx",
        "outputId": "1923c53b-df11-4070-f23c-b3615d804add"
      },
      "outputs": [
        {
          "output_type": "stream",
          "name": "stdout",
          "text": [
            "Drive already mounted at /content/drive; to attempt to forcibly remount, call drive.mount(\"/content/drive\", force_remount=True).\n"
          ]
        }
      ],
      "source": [
        "from google.colab import drive\n",
        "drive.mount('/content/drive')"
      ]
    },
    {
      "cell_type": "code",
      "execution_count": null,
      "metadata": {
        "id": "18BzaZyOeJCh"
      },
      "outputs": [],
      "source": [
        "# This will help in making the Python code more structured automatically (good coding practice)\n",
        "#%load_ext nb_black\n",
        "\n",
        "# Libraries to help with reading and manipulating data\n",
        "import pandas as pd\n",
        "import numpy as np\n",
        "import pathlib\n",
        "\n",
        "# Libaries to help with data visualization\n",
        "import matplotlib.pyplot as plt\n",
        "import seaborn as sns\n",
        "\n",
        "# To get diferent metric scores\n",
        "from sklearn.metrics import (\n",
        "    f1_score,\n",
        "    accuracy_score,\n",
        "    recall_score,\n",
        "    precision_score,\n",
        "    confusion_matrix,\n",
        "    roc_auc_score,\n",
        "    plot_confusion_matrix,\n",
        "    precision_recall_curve,\n",
        "    roc_curve,\n",
        "    make_scorer,\n",
        ")\n",
        "from sklearn import metrics\n",
        "\n",
        "from sklearn.model_selection import train_test_split, StratifiedKFold, cross_val_score\n",
        "\n",
        "# To be used for data scaling and one hot encoding\n",
        "from sklearn.preprocessing import StandardScaler, MinMaxScaler, OneHotEncoder\n",
        "\n",
        "# To define maximum number of columns to be displayed in a dataframe\n",
        "pd.set_option(\"display.max_columns\", None)\n",
        "pd.set_option(\"display.max_rows\", None)\n",
        "\n",
        "# To supress scientific notations for a dataframe\n",
        "pd.set_option(\"display.float_format\", lambda x: \"%.3f\" % x)\n",
        "\n",
        "# To suppress scientific notations\n",
        "pd.set_option(\"display.float_format\", lambda x: \"%.3f\" % x)\n",
        "\n",
        "# To suppress warnings\n",
        "import warnings\n",
        "\n",
        "warnings.filterwarnings(\"ignore\")\n",
        "\n",
        "from IPython.display import clear_output\n",
        "import tensorflow as tf\n",
        "from tensorflow import keras\n",
        "from tensorflow.keras.models import Sequential\n",
        "from tensorflow.keras import layers\n",
        "from tensorflow.keras.preprocessing.sequence import TimeseriesGenerator\n",
        "from tensorflow.keras.utils import to_categorical\n",
        "from sklearn.preprocessing import MinMaxScaler\n",
        "from sklearn.utils import resample\n",
        "from sklearn.metrics import confusion_matrix\n",
        "from sklearn.metrics import precision_score\n",
        "from sklearn.metrics import recall_score\n",
        "from sklearn.metrics import f1_score\n",
        "from sklearn.decomposition import PCA\n",
        "from tensorflow.keras.layers import Dense, LSTM, GRU, Bidirectional, Dropout, Activation\n",
        "from tensorflow.keras.layers import BatchNormalization\n",
        "from tensorflow.keras.optimizers import RMSprop\n",
        "from tensorflow.keras.optimizers import SGD\n",
        "from tensorflow.keras.optimizers import Nadam\n",
        "from tensorflow.keras.optimizers import Adam\n",
        "from tensorflow.keras.constraints import max_norm\n",
        "from imblearn.over_sampling import SMOTE\n",
        "from imblearn.under_sampling import RandomUnderSampler\n",
        "from statsmodels.stats.outliers_influence import variance_inflation_factor\n",
        "import os\n",
        "import matplotlib.pyplot as plt\n",
        "import math\n",
        "from datetime import date, datetime\n",
        "\n",
        "#from keras.utils import to_categorical\n",
        "from tensorflow.keras.utils import to_categorical\n",
        "import tensorflow as tf"
      ]
    },
    {
      "cell_type": "code",
      "execution_count": null,
      "metadata": {
        "id": "aZ3uFuFNeixD"
      },
      "outputs": [],
      "source": [
        "dataOriginal = pd.read_csv(\"/content/drive/MyDrive/Colab Notebooks/creditcard.csv\")"
      ]
    },
    {
      "cell_type": "code",
      "execution_count": null,
      "metadata": {
        "colab": {
          "base_uri": "https://localhost:8080/",
          "height": 270
        },
        "id": "pwGgwtSQgsop",
        "outputId": "d017f944-c8ce-491a-d59f-cb4e85d3de7a"
      },
      "outputs": [
        {
          "output_type": "execute_result",
          "data": {
            "text/plain": [
              "   Time     V1     V2    V3     V4     V5     V6     V7     V8     V9    V10  \\\n",
              "0 0.000 -1.360 -0.073 2.536  1.378 -0.338  0.462  0.240  0.099  0.364  0.091   \n",
              "1 0.000  1.192  0.266 0.166  0.448  0.060 -0.082 -0.079  0.085 -0.255 -0.167   \n",
              "2 1.000 -1.358 -1.340 1.773  0.380 -0.503  1.800  0.791  0.248 -1.515  0.208   \n",
              "3 1.000 -0.966 -0.185 1.793 -0.863 -0.010  1.247  0.238  0.377 -1.387 -0.055   \n",
              "4 2.000 -1.158  0.878 1.549  0.403 -0.407  0.096  0.593 -0.271  0.818  0.753   \n",
              "\n",
              "     V11    V12    V13    V14    V15    V16    V17    V18    V19    V20  \\\n",
              "0 -0.552 -0.618 -0.991 -0.311  1.468 -0.470  0.208  0.026  0.404  0.251   \n",
              "1  1.613  1.065  0.489 -0.144  0.636  0.464 -0.115 -0.183 -0.146 -0.069   \n",
              "2  0.625  0.066  0.717 -0.166  2.346 -2.890  1.110 -0.121 -2.262  0.525   \n",
              "3 -0.226  0.178  0.508 -0.288 -0.631 -1.060 -0.684  1.966 -1.233 -0.208   \n",
              "4 -0.823  0.538  1.346 -1.120  0.175 -0.451 -0.237 -0.038  0.803  0.409   \n",
              "\n",
              "     V21    V22    V23    V24    V25    V26    V27    V28  Amount  Class  \n",
              "0 -0.018  0.278 -0.110  0.067  0.129 -0.189  0.134 -0.021 149.620      0  \n",
              "1 -0.226 -0.639  0.101 -0.340  0.167  0.126 -0.009  0.015   2.690      0  \n",
              "2  0.248  0.772  0.909 -0.689 -0.328 -0.139 -0.055 -0.060 378.660      0  \n",
              "3 -0.108  0.005 -0.190 -1.176  0.647 -0.222  0.063  0.061 123.500      0  \n",
              "4 -0.009  0.798 -0.137  0.141 -0.206  0.502  0.219  0.215  69.990      0  "
            ],
            "text/html": [
              "\n",
              "  <div id=\"df-152577b8-cc31-433e-9e37-5a5c4e0a242a\">\n",
              "    <div class=\"colab-df-container\">\n",
              "      <div>\n",
              "<style scoped>\n",
              "    .dataframe tbody tr th:only-of-type {\n",
              "        vertical-align: middle;\n",
              "    }\n",
              "\n",
              "    .dataframe tbody tr th {\n",
              "        vertical-align: top;\n",
              "    }\n",
              "\n",
              "    .dataframe thead th {\n",
              "        text-align: right;\n",
              "    }\n",
              "</style>\n",
              "<table border=\"1\" class=\"dataframe\">\n",
              "  <thead>\n",
              "    <tr style=\"text-align: right;\">\n",
              "      <th></th>\n",
              "      <th>Time</th>\n",
              "      <th>V1</th>\n",
              "      <th>V2</th>\n",
              "      <th>V3</th>\n",
              "      <th>V4</th>\n",
              "      <th>V5</th>\n",
              "      <th>V6</th>\n",
              "      <th>V7</th>\n",
              "      <th>V8</th>\n",
              "      <th>V9</th>\n",
              "      <th>V10</th>\n",
              "      <th>V11</th>\n",
              "      <th>V12</th>\n",
              "      <th>V13</th>\n",
              "      <th>V14</th>\n",
              "      <th>V15</th>\n",
              "      <th>V16</th>\n",
              "      <th>V17</th>\n",
              "      <th>V18</th>\n",
              "      <th>V19</th>\n",
              "      <th>V20</th>\n",
              "      <th>V21</th>\n",
              "      <th>V22</th>\n",
              "      <th>V23</th>\n",
              "      <th>V24</th>\n",
              "      <th>V25</th>\n",
              "      <th>V26</th>\n",
              "      <th>V27</th>\n",
              "      <th>V28</th>\n",
              "      <th>Amount</th>\n",
              "      <th>Class</th>\n",
              "    </tr>\n",
              "  </thead>\n",
              "  <tbody>\n",
              "    <tr>\n",
              "      <th>0</th>\n",
              "      <td>0.000</td>\n",
              "      <td>-1.360</td>\n",
              "      <td>-0.073</td>\n",
              "      <td>2.536</td>\n",
              "      <td>1.378</td>\n",
              "      <td>-0.338</td>\n",
              "      <td>0.462</td>\n",
              "      <td>0.240</td>\n",
              "      <td>0.099</td>\n",
              "      <td>0.364</td>\n",
              "      <td>0.091</td>\n",
              "      <td>-0.552</td>\n",
              "      <td>-0.618</td>\n",
              "      <td>-0.991</td>\n",
              "      <td>-0.311</td>\n",
              "      <td>1.468</td>\n",
              "      <td>-0.470</td>\n",
              "      <td>0.208</td>\n",
              "      <td>0.026</td>\n",
              "      <td>0.404</td>\n",
              "      <td>0.251</td>\n",
              "      <td>-0.018</td>\n",
              "      <td>0.278</td>\n",
              "      <td>-0.110</td>\n",
              "      <td>0.067</td>\n",
              "      <td>0.129</td>\n",
              "      <td>-0.189</td>\n",
              "      <td>0.134</td>\n",
              "      <td>-0.021</td>\n",
              "      <td>149.620</td>\n",
              "      <td>0</td>\n",
              "    </tr>\n",
              "    <tr>\n",
              "      <th>1</th>\n",
              "      <td>0.000</td>\n",
              "      <td>1.192</td>\n",
              "      <td>0.266</td>\n",
              "      <td>0.166</td>\n",
              "      <td>0.448</td>\n",
              "      <td>0.060</td>\n",
              "      <td>-0.082</td>\n",
              "      <td>-0.079</td>\n",
              "      <td>0.085</td>\n",
              "      <td>-0.255</td>\n",
              "      <td>-0.167</td>\n",
              "      <td>1.613</td>\n",
              "      <td>1.065</td>\n",
              "      <td>0.489</td>\n",
              "      <td>-0.144</td>\n",
              "      <td>0.636</td>\n",
              "      <td>0.464</td>\n",
              "      <td>-0.115</td>\n",
              "      <td>-0.183</td>\n",
              "      <td>-0.146</td>\n",
              "      <td>-0.069</td>\n",
              "      <td>-0.226</td>\n",
              "      <td>-0.639</td>\n",
              "      <td>0.101</td>\n",
              "      <td>-0.340</td>\n",
              "      <td>0.167</td>\n",
              "      <td>0.126</td>\n",
              "      <td>-0.009</td>\n",
              "      <td>0.015</td>\n",
              "      <td>2.690</td>\n",
              "      <td>0</td>\n",
              "    </tr>\n",
              "    <tr>\n",
              "      <th>2</th>\n",
              "      <td>1.000</td>\n",
              "      <td>-1.358</td>\n",
              "      <td>-1.340</td>\n",
              "      <td>1.773</td>\n",
              "      <td>0.380</td>\n",
              "      <td>-0.503</td>\n",
              "      <td>1.800</td>\n",
              "      <td>0.791</td>\n",
              "      <td>0.248</td>\n",
              "      <td>-1.515</td>\n",
              "      <td>0.208</td>\n",
              "      <td>0.625</td>\n",
              "      <td>0.066</td>\n",
              "      <td>0.717</td>\n",
              "      <td>-0.166</td>\n",
              "      <td>2.346</td>\n",
              "      <td>-2.890</td>\n",
              "      <td>1.110</td>\n",
              "      <td>-0.121</td>\n",
              "      <td>-2.262</td>\n",
              "      <td>0.525</td>\n",
              "      <td>0.248</td>\n",
              "      <td>0.772</td>\n",
              "      <td>0.909</td>\n",
              "      <td>-0.689</td>\n",
              "      <td>-0.328</td>\n",
              "      <td>-0.139</td>\n",
              "      <td>-0.055</td>\n",
              "      <td>-0.060</td>\n",
              "      <td>378.660</td>\n",
              "      <td>0</td>\n",
              "    </tr>\n",
              "    <tr>\n",
              "      <th>3</th>\n",
              "      <td>1.000</td>\n",
              "      <td>-0.966</td>\n",
              "      <td>-0.185</td>\n",
              "      <td>1.793</td>\n",
              "      <td>-0.863</td>\n",
              "      <td>-0.010</td>\n",
              "      <td>1.247</td>\n",
              "      <td>0.238</td>\n",
              "      <td>0.377</td>\n",
              "      <td>-1.387</td>\n",
              "      <td>-0.055</td>\n",
              "      <td>-0.226</td>\n",
              "      <td>0.178</td>\n",
              "      <td>0.508</td>\n",
              "      <td>-0.288</td>\n",
              "      <td>-0.631</td>\n",
              "      <td>-1.060</td>\n",
              "      <td>-0.684</td>\n",
              "      <td>1.966</td>\n",
              "      <td>-1.233</td>\n",
              "      <td>-0.208</td>\n",
              "      <td>-0.108</td>\n",
              "      <td>0.005</td>\n",
              "      <td>-0.190</td>\n",
              "      <td>-1.176</td>\n",
              "      <td>0.647</td>\n",
              "      <td>-0.222</td>\n",
              "      <td>0.063</td>\n",
              "      <td>0.061</td>\n",
              "      <td>123.500</td>\n",
              "      <td>0</td>\n",
              "    </tr>\n",
              "    <tr>\n",
              "      <th>4</th>\n",
              "      <td>2.000</td>\n",
              "      <td>-1.158</td>\n",
              "      <td>0.878</td>\n",
              "      <td>1.549</td>\n",
              "      <td>0.403</td>\n",
              "      <td>-0.407</td>\n",
              "      <td>0.096</td>\n",
              "      <td>0.593</td>\n",
              "      <td>-0.271</td>\n",
              "      <td>0.818</td>\n",
              "      <td>0.753</td>\n",
              "      <td>-0.823</td>\n",
              "      <td>0.538</td>\n",
              "      <td>1.346</td>\n",
              "      <td>-1.120</td>\n",
              "      <td>0.175</td>\n",
              "      <td>-0.451</td>\n",
              "      <td>-0.237</td>\n",
              "      <td>-0.038</td>\n",
              "      <td>0.803</td>\n",
              "      <td>0.409</td>\n",
              "      <td>-0.009</td>\n",
              "      <td>0.798</td>\n",
              "      <td>-0.137</td>\n",
              "      <td>0.141</td>\n",
              "      <td>-0.206</td>\n",
              "      <td>0.502</td>\n",
              "      <td>0.219</td>\n",
              "      <td>0.215</td>\n",
              "      <td>69.990</td>\n",
              "      <td>0</td>\n",
              "    </tr>\n",
              "  </tbody>\n",
              "</table>\n",
              "</div>\n",
              "      <button class=\"colab-df-convert\" onclick=\"convertToInteractive('df-152577b8-cc31-433e-9e37-5a5c4e0a242a')\"\n",
              "              title=\"Convert this dataframe to an interactive table.\"\n",
              "              style=\"display:none;\">\n",
              "        \n",
              "  <svg xmlns=\"http://www.w3.org/2000/svg\" height=\"24px\"viewBox=\"0 0 24 24\"\n",
              "       width=\"24px\">\n",
              "    <path d=\"M0 0h24v24H0V0z\" fill=\"none\"/>\n",
              "    <path d=\"M18.56 5.44l.94 2.06.94-2.06 2.06-.94-2.06-.94-.94-2.06-.94 2.06-2.06.94zm-11 1L8.5 8.5l.94-2.06 2.06-.94-2.06-.94L8.5 2.5l-.94 2.06-2.06.94zm10 10l.94 2.06.94-2.06 2.06-.94-2.06-.94-.94-2.06-.94 2.06-2.06.94z\"/><path d=\"M17.41 7.96l-1.37-1.37c-.4-.4-.92-.59-1.43-.59-.52 0-1.04.2-1.43.59L10.3 9.45l-7.72 7.72c-.78.78-.78 2.05 0 2.83L4 21.41c.39.39.9.59 1.41.59.51 0 1.02-.2 1.41-.59l7.78-7.78 2.81-2.81c.8-.78.8-2.07 0-2.86zM5.41 20L4 18.59l7.72-7.72 1.47 1.35L5.41 20z\"/>\n",
              "  </svg>\n",
              "      </button>\n",
              "      \n",
              "  <style>\n",
              "    .colab-df-container {\n",
              "      display:flex;\n",
              "      flex-wrap:wrap;\n",
              "      gap: 12px;\n",
              "    }\n",
              "\n",
              "    .colab-df-convert {\n",
              "      background-color: #E8F0FE;\n",
              "      border: none;\n",
              "      border-radius: 50%;\n",
              "      cursor: pointer;\n",
              "      display: none;\n",
              "      fill: #1967D2;\n",
              "      height: 32px;\n",
              "      padding: 0 0 0 0;\n",
              "      width: 32px;\n",
              "    }\n",
              "\n",
              "    .colab-df-convert:hover {\n",
              "      background-color: #E2EBFA;\n",
              "      box-shadow: 0px 1px 2px rgba(60, 64, 67, 0.3), 0px 1px 3px 1px rgba(60, 64, 67, 0.15);\n",
              "      fill: #174EA6;\n",
              "    }\n",
              "\n",
              "    [theme=dark] .colab-df-convert {\n",
              "      background-color: #3B4455;\n",
              "      fill: #D2E3FC;\n",
              "    }\n",
              "\n",
              "    [theme=dark] .colab-df-convert:hover {\n",
              "      background-color: #434B5C;\n",
              "      box-shadow: 0px 1px 3px 1px rgba(0, 0, 0, 0.15);\n",
              "      filter: drop-shadow(0px 1px 2px rgba(0, 0, 0, 0.3));\n",
              "      fill: #FFFFFF;\n",
              "    }\n",
              "  </style>\n",
              "\n",
              "      <script>\n",
              "        const buttonEl =\n",
              "          document.querySelector('#df-152577b8-cc31-433e-9e37-5a5c4e0a242a button.colab-df-convert');\n",
              "        buttonEl.style.display =\n",
              "          google.colab.kernel.accessAllowed ? 'block' : 'none';\n",
              "\n",
              "        async function convertToInteractive(key) {\n",
              "          const element = document.querySelector('#df-152577b8-cc31-433e-9e37-5a5c4e0a242a');\n",
              "          const dataTable =\n",
              "            await google.colab.kernel.invokeFunction('convertToInteractive',\n",
              "                                                     [key], {});\n",
              "          if (!dataTable) return;\n",
              "\n",
              "          const docLinkHtml = 'Like what you see? Visit the ' +\n",
              "            '<a target=\"_blank\" href=https://colab.research.google.com/notebooks/data_table.ipynb>data table notebook</a>'\n",
              "            + ' to learn more about interactive tables.';\n",
              "          element.innerHTML = '';\n",
              "          dataTable['output_type'] = 'display_data';\n",
              "          await google.colab.output.renderOutput(dataTable, element);\n",
              "          const docLink = document.createElement('div');\n",
              "          docLink.innerHTML = docLinkHtml;\n",
              "          element.appendChild(docLink);\n",
              "        }\n",
              "      </script>\n",
              "    </div>\n",
              "  </div>\n",
              "  "
            ]
          },
          "metadata": {},
          "execution_count": 177
        }
      ],
      "source": [
        "dataOriginal.head(5)"
      ]
    },
    {
      "cell_type": "code",
      "source": [
        "dataOriginal.tail(5)"
      ],
      "metadata": {
        "colab": {
          "base_uri": "https://localhost:8080/",
          "height": 270
        },
        "id": "xt6p-Ad1711M",
        "outputId": "fdc5f502-e9f9-4772-b780-04adab1ae34c"
      },
      "execution_count": null,
      "outputs": [
        {
          "output_type": "execute_result",
          "data": {
            "text/plain": [
              "             Time      V1     V2     V3     V4     V5     V6     V7     V8  \\\n",
              "284802 172786.000 -11.881 10.072 -9.835 -2.067 -5.364 -2.607 -4.918  7.305   \n",
              "284803 172787.000  -0.733 -0.055  2.035 -0.739  0.868  1.058  0.024  0.295   \n",
              "284804 172788.000   1.920 -0.301 -3.250 -0.558  2.631  3.031 -0.297  0.708   \n",
              "284805 172788.000  -0.240  0.530  0.703  0.690 -0.378  0.624 -0.686  0.679   \n",
              "284806 172792.000  -0.533 -0.190  0.703 -0.506 -0.013 -0.650  1.577 -0.415   \n",
              "\n",
              "          V9    V10    V11    V12    V13    V14    V15    V16    V17    V18  \\\n",
              "284802 1.914  4.356 -1.593  2.712 -0.689  4.627 -0.924  1.108  1.992  0.511   \n",
              "284803 0.585 -0.976 -0.150  0.916  1.215 -0.675  1.165 -0.712 -0.026 -1.221   \n",
              "284804 0.432 -0.485  0.412  0.063 -0.184 -0.511  1.329  0.141  0.314  0.396   \n",
              "284805 0.392 -0.399 -1.934 -0.963 -1.042  0.450  1.963 -0.609  0.510  1.114   \n",
              "284806 0.486 -0.915 -1.040 -0.032 -0.188 -0.084  0.041 -0.303 -0.660  0.167   \n",
              "\n",
              "          V19   V20   V21   V22    V23    V24    V25    V26    V27    V28  \\\n",
              "284802 -0.683 1.476 0.213 0.112  1.014 -0.509  1.437  0.250  0.944  0.824   \n",
              "284803 -1.546 0.060 0.214 0.924  0.012 -1.016 -0.607 -0.395  0.068 -0.054   \n",
              "284804 -0.577 0.001 0.232 0.578 -0.038  0.640  0.266 -0.087  0.004 -0.027   \n",
              "284805  2.898 0.127 0.265 0.800 -0.163  0.123 -0.569  0.547  0.109  0.105   \n",
              "284806 -0.256 0.383 0.261 0.643  0.377  0.009 -0.474 -0.818 -0.002  0.014   \n",
              "\n",
              "        Amount  Class  \n",
              "284802   0.770      0  \n",
              "284803  24.790      0  \n",
              "284804  67.880      0  \n",
              "284805  10.000      0  \n",
              "284806 217.000      0  "
            ],
            "text/html": [
              "\n",
              "  <div id=\"df-11a36f58-5b5e-4dd5-9c70-5db8401df516\">\n",
              "    <div class=\"colab-df-container\">\n",
              "      <div>\n",
              "<style scoped>\n",
              "    .dataframe tbody tr th:only-of-type {\n",
              "        vertical-align: middle;\n",
              "    }\n",
              "\n",
              "    .dataframe tbody tr th {\n",
              "        vertical-align: top;\n",
              "    }\n",
              "\n",
              "    .dataframe thead th {\n",
              "        text-align: right;\n",
              "    }\n",
              "</style>\n",
              "<table border=\"1\" class=\"dataframe\">\n",
              "  <thead>\n",
              "    <tr style=\"text-align: right;\">\n",
              "      <th></th>\n",
              "      <th>Time</th>\n",
              "      <th>V1</th>\n",
              "      <th>V2</th>\n",
              "      <th>V3</th>\n",
              "      <th>V4</th>\n",
              "      <th>V5</th>\n",
              "      <th>V6</th>\n",
              "      <th>V7</th>\n",
              "      <th>V8</th>\n",
              "      <th>V9</th>\n",
              "      <th>V10</th>\n",
              "      <th>V11</th>\n",
              "      <th>V12</th>\n",
              "      <th>V13</th>\n",
              "      <th>V14</th>\n",
              "      <th>V15</th>\n",
              "      <th>V16</th>\n",
              "      <th>V17</th>\n",
              "      <th>V18</th>\n",
              "      <th>V19</th>\n",
              "      <th>V20</th>\n",
              "      <th>V21</th>\n",
              "      <th>V22</th>\n",
              "      <th>V23</th>\n",
              "      <th>V24</th>\n",
              "      <th>V25</th>\n",
              "      <th>V26</th>\n",
              "      <th>V27</th>\n",
              "      <th>V28</th>\n",
              "      <th>Amount</th>\n",
              "      <th>Class</th>\n",
              "    </tr>\n",
              "  </thead>\n",
              "  <tbody>\n",
              "    <tr>\n",
              "      <th>284802</th>\n",
              "      <td>172786.000</td>\n",
              "      <td>-11.881</td>\n",
              "      <td>10.072</td>\n",
              "      <td>-9.835</td>\n",
              "      <td>-2.067</td>\n",
              "      <td>-5.364</td>\n",
              "      <td>-2.607</td>\n",
              "      <td>-4.918</td>\n",
              "      <td>7.305</td>\n",
              "      <td>1.914</td>\n",
              "      <td>4.356</td>\n",
              "      <td>-1.593</td>\n",
              "      <td>2.712</td>\n",
              "      <td>-0.689</td>\n",
              "      <td>4.627</td>\n",
              "      <td>-0.924</td>\n",
              "      <td>1.108</td>\n",
              "      <td>1.992</td>\n",
              "      <td>0.511</td>\n",
              "      <td>-0.683</td>\n",
              "      <td>1.476</td>\n",
              "      <td>0.213</td>\n",
              "      <td>0.112</td>\n",
              "      <td>1.014</td>\n",
              "      <td>-0.509</td>\n",
              "      <td>1.437</td>\n",
              "      <td>0.250</td>\n",
              "      <td>0.944</td>\n",
              "      <td>0.824</td>\n",
              "      <td>0.770</td>\n",
              "      <td>0</td>\n",
              "    </tr>\n",
              "    <tr>\n",
              "      <th>284803</th>\n",
              "      <td>172787.000</td>\n",
              "      <td>-0.733</td>\n",
              "      <td>-0.055</td>\n",
              "      <td>2.035</td>\n",
              "      <td>-0.739</td>\n",
              "      <td>0.868</td>\n",
              "      <td>1.058</td>\n",
              "      <td>0.024</td>\n",
              "      <td>0.295</td>\n",
              "      <td>0.585</td>\n",
              "      <td>-0.976</td>\n",
              "      <td>-0.150</td>\n",
              "      <td>0.916</td>\n",
              "      <td>1.215</td>\n",
              "      <td>-0.675</td>\n",
              "      <td>1.165</td>\n",
              "      <td>-0.712</td>\n",
              "      <td>-0.026</td>\n",
              "      <td>-1.221</td>\n",
              "      <td>-1.546</td>\n",
              "      <td>0.060</td>\n",
              "      <td>0.214</td>\n",
              "      <td>0.924</td>\n",
              "      <td>0.012</td>\n",
              "      <td>-1.016</td>\n",
              "      <td>-0.607</td>\n",
              "      <td>-0.395</td>\n",
              "      <td>0.068</td>\n",
              "      <td>-0.054</td>\n",
              "      <td>24.790</td>\n",
              "      <td>0</td>\n",
              "    </tr>\n",
              "    <tr>\n",
              "      <th>284804</th>\n",
              "      <td>172788.000</td>\n",
              "      <td>1.920</td>\n",
              "      <td>-0.301</td>\n",
              "      <td>-3.250</td>\n",
              "      <td>-0.558</td>\n",
              "      <td>2.631</td>\n",
              "      <td>3.031</td>\n",
              "      <td>-0.297</td>\n",
              "      <td>0.708</td>\n",
              "      <td>0.432</td>\n",
              "      <td>-0.485</td>\n",
              "      <td>0.412</td>\n",
              "      <td>0.063</td>\n",
              "      <td>-0.184</td>\n",
              "      <td>-0.511</td>\n",
              "      <td>1.329</td>\n",
              "      <td>0.141</td>\n",
              "      <td>0.314</td>\n",
              "      <td>0.396</td>\n",
              "      <td>-0.577</td>\n",
              "      <td>0.001</td>\n",
              "      <td>0.232</td>\n",
              "      <td>0.578</td>\n",
              "      <td>-0.038</td>\n",
              "      <td>0.640</td>\n",
              "      <td>0.266</td>\n",
              "      <td>-0.087</td>\n",
              "      <td>0.004</td>\n",
              "      <td>-0.027</td>\n",
              "      <td>67.880</td>\n",
              "      <td>0</td>\n",
              "    </tr>\n",
              "    <tr>\n",
              "      <th>284805</th>\n",
              "      <td>172788.000</td>\n",
              "      <td>-0.240</td>\n",
              "      <td>0.530</td>\n",
              "      <td>0.703</td>\n",
              "      <td>0.690</td>\n",
              "      <td>-0.378</td>\n",
              "      <td>0.624</td>\n",
              "      <td>-0.686</td>\n",
              "      <td>0.679</td>\n",
              "      <td>0.392</td>\n",
              "      <td>-0.399</td>\n",
              "      <td>-1.934</td>\n",
              "      <td>-0.963</td>\n",
              "      <td>-1.042</td>\n",
              "      <td>0.450</td>\n",
              "      <td>1.963</td>\n",
              "      <td>-0.609</td>\n",
              "      <td>0.510</td>\n",
              "      <td>1.114</td>\n",
              "      <td>2.898</td>\n",
              "      <td>0.127</td>\n",
              "      <td>0.265</td>\n",
              "      <td>0.800</td>\n",
              "      <td>-0.163</td>\n",
              "      <td>0.123</td>\n",
              "      <td>-0.569</td>\n",
              "      <td>0.547</td>\n",
              "      <td>0.109</td>\n",
              "      <td>0.105</td>\n",
              "      <td>10.000</td>\n",
              "      <td>0</td>\n",
              "    </tr>\n",
              "    <tr>\n",
              "      <th>284806</th>\n",
              "      <td>172792.000</td>\n",
              "      <td>-0.533</td>\n",
              "      <td>-0.190</td>\n",
              "      <td>0.703</td>\n",
              "      <td>-0.506</td>\n",
              "      <td>-0.013</td>\n",
              "      <td>-0.650</td>\n",
              "      <td>1.577</td>\n",
              "      <td>-0.415</td>\n",
              "      <td>0.486</td>\n",
              "      <td>-0.915</td>\n",
              "      <td>-1.040</td>\n",
              "      <td>-0.032</td>\n",
              "      <td>-0.188</td>\n",
              "      <td>-0.084</td>\n",
              "      <td>0.041</td>\n",
              "      <td>-0.303</td>\n",
              "      <td>-0.660</td>\n",
              "      <td>0.167</td>\n",
              "      <td>-0.256</td>\n",
              "      <td>0.383</td>\n",
              "      <td>0.261</td>\n",
              "      <td>0.643</td>\n",
              "      <td>0.377</td>\n",
              "      <td>0.009</td>\n",
              "      <td>-0.474</td>\n",
              "      <td>-0.818</td>\n",
              "      <td>-0.002</td>\n",
              "      <td>0.014</td>\n",
              "      <td>217.000</td>\n",
              "      <td>0</td>\n",
              "    </tr>\n",
              "  </tbody>\n",
              "</table>\n",
              "</div>\n",
              "      <button class=\"colab-df-convert\" onclick=\"convertToInteractive('df-11a36f58-5b5e-4dd5-9c70-5db8401df516')\"\n",
              "              title=\"Convert this dataframe to an interactive table.\"\n",
              "              style=\"display:none;\">\n",
              "        \n",
              "  <svg xmlns=\"http://www.w3.org/2000/svg\" height=\"24px\"viewBox=\"0 0 24 24\"\n",
              "       width=\"24px\">\n",
              "    <path d=\"M0 0h24v24H0V0z\" fill=\"none\"/>\n",
              "    <path d=\"M18.56 5.44l.94 2.06.94-2.06 2.06-.94-2.06-.94-.94-2.06-.94 2.06-2.06.94zm-11 1L8.5 8.5l.94-2.06 2.06-.94-2.06-.94L8.5 2.5l-.94 2.06-2.06.94zm10 10l.94 2.06.94-2.06 2.06-.94-2.06-.94-.94-2.06-.94 2.06-2.06.94z\"/><path d=\"M17.41 7.96l-1.37-1.37c-.4-.4-.92-.59-1.43-.59-.52 0-1.04.2-1.43.59L10.3 9.45l-7.72 7.72c-.78.78-.78 2.05 0 2.83L4 21.41c.39.39.9.59 1.41.59.51 0 1.02-.2 1.41-.59l7.78-7.78 2.81-2.81c.8-.78.8-2.07 0-2.86zM5.41 20L4 18.59l7.72-7.72 1.47 1.35L5.41 20z\"/>\n",
              "  </svg>\n",
              "      </button>\n",
              "      \n",
              "  <style>\n",
              "    .colab-df-container {\n",
              "      display:flex;\n",
              "      flex-wrap:wrap;\n",
              "      gap: 12px;\n",
              "    }\n",
              "\n",
              "    .colab-df-convert {\n",
              "      background-color: #E8F0FE;\n",
              "      border: none;\n",
              "      border-radius: 50%;\n",
              "      cursor: pointer;\n",
              "      display: none;\n",
              "      fill: #1967D2;\n",
              "      height: 32px;\n",
              "      padding: 0 0 0 0;\n",
              "      width: 32px;\n",
              "    }\n",
              "\n",
              "    .colab-df-convert:hover {\n",
              "      background-color: #E2EBFA;\n",
              "      box-shadow: 0px 1px 2px rgba(60, 64, 67, 0.3), 0px 1px 3px 1px rgba(60, 64, 67, 0.15);\n",
              "      fill: #174EA6;\n",
              "    }\n",
              "\n",
              "    [theme=dark] .colab-df-convert {\n",
              "      background-color: #3B4455;\n",
              "      fill: #D2E3FC;\n",
              "    }\n",
              "\n",
              "    [theme=dark] .colab-df-convert:hover {\n",
              "      background-color: #434B5C;\n",
              "      box-shadow: 0px 1px 3px 1px rgba(0, 0, 0, 0.15);\n",
              "      filter: drop-shadow(0px 1px 2px rgba(0, 0, 0, 0.3));\n",
              "      fill: #FFFFFF;\n",
              "    }\n",
              "  </style>\n",
              "\n",
              "      <script>\n",
              "        const buttonEl =\n",
              "          document.querySelector('#df-11a36f58-5b5e-4dd5-9c70-5db8401df516 button.colab-df-convert');\n",
              "        buttonEl.style.display =\n",
              "          google.colab.kernel.accessAllowed ? 'block' : 'none';\n",
              "\n",
              "        async function convertToInteractive(key) {\n",
              "          const element = document.querySelector('#df-11a36f58-5b5e-4dd5-9c70-5db8401df516');\n",
              "          const dataTable =\n",
              "            await google.colab.kernel.invokeFunction('convertToInteractive',\n",
              "                                                     [key], {});\n",
              "          if (!dataTable) return;\n",
              "\n",
              "          const docLinkHtml = 'Like what you see? Visit the ' +\n",
              "            '<a target=\"_blank\" href=https://colab.research.google.com/notebooks/data_table.ipynb>data table notebook</a>'\n",
              "            + ' to learn more about interactive tables.';\n",
              "          element.innerHTML = '';\n",
              "          dataTable['output_type'] = 'display_data';\n",
              "          await google.colab.output.renderOutput(dataTable, element);\n",
              "          const docLink = document.createElement('div');\n",
              "          docLink.innerHTML = docLinkHtml;\n",
              "          element.appendChild(docLink);\n",
              "        }\n",
              "      </script>\n",
              "    </div>\n",
              "  </div>\n",
              "  "
            ]
          },
          "metadata": {},
          "execution_count": 178
        }
      ]
    },
    {
      "cell_type": "code",
      "source": [
        "data = dataOriginal.copy()"
      ],
      "metadata": {
        "id": "BaaU5vAJ3cmm"
      },
      "execution_count": null,
      "outputs": []
    },
    {
      "cell_type": "code",
      "execution_count": null,
      "metadata": {
        "colab": {
          "base_uri": "https://localhost:8080/"
        },
        "id": "Lb6OwHLyiojQ",
        "outputId": "421b2c92-e2c5-4ea3-b456-ad710a001f97"
      },
      "outputs": [
        {
          "output_type": "execute_result",
          "data": {
            "text/plain": [
              "(284807, 31)"
            ]
          },
          "metadata": {},
          "execution_count": 180
        }
      ],
      "source": [
        "#The number of rows and number of columns in the dataset\n",
        "data.shape"
      ]
    },
    {
      "cell_type": "code",
      "execution_count": null,
      "metadata": {
        "colab": {
          "base_uri": "https://localhost:8080/"
        },
        "id": "WwtpCJhQgs2H",
        "outputId": "60b0333f-4156-4c01-82c9-1d9f50406b37"
      },
      "outputs": [
        {
          "output_type": "execute_result",
          "data": {
            "text/plain": [
              "0    284315\n",
              "1       492\n",
              "Name: Class, dtype: int64"
            ]
          },
          "metadata": {},
          "execution_count": 181
        }
      ],
      "source": [
        "#Counts of unique values in the target variable\n",
        "data[\"Class\"].value_counts()"
      ]
    },
    {
      "cell_type": "code",
      "source": [
        "# function to plot a boxplot and a histogram along the same scale.\n",
        "\n",
        "\n",
        "def histogram_boxplot(data, feature, figsize=(12, 7), kde=False, bins=None):\n",
        "    \"\"\"\n",
        "    Boxplot and histogram combined\n",
        "\n",
        "    data: dataframe\n",
        "    feature: dataframe column\n",
        "    figsize: size of figure (default (12,7))\n",
        "    kde: whether to the show density curve (default False)\n",
        "    bins: number of bins for histogram (default None)\n",
        "    \"\"\"\n",
        "    f2, (ax_box2, ax_hist2) = plt.subplots(\n",
        "        nrows=2,  # Number of rows of the subplot grid= 2\n",
        "        sharex=True,  # x-axis will be shared among all subplots\n",
        "        gridspec_kw={\"height_ratios\": (0.25, 0.75)},\n",
        "        figsize=figsize,\n",
        "    )  # creating the 2 subplots\n",
        "    sns.boxplot(\n",
        "        data=data, x=feature, ax=ax_box2, showmeans=True, color=\"violet\"\n",
        "    )  # boxplot will be created and a star will indicate the mean value of the column\n",
        "    sns.histplot(\n",
        "        data=data, x=feature, kde=kde, ax=ax_hist2, bins=bins, palette=\"winter\"\n",
        "    ) if bins else sns.histplot(\n",
        "        data=data, x=feature, kde=kde, ax=ax_hist2\n",
        "    )  # For histogram\n",
        "    ax_hist2.axvline(\n",
        "        data[feature].mean(), color=\"green\", linestyle=\"--\"\n",
        "    )  # Add mean to the histogram\n",
        "    ax_hist2.axvline(\n",
        "        data[feature].median(), color=\"black\", linestyle=\"-\"\n",
        "    )  # Add median to the histogram"
      ],
      "metadata": {
        "id": "XCln7XfR6F7d"
      },
      "execution_count": null,
      "outputs": []
    },
    {
      "cell_type": "code",
      "source": [
        "data.info()"
      ],
      "metadata": {
        "colab": {
          "base_uri": "https://localhost:8080/"
        },
        "id": "tI1xlIjp3BM4",
        "outputId": "09affacd-0845-4c64-84db-3e6320d465f6"
      },
      "execution_count": null,
      "outputs": [
        {
          "output_type": "stream",
          "name": "stdout",
          "text": [
            "<class 'pandas.core.frame.DataFrame'>\n",
            "RangeIndex: 284807 entries, 0 to 284806\n",
            "Data columns (total 31 columns):\n",
            " #   Column  Non-Null Count   Dtype  \n",
            "---  ------  --------------   -----  \n",
            " 0   Time    284807 non-null  float64\n",
            " 1   V1      284807 non-null  float64\n",
            " 2   V2      284807 non-null  float64\n",
            " 3   V3      284807 non-null  float64\n",
            " 4   V4      284807 non-null  float64\n",
            " 5   V5      284807 non-null  float64\n",
            " 6   V6      284807 non-null  float64\n",
            " 7   V7      284807 non-null  float64\n",
            " 8   V8      284807 non-null  float64\n",
            " 9   V9      284807 non-null  float64\n",
            " 10  V10     284807 non-null  float64\n",
            " 11  V11     284807 non-null  float64\n",
            " 12  V12     284807 non-null  float64\n",
            " 13  V13     284807 non-null  float64\n",
            " 14  V14     284807 non-null  float64\n",
            " 15  V15     284807 non-null  float64\n",
            " 16  V16     284807 non-null  float64\n",
            " 17  V17     284807 non-null  float64\n",
            " 18  V18     284807 non-null  float64\n",
            " 19  V19     284807 non-null  float64\n",
            " 20  V20     284807 non-null  float64\n",
            " 21  V21     284807 non-null  float64\n",
            " 22  V22     284807 non-null  float64\n",
            " 23  V23     284807 non-null  float64\n",
            " 24  V24     284807 non-null  float64\n",
            " 25  V25     284807 non-null  float64\n",
            " 26  V26     284807 non-null  float64\n",
            " 27  V27     284807 non-null  float64\n",
            " 28  V28     284807 non-null  float64\n",
            " 29  Amount  284807 non-null  float64\n",
            " 30  Class   284807 non-null  int64  \n",
            "dtypes: float64(30), int64(1)\n",
            "memory usage: 67.4 MB\n"
          ]
        }
      ]
    },
    {
      "cell_type": "code",
      "source": [
        "data.describe().T"
      ],
      "metadata": {
        "colab": {
          "base_uri": "https://localhost:8080/",
          "height": 1000
        },
        "id": "aTadtxoC3BKY",
        "outputId": "e5d71af6-be53-4865-f83b-b5ffb5625bb3"
      },
      "execution_count": null,
      "outputs": [
        {
          "output_type": "execute_result",
          "data": {
            "text/plain": [
              "            count      mean       std      min       25%       50%        75%  \\\n",
              "Time   284807.000 94813.860 47488.146    0.000 54201.500 84692.000 139320.500   \n",
              "V1     284807.000     0.000     1.959  -56.408    -0.920     0.018      1.316   \n",
              "V2     284807.000     0.000     1.651  -72.716    -0.599     0.065      0.804   \n",
              "V3     284807.000    -0.000     1.516  -48.326    -0.890     0.180      1.027   \n",
              "V4     284807.000     0.000     1.416   -5.683    -0.849    -0.020      0.743   \n",
              "V5     284807.000    -0.000     1.380 -113.743    -0.692    -0.054      0.612   \n",
              "V6     284807.000     0.000     1.332  -26.161    -0.768    -0.274      0.399   \n",
              "V7     284807.000    -0.000     1.237  -43.557    -0.554     0.040      0.570   \n",
              "V8     284807.000    -0.000     1.194  -73.217    -0.209     0.022      0.327   \n",
              "V9     284807.000    -0.000     1.099  -13.434    -0.643    -0.051      0.597   \n",
              "V10    284807.000     0.000     1.089  -24.588    -0.535    -0.093      0.454   \n",
              "V11    284807.000     0.000     1.021   -4.797    -0.762    -0.033      0.740   \n",
              "V12    284807.000    -0.000     0.999  -18.684    -0.406     0.140      0.618   \n",
              "V13    284807.000     0.000     0.995   -5.792    -0.649    -0.014      0.663   \n",
              "V14    284807.000     0.000     0.959  -19.214    -0.426     0.051      0.493   \n",
              "V15    284807.000     0.000     0.915   -4.499    -0.583     0.048      0.649   \n",
              "V16    284807.000     0.000     0.876  -14.130    -0.468     0.066      0.523   \n",
              "V17    284807.000    -0.000     0.849  -25.163    -0.484    -0.066      0.400   \n",
              "V18    284807.000     0.000     0.838   -9.499    -0.499    -0.004      0.501   \n",
              "V19    284807.000     0.000     0.814   -7.214    -0.456     0.004      0.459   \n",
              "V20    284807.000     0.000     0.771  -54.498    -0.212    -0.062      0.133   \n",
              "V21    284807.000     0.000     0.735  -34.830    -0.228    -0.029      0.186   \n",
              "V22    284807.000     0.000     0.726  -10.933    -0.542     0.007      0.529   \n",
              "V23    284807.000     0.000     0.624  -44.808    -0.162    -0.011      0.148   \n",
              "V24    284807.000     0.000     0.606   -2.837    -0.355     0.041      0.440   \n",
              "V25    284807.000     0.000     0.521  -10.295    -0.317     0.017      0.351   \n",
              "V26    284807.000     0.000     0.482   -2.605    -0.327    -0.052      0.241   \n",
              "V27    284807.000    -0.000     0.404  -22.566    -0.071     0.001      0.091   \n",
              "V28    284807.000    -0.000     0.330  -15.430    -0.053     0.011      0.078   \n",
              "Amount 284807.000    88.350   250.120    0.000     5.600    22.000     77.165   \n",
              "Class  284807.000     0.002     0.042    0.000     0.000     0.000      0.000   \n",
              "\n",
              "              max  \n",
              "Time   172792.000  \n",
              "V1          2.455  \n",
              "V2         22.058  \n",
              "V3          9.383  \n",
              "V4         16.875  \n",
              "V5         34.802  \n",
              "V6         73.302  \n",
              "V7        120.589  \n",
              "V8         20.007  \n",
              "V9         15.595  \n",
              "V10        23.745  \n",
              "V11        12.019  \n",
              "V12         7.848  \n",
              "V13         7.127  \n",
              "V14        10.527  \n",
              "V15         8.878  \n",
              "V16        17.315  \n",
              "V17         9.254  \n",
              "V18         5.041  \n",
              "V19         5.592  \n",
              "V20        39.421  \n",
              "V21        27.203  \n",
              "V22        10.503  \n",
              "V23        22.528  \n",
              "V24         4.585  \n",
              "V25         7.520  \n",
              "V26         3.517  \n",
              "V27        31.612  \n",
              "V28        33.848  \n",
              "Amount  25691.160  \n",
              "Class       1.000  "
            ],
            "text/html": [
              "\n",
              "  <div id=\"df-8362650a-88f0-4dd6-bfb7-a73bd47cd133\">\n",
              "    <div class=\"colab-df-container\">\n",
              "      <div>\n",
              "<style scoped>\n",
              "    .dataframe tbody tr th:only-of-type {\n",
              "        vertical-align: middle;\n",
              "    }\n",
              "\n",
              "    .dataframe tbody tr th {\n",
              "        vertical-align: top;\n",
              "    }\n",
              "\n",
              "    .dataframe thead th {\n",
              "        text-align: right;\n",
              "    }\n",
              "</style>\n",
              "<table border=\"1\" class=\"dataframe\">\n",
              "  <thead>\n",
              "    <tr style=\"text-align: right;\">\n",
              "      <th></th>\n",
              "      <th>count</th>\n",
              "      <th>mean</th>\n",
              "      <th>std</th>\n",
              "      <th>min</th>\n",
              "      <th>25%</th>\n",
              "      <th>50%</th>\n",
              "      <th>75%</th>\n",
              "      <th>max</th>\n",
              "    </tr>\n",
              "  </thead>\n",
              "  <tbody>\n",
              "    <tr>\n",
              "      <th>Time</th>\n",
              "      <td>284807.000</td>\n",
              "      <td>94813.860</td>\n",
              "      <td>47488.146</td>\n",
              "      <td>0.000</td>\n",
              "      <td>54201.500</td>\n",
              "      <td>84692.000</td>\n",
              "      <td>139320.500</td>\n",
              "      <td>172792.000</td>\n",
              "    </tr>\n",
              "    <tr>\n",
              "      <th>V1</th>\n",
              "      <td>284807.000</td>\n",
              "      <td>0.000</td>\n",
              "      <td>1.959</td>\n",
              "      <td>-56.408</td>\n",
              "      <td>-0.920</td>\n",
              "      <td>0.018</td>\n",
              "      <td>1.316</td>\n",
              "      <td>2.455</td>\n",
              "    </tr>\n",
              "    <tr>\n",
              "      <th>V2</th>\n",
              "      <td>284807.000</td>\n",
              "      <td>0.000</td>\n",
              "      <td>1.651</td>\n",
              "      <td>-72.716</td>\n",
              "      <td>-0.599</td>\n",
              "      <td>0.065</td>\n",
              "      <td>0.804</td>\n",
              "      <td>22.058</td>\n",
              "    </tr>\n",
              "    <tr>\n",
              "      <th>V3</th>\n",
              "      <td>284807.000</td>\n",
              "      <td>-0.000</td>\n",
              "      <td>1.516</td>\n",
              "      <td>-48.326</td>\n",
              "      <td>-0.890</td>\n",
              "      <td>0.180</td>\n",
              "      <td>1.027</td>\n",
              "      <td>9.383</td>\n",
              "    </tr>\n",
              "    <tr>\n",
              "      <th>V4</th>\n",
              "      <td>284807.000</td>\n",
              "      <td>0.000</td>\n",
              "      <td>1.416</td>\n",
              "      <td>-5.683</td>\n",
              "      <td>-0.849</td>\n",
              "      <td>-0.020</td>\n",
              "      <td>0.743</td>\n",
              "      <td>16.875</td>\n",
              "    </tr>\n",
              "    <tr>\n",
              "      <th>V5</th>\n",
              "      <td>284807.000</td>\n",
              "      <td>-0.000</td>\n",
              "      <td>1.380</td>\n",
              "      <td>-113.743</td>\n",
              "      <td>-0.692</td>\n",
              "      <td>-0.054</td>\n",
              "      <td>0.612</td>\n",
              "      <td>34.802</td>\n",
              "    </tr>\n",
              "    <tr>\n",
              "      <th>V6</th>\n",
              "      <td>284807.000</td>\n",
              "      <td>0.000</td>\n",
              "      <td>1.332</td>\n",
              "      <td>-26.161</td>\n",
              "      <td>-0.768</td>\n",
              "      <td>-0.274</td>\n",
              "      <td>0.399</td>\n",
              "      <td>73.302</td>\n",
              "    </tr>\n",
              "    <tr>\n",
              "      <th>V7</th>\n",
              "      <td>284807.000</td>\n",
              "      <td>-0.000</td>\n",
              "      <td>1.237</td>\n",
              "      <td>-43.557</td>\n",
              "      <td>-0.554</td>\n",
              "      <td>0.040</td>\n",
              "      <td>0.570</td>\n",
              "      <td>120.589</td>\n",
              "    </tr>\n",
              "    <tr>\n",
              "      <th>V8</th>\n",
              "      <td>284807.000</td>\n",
              "      <td>-0.000</td>\n",
              "      <td>1.194</td>\n",
              "      <td>-73.217</td>\n",
              "      <td>-0.209</td>\n",
              "      <td>0.022</td>\n",
              "      <td>0.327</td>\n",
              "      <td>20.007</td>\n",
              "    </tr>\n",
              "    <tr>\n",
              "      <th>V9</th>\n",
              "      <td>284807.000</td>\n",
              "      <td>-0.000</td>\n",
              "      <td>1.099</td>\n",
              "      <td>-13.434</td>\n",
              "      <td>-0.643</td>\n",
              "      <td>-0.051</td>\n",
              "      <td>0.597</td>\n",
              "      <td>15.595</td>\n",
              "    </tr>\n",
              "    <tr>\n",
              "      <th>V10</th>\n",
              "      <td>284807.000</td>\n",
              "      <td>0.000</td>\n",
              "      <td>1.089</td>\n",
              "      <td>-24.588</td>\n",
              "      <td>-0.535</td>\n",
              "      <td>-0.093</td>\n",
              "      <td>0.454</td>\n",
              "      <td>23.745</td>\n",
              "    </tr>\n",
              "    <tr>\n",
              "      <th>V11</th>\n",
              "      <td>284807.000</td>\n",
              "      <td>0.000</td>\n",
              "      <td>1.021</td>\n",
              "      <td>-4.797</td>\n",
              "      <td>-0.762</td>\n",
              "      <td>-0.033</td>\n",
              "      <td>0.740</td>\n",
              "      <td>12.019</td>\n",
              "    </tr>\n",
              "    <tr>\n",
              "      <th>V12</th>\n",
              "      <td>284807.000</td>\n",
              "      <td>-0.000</td>\n",
              "      <td>0.999</td>\n",
              "      <td>-18.684</td>\n",
              "      <td>-0.406</td>\n",
              "      <td>0.140</td>\n",
              "      <td>0.618</td>\n",
              "      <td>7.848</td>\n",
              "    </tr>\n",
              "    <tr>\n",
              "      <th>V13</th>\n",
              "      <td>284807.000</td>\n",
              "      <td>0.000</td>\n",
              "      <td>0.995</td>\n",
              "      <td>-5.792</td>\n",
              "      <td>-0.649</td>\n",
              "      <td>-0.014</td>\n",
              "      <td>0.663</td>\n",
              "      <td>7.127</td>\n",
              "    </tr>\n",
              "    <tr>\n",
              "      <th>V14</th>\n",
              "      <td>284807.000</td>\n",
              "      <td>0.000</td>\n",
              "      <td>0.959</td>\n",
              "      <td>-19.214</td>\n",
              "      <td>-0.426</td>\n",
              "      <td>0.051</td>\n",
              "      <td>0.493</td>\n",
              "      <td>10.527</td>\n",
              "    </tr>\n",
              "    <tr>\n",
              "      <th>V15</th>\n",
              "      <td>284807.000</td>\n",
              "      <td>0.000</td>\n",
              "      <td>0.915</td>\n",
              "      <td>-4.499</td>\n",
              "      <td>-0.583</td>\n",
              "      <td>0.048</td>\n",
              "      <td>0.649</td>\n",
              "      <td>8.878</td>\n",
              "    </tr>\n",
              "    <tr>\n",
              "      <th>V16</th>\n",
              "      <td>284807.000</td>\n",
              "      <td>0.000</td>\n",
              "      <td>0.876</td>\n",
              "      <td>-14.130</td>\n",
              "      <td>-0.468</td>\n",
              "      <td>0.066</td>\n",
              "      <td>0.523</td>\n",
              "      <td>17.315</td>\n",
              "    </tr>\n",
              "    <tr>\n",
              "      <th>V17</th>\n",
              "      <td>284807.000</td>\n",
              "      <td>-0.000</td>\n",
              "      <td>0.849</td>\n",
              "      <td>-25.163</td>\n",
              "      <td>-0.484</td>\n",
              "      <td>-0.066</td>\n",
              "      <td>0.400</td>\n",
              "      <td>9.254</td>\n",
              "    </tr>\n",
              "    <tr>\n",
              "      <th>V18</th>\n",
              "      <td>284807.000</td>\n",
              "      <td>0.000</td>\n",
              "      <td>0.838</td>\n",
              "      <td>-9.499</td>\n",
              "      <td>-0.499</td>\n",
              "      <td>-0.004</td>\n",
              "      <td>0.501</td>\n",
              "      <td>5.041</td>\n",
              "    </tr>\n",
              "    <tr>\n",
              "      <th>V19</th>\n",
              "      <td>284807.000</td>\n",
              "      <td>0.000</td>\n",
              "      <td>0.814</td>\n",
              "      <td>-7.214</td>\n",
              "      <td>-0.456</td>\n",
              "      <td>0.004</td>\n",
              "      <td>0.459</td>\n",
              "      <td>5.592</td>\n",
              "    </tr>\n",
              "    <tr>\n",
              "      <th>V20</th>\n",
              "      <td>284807.000</td>\n",
              "      <td>0.000</td>\n",
              "      <td>0.771</td>\n",
              "      <td>-54.498</td>\n",
              "      <td>-0.212</td>\n",
              "      <td>-0.062</td>\n",
              "      <td>0.133</td>\n",
              "      <td>39.421</td>\n",
              "    </tr>\n",
              "    <tr>\n",
              "      <th>V21</th>\n",
              "      <td>284807.000</td>\n",
              "      <td>0.000</td>\n",
              "      <td>0.735</td>\n",
              "      <td>-34.830</td>\n",
              "      <td>-0.228</td>\n",
              "      <td>-0.029</td>\n",
              "      <td>0.186</td>\n",
              "      <td>27.203</td>\n",
              "    </tr>\n",
              "    <tr>\n",
              "      <th>V22</th>\n",
              "      <td>284807.000</td>\n",
              "      <td>0.000</td>\n",
              "      <td>0.726</td>\n",
              "      <td>-10.933</td>\n",
              "      <td>-0.542</td>\n",
              "      <td>0.007</td>\n",
              "      <td>0.529</td>\n",
              "      <td>10.503</td>\n",
              "    </tr>\n",
              "    <tr>\n",
              "      <th>V23</th>\n",
              "      <td>284807.000</td>\n",
              "      <td>0.000</td>\n",
              "      <td>0.624</td>\n",
              "      <td>-44.808</td>\n",
              "      <td>-0.162</td>\n",
              "      <td>-0.011</td>\n",
              "      <td>0.148</td>\n",
              "      <td>22.528</td>\n",
              "    </tr>\n",
              "    <tr>\n",
              "      <th>V24</th>\n",
              "      <td>284807.000</td>\n",
              "      <td>0.000</td>\n",
              "      <td>0.606</td>\n",
              "      <td>-2.837</td>\n",
              "      <td>-0.355</td>\n",
              "      <td>0.041</td>\n",
              "      <td>0.440</td>\n",
              "      <td>4.585</td>\n",
              "    </tr>\n",
              "    <tr>\n",
              "      <th>V25</th>\n",
              "      <td>284807.000</td>\n",
              "      <td>0.000</td>\n",
              "      <td>0.521</td>\n",
              "      <td>-10.295</td>\n",
              "      <td>-0.317</td>\n",
              "      <td>0.017</td>\n",
              "      <td>0.351</td>\n",
              "      <td>7.520</td>\n",
              "    </tr>\n",
              "    <tr>\n",
              "      <th>V26</th>\n",
              "      <td>284807.000</td>\n",
              "      <td>0.000</td>\n",
              "      <td>0.482</td>\n",
              "      <td>-2.605</td>\n",
              "      <td>-0.327</td>\n",
              "      <td>-0.052</td>\n",
              "      <td>0.241</td>\n",
              "      <td>3.517</td>\n",
              "    </tr>\n",
              "    <tr>\n",
              "      <th>V27</th>\n",
              "      <td>284807.000</td>\n",
              "      <td>-0.000</td>\n",
              "      <td>0.404</td>\n",
              "      <td>-22.566</td>\n",
              "      <td>-0.071</td>\n",
              "      <td>0.001</td>\n",
              "      <td>0.091</td>\n",
              "      <td>31.612</td>\n",
              "    </tr>\n",
              "    <tr>\n",
              "      <th>V28</th>\n",
              "      <td>284807.000</td>\n",
              "      <td>-0.000</td>\n",
              "      <td>0.330</td>\n",
              "      <td>-15.430</td>\n",
              "      <td>-0.053</td>\n",
              "      <td>0.011</td>\n",
              "      <td>0.078</td>\n",
              "      <td>33.848</td>\n",
              "    </tr>\n",
              "    <tr>\n",
              "      <th>Amount</th>\n",
              "      <td>284807.000</td>\n",
              "      <td>88.350</td>\n",
              "      <td>250.120</td>\n",
              "      <td>0.000</td>\n",
              "      <td>5.600</td>\n",
              "      <td>22.000</td>\n",
              "      <td>77.165</td>\n",
              "      <td>25691.160</td>\n",
              "    </tr>\n",
              "    <tr>\n",
              "      <th>Class</th>\n",
              "      <td>284807.000</td>\n",
              "      <td>0.002</td>\n",
              "      <td>0.042</td>\n",
              "      <td>0.000</td>\n",
              "      <td>0.000</td>\n",
              "      <td>0.000</td>\n",
              "      <td>0.000</td>\n",
              "      <td>1.000</td>\n",
              "    </tr>\n",
              "  </tbody>\n",
              "</table>\n",
              "</div>\n",
              "      <button class=\"colab-df-convert\" onclick=\"convertToInteractive('df-8362650a-88f0-4dd6-bfb7-a73bd47cd133')\"\n",
              "              title=\"Convert this dataframe to an interactive table.\"\n",
              "              style=\"display:none;\">\n",
              "        \n",
              "  <svg xmlns=\"http://www.w3.org/2000/svg\" height=\"24px\"viewBox=\"0 0 24 24\"\n",
              "       width=\"24px\">\n",
              "    <path d=\"M0 0h24v24H0V0z\" fill=\"none\"/>\n",
              "    <path d=\"M18.56 5.44l.94 2.06.94-2.06 2.06-.94-2.06-.94-.94-2.06-.94 2.06-2.06.94zm-11 1L8.5 8.5l.94-2.06 2.06-.94-2.06-.94L8.5 2.5l-.94 2.06-2.06.94zm10 10l.94 2.06.94-2.06 2.06-.94-2.06-.94-.94-2.06-.94 2.06-2.06.94z\"/><path d=\"M17.41 7.96l-1.37-1.37c-.4-.4-.92-.59-1.43-.59-.52 0-1.04.2-1.43.59L10.3 9.45l-7.72 7.72c-.78.78-.78 2.05 0 2.83L4 21.41c.39.39.9.59 1.41.59.51 0 1.02-.2 1.41-.59l7.78-7.78 2.81-2.81c.8-.78.8-2.07 0-2.86zM5.41 20L4 18.59l7.72-7.72 1.47 1.35L5.41 20z\"/>\n",
              "  </svg>\n",
              "      </button>\n",
              "      \n",
              "  <style>\n",
              "    .colab-df-container {\n",
              "      display:flex;\n",
              "      flex-wrap:wrap;\n",
              "      gap: 12px;\n",
              "    }\n",
              "\n",
              "    .colab-df-convert {\n",
              "      background-color: #E8F0FE;\n",
              "      border: none;\n",
              "      border-radius: 50%;\n",
              "      cursor: pointer;\n",
              "      display: none;\n",
              "      fill: #1967D2;\n",
              "      height: 32px;\n",
              "      padding: 0 0 0 0;\n",
              "      width: 32px;\n",
              "    }\n",
              "\n",
              "    .colab-df-convert:hover {\n",
              "      background-color: #E2EBFA;\n",
              "      box-shadow: 0px 1px 2px rgba(60, 64, 67, 0.3), 0px 1px 3px 1px rgba(60, 64, 67, 0.15);\n",
              "      fill: #174EA6;\n",
              "    }\n",
              "\n",
              "    [theme=dark] .colab-df-convert {\n",
              "      background-color: #3B4455;\n",
              "      fill: #D2E3FC;\n",
              "    }\n",
              "\n",
              "    [theme=dark] .colab-df-convert:hover {\n",
              "      background-color: #434B5C;\n",
              "      box-shadow: 0px 1px 3px 1px rgba(0, 0, 0, 0.15);\n",
              "      filter: drop-shadow(0px 1px 2px rgba(0, 0, 0, 0.3));\n",
              "      fill: #FFFFFF;\n",
              "    }\n",
              "  </style>\n",
              "\n",
              "      <script>\n",
              "        const buttonEl =\n",
              "          document.querySelector('#df-8362650a-88f0-4dd6-bfb7-a73bd47cd133 button.colab-df-convert');\n",
              "        buttonEl.style.display =\n",
              "          google.colab.kernel.accessAllowed ? 'block' : 'none';\n",
              "\n",
              "        async function convertToInteractive(key) {\n",
              "          const element = document.querySelector('#df-8362650a-88f0-4dd6-bfb7-a73bd47cd133');\n",
              "          const dataTable =\n",
              "            await google.colab.kernel.invokeFunction('convertToInteractive',\n",
              "                                                     [key], {});\n",
              "          if (!dataTable) return;\n",
              "\n",
              "          const docLinkHtml = 'Like what you see? Visit the ' +\n",
              "            '<a target=\"_blank\" href=https://colab.research.google.com/notebooks/data_table.ipynb>data table notebook</a>'\n",
              "            + ' to learn more about interactive tables.';\n",
              "          element.innerHTML = '';\n",
              "          dataTable['output_type'] = 'display_data';\n",
              "          await google.colab.output.renderOutput(dataTable, element);\n",
              "          const docLink = document.createElement('div');\n",
              "          docLink.innerHTML = docLinkHtml;\n",
              "          element.appendChild(docLink);\n",
              "        }\n",
              "      </script>\n",
              "    </div>\n",
              "  </div>\n",
              "  "
            ]
          },
          "metadata": {},
          "execution_count": 184
        }
      ]
    },
    {
      "cell_type": "code",
      "source": [
        "# Showing missing data for dataframe df_train\n",
        "data.isnull().sum()"
      ],
      "metadata": {
        "colab": {
          "base_uri": "https://localhost:8080/"
        },
        "id": "PebogK2T3BG7",
        "outputId": "6cc52de1-effe-4017-eeaf-391592ada96a"
      },
      "execution_count": null,
      "outputs": [
        {
          "output_type": "execute_result",
          "data": {
            "text/plain": [
              "Time      0\n",
              "V1        0\n",
              "V2        0\n",
              "V3        0\n",
              "V4        0\n",
              "V5        0\n",
              "V6        0\n",
              "V7        0\n",
              "V8        0\n",
              "V9        0\n",
              "V10       0\n",
              "V11       0\n",
              "V12       0\n",
              "V13       0\n",
              "V14       0\n",
              "V15       0\n",
              "V16       0\n",
              "V17       0\n",
              "V18       0\n",
              "V19       0\n",
              "V20       0\n",
              "V21       0\n",
              "V22       0\n",
              "V23       0\n",
              "V24       0\n",
              "V25       0\n",
              "V26       0\n",
              "V27       0\n",
              "V28       0\n",
              "Amount    0\n",
              "Class     0\n",
              "dtype: int64"
            ]
          },
          "metadata": {},
          "execution_count": 185
        }
      ]
    },
    {
      "cell_type": "code",
      "source": [
        "# checking for duplicate values\n",
        "data[data.duplicated()].count()"
      ],
      "metadata": {
        "colab": {
          "base_uri": "https://localhost:8080/"
        },
        "id": "zYcF6U3F3BDA",
        "outputId": "5cbdfaf6-5ae4-4285-9901-421b6979a8f4"
      },
      "execution_count": null,
      "outputs": [
        {
          "output_type": "execute_result",
          "data": {
            "text/plain": [
              "Time      1081\n",
              "V1        1081\n",
              "V2        1081\n",
              "V3        1081\n",
              "V4        1081\n",
              "V5        1081\n",
              "V6        1081\n",
              "V7        1081\n",
              "V8        1081\n",
              "V9        1081\n",
              "V10       1081\n",
              "V11       1081\n",
              "V12       1081\n",
              "V13       1081\n",
              "V14       1081\n",
              "V15       1081\n",
              "V16       1081\n",
              "V17       1081\n",
              "V18       1081\n",
              "V19       1081\n",
              "V20       1081\n",
              "V21       1081\n",
              "V22       1081\n",
              "V23       1081\n",
              "V24       1081\n",
              "V25       1081\n",
              "V26       1081\n",
              "V27       1081\n",
              "V28       1081\n",
              "Amount    1081\n",
              "Class     1081\n",
              "dtype: int64"
            ]
          },
          "metadata": {},
          "execution_count": 186
        }
      ]
    },
    {
      "cell_type": "code",
      "source": [
        "data.drop_duplicates(inplace=True)"
      ],
      "metadata": {
        "id": "kDILHTRjAaP3"
      },
      "execution_count": null,
      "outputs": []
    },
    {
      "cell_type": "code",
      "source": [
        "# scaling the data before analysis\n",
        "scaler = StandardScaler()\n",
        "subset = data['Amount'].values  ## Complete the code to scale the data\n",
        "data['Amount'] = scaler.fit_transform(subset.reshape(-1, 1))"
      ],
      "metadata": {
        "id": "ZCLLHSEOAJBW"
      },
      "execution_count": null,
      "outputs": []
    },
    {
      "cell_type": "code",
      "source": [
        "data.drop(['Time'], axis=1, inplace=True)"
      ],
      "metadata": {
        "id": "iUhVLrB0ATIp"
      },
      "execution_count": null,
      "outputs": []
    },
    {
      "cell_type": "code",
      "source": [
        "data.head(5)"
      ],
      "metadata": {
        "colab": {
          "base_uri": "https://localhost:8080/",
          "height": 270
        },
        "id": "EqwCi0xM0KV5",
        "outputId": "32895cfb-4adb-4700-a421-ea54b25be3ca"
      },
      "execution_count": null,
      "outputs": [
        {
          "output_type": "execute_result",
          "data": {
            "text/plain": [
              "      V1     V2    V3     V4     V5     V6     V7     V8     V9    V10    V11  \\\n",
              "0 -1.360 -0.073 2.536  1.378 -0.338  0.462  0.240  0.099  0.364  0.091 -0.552   \n",
              "1  1.192  0.266 0.166  0.448  0.060 -0.082 -0.079  0.085 -0.255 -0.167  1.613   \n",
              "2 -1.358 -1.340 1.773  0.380 -0.503  1.800  0.791  0.248 -1.515  0.208  0.625   \n",
              "3 -0.966 -0.185 1.793 -0.863 -0.010  1.247  0.238  0.377 -1.387 -0.055 -0.226   \n",
              "4 -1.158  0.878 1.549  0.403 -0.407  0.096  0.593 -0.271  0.818  0.753 -0.823   \n",
              "\n",
              "     V12    V13    V14    V15    V16    V17    V18    V19    V20    V21  \\\n",
              "0 -0.618 -0.991 -0.311  1.468 -0.470  0.208  0.026  0.404  0.251 -0.018   \n",
              "1  1.065  0.489 -0.144  0.636  0.464 -0.115 -0.183 -0.146 -0.069 -0.226   \n",
              "2  0.066  0.717 -0.166  2.346 -2.890  1.110 -0.121 -2.262  0.525  0.248   \n",
              "3  0.178  0.508 -0.288 -0.631 -1.060 -0.684  1.966 -1.233 -0.208 -0.108   \n",
              "4  0.538  1.346 -1.120  0.175 -0.451 -0.237 -0.038  0.803  0.409 -0.009   \n",
              "\n",
              "     V22    V23    V24    V25    V26    V27    V28  Amount  Class  \n",
              "0  0.278 -0.110  0.067  0.129 -0.189  0.134 -0.021   0.244      0  \n",
              "1 -0.639  0.101 -0.340  0.167  0.126 -0.009  0.015  -0.343      0  \n",
              "2  0.772  0.909 -0.689 -0.328 -0.139 -0.055 -0.060   1.159      0  \n",
              "3  0.005 -0.190 -1.176  0.647 -0.222  0.063  0.061   0.140      0  \n",
              "4  0.798 -0.137  0.141 -0.206  0.502  0.219  0.215  -0.074      0  "
            ],
            "text/html": [
              "\n",
              "  <div id=\"df-35423b75-2e7b-4926-b6d4-68506d3fca98\">\n",
              "    <div class=\"colab-df-container\">\n",
              "      <div>\n",
              "<style scoped>\n",
              "    .dataframe tbody tr th:only-of-type {\n",
              "        vertical-align: middle;\n",
              "    }\n",
              "\n",
              "    .dataframe tbody tr th {\n",
              "        vertical-align: top;\n",
              "    }\n",
              "\n",
              "    .dataframe thead th {\n",
              "        text-align: right;\n",
              "    }\n",
              "</style>\n",
              "<table border=\"1\" class=\"dataframe\">\n",
              "  <thead>\n",
              "    <tr style=\"text-align: right;\">\n",
              "      <th></th>\n",
              "      <th>V1</th>\n",
              "      <th>V2</th>\n",
              "      <th>V3</th>\n",
              "      <th>V4</th>\n",
              "      <th>V5</th>\n",
              "      <th>V6</th>\n",
              "      <th>V7</th>\n",
              "      <th>V8</th>\n",
              "      <th>V9</th>\n",
              "      <th>V10</th>\n",
              "      <th>V11</th>\n",
              "      <th>V12</th>\n",
              "      <th>V13</th>\n",
              "      <th>V14</th>\n",
              "      <th>V15</th>\n",
              "      <th>V16</th>\n",
              "      <th>V17</th>\n",
              "      <th>V18</th>\n",
              "      <th>V19</th>\n",
              "      <th>V20</th>\n",
              "      <th>V21</th>\n",
              "      <th>V22</th>\n",
              "      <th>V23</th>\n",
              "      <th>V24</th>\n",
              "      <th>V25</th>\n",
              "      <th>V26</th>\n",
              "      <th>V27</th>\n",
              "      <th>V28</th>\n",
              "      <th>Amount</th>\n",
              "      <th>Class</th>\n",
              "    </tr>\n",
              "  </thead>\n",
              "  <tbody>\n",
              "    <tr>\n",
              "      <th>0</th>\n",
              "      <td>-1.360</td>\n",
              "      <td>-0.073</td>\n",
              "      <td>2.536</td>\n",
              "      <td>1.378</td>\n",
              "      <td>-0.338</td>\n",
              "      <td>0.462</td>\n",
              "      <td>0.240</td>\n",
              "      <td>0.099</td>\n",
              "      <td>0.364</td>\n",
              "      <td>0.091</td>\n",
              "      <td>-0.552</td>\n",
              "      <td>-0.618</td>\n",
              "      <td>-0.991</td>\n",
              "      <td>-0.311</td>\n",
              "      <td>1.468</td>\n",
              "      <td>-0.470</td>\n",
              "      <td>0.208</td>\n",
              "      <td>0.026</td>\n",
              "      <td>0.404</td>\n",
              "      <td>0.251</td>\n",
              "      <td>-0.018</td>\n",
              "      <td>0.278</td>\n",
              "      <td>-0.110</td>\n",
              "      <td>0.067</td>\n",
              "      <td>0.129</td>\n",
              "      <td>-0.189</td>\n",
              "      <td>0.134</td>\n",
              "      <td>-0.021</td>\n",
              "      <td>0.244</td>\n",
              "      <td>0</td>\n",
              "    </tr>\n",
              "    <tr>\n",
              "      <th>1</th>\n",
              "      <td>1.192</td>\n",
              "      <td>0.266</td>\n",
              "      <td>0.166</td>\n",
              "      <td>0.448</td>\n",
              "      <td>0.060</td>\n",
              "      <td>-0.082</td>\n",
              "      <td>-0.079</td>\n",
              "      <td>0.085</td>\n",
              "      <td>-0.255</td>\n",
              "      <td>-0.167</td>\n",
              "      <td>1.613</td>\n",
              "      <td>1.065</td>\n",
              "      <td>0.489</td>\n",
              "      <td>-0.144</td>\n",
              "      <td>0.636</td>\n",
              "      <td>0.464</td>\n",
              "      <td>-0.115</td>\n",
              "      <td>-0.183</td>\n",
              "      <td>-0.146</td>\n",
              "      <td>-0.069</td>\n",
              "      <td>-0.226</td>\n",
              "      <td>-0.639</td>\n",
              "      <td>0.101</td>\n",
              "      <td>-0.340</td>\n",
              "      <td>0.167</td>\n",
              "      <td>0.126</td>\n",
              "      <td>-0.009</td>\n",
              "      <td>0.015</td>\n",
              "      <td>-0.343</td>\n",
              "      <td>0</td>\n",
              "    </tr>\n",
              "    <tr>\n",
              "      <th>2</th>\n",
              "      <td>-1.358</td>\n",
              "      <td>-1.340</td>\n",
              "      <td>1.773</td>\n",
              "      <td>0.380</td>\n",
              "      <td>-0.503</td>\n",
              "      <td>1.800</td>\n",
              "      <td>0.791</td>\n",
              "      <td>0.248</td>\n",
              "      <td>-1.515</td>\n",
              "      <td>0.208</td>\n",
              "      <td>0.625</td>\n",
              "      <td>0.066</td>\n",
              "      <td>0.717</td>\n",
              "      <td>-0.166</td>\n",
              "      <td>2.346</td>\n",
              "      <td>-2.890</td>\n",
              "      <td>1.110</td>\n",
              "      <td>-0.121</td>\n",
              "      <td>-2.262</td>\n",
              "      <td>0.525</td>\n",
              "      <td>0.248</td>\n",
              "      <td>0.772</td>\n",
              "      <td>0.909</td>\n",
              "      <td>-0.689</td>\n",
              "      <td>-0.328</td>\n",
              "      <td>-0.139</td>\n",
              "      <td>-0.055</td>\n",
              "      <td>-0.060</td>\n",
              "      <td>1.159</td>\n",
              "      <td>0</td>\n",
              "    </tr>\n",
              "    <tr>\n",
              "      <th>3</th>\n",
              "      <td>-0.966</td>\n",
              "      <td>-0.185</td>\n",
              "      <td>1.793</td>\n",
              "      <td>-0.863</td>\n",
              "      <td>-0.010</td>\n",
              "      <td>1.247</td>\n",
              "      <td>0.238</td>\n",
              "      <td>0.377</td>\n",
              "      <td>-1.387</td>\n",
              "      <td>-0.055</td>\n",
              "      <td>-0.226</td>\n",
              "      <td>0.178</td>\n",
              "      <td>0.508</td>\n",
              "      <td>-0.288</td>\n",
              "      <td>-0.631</td>\n",
              "      <td>-1.060</td>\n",
              "      <td>-0.684</td>\n",
              "      <td>1.966</td>\n",
              "      <td>-1.233</td>\n",
              "      <td>-0.208</td>\n",
              "      <td>-0.108</td>\n",
              "      <td>0.005</td>\n",
              "      <td>-0.190</td>\n",
              "      <td>-1.176</td>\n",
              "      <td>0.647</td>\n",
              "      <td>-0.222</td>\n",
              "      <td>0.063</td>\n",
              "      <td>0.061</td>\n",
              "      <td>0.140</td>\n",
              "      <td>0</td>\n",
              "    </tr>\n",
              "    <tr>\n",
              "      <th>4</th>\n",
              "      <td>-1.158</td>\n",
              "      <td>0.878</td>\n",
              "      <td>1.549</td>\n",
              "      <td>0.403</td>\n",
              "      <td>-0.407</td>\n",
              "      <td>0.096</td>\n",
              "      <td>0.593</td>\n",
              "      <td>-0.271</td>\n",
              "      <td>0.818</td>\n",
              "      <td>0.753</td>\n",
              "      <td>-0.823</td>\n",
              "      <td>0.538</td>\n",
              "      <td>1.346</td>\n",
              "      <td>-1.120</td>\n",
              "      <td>0.175</td>\n",
              "      <td>-0.451</td>\n",
              "      <td>-0.237</td>\n",
              "      <td>-0.038</td>\n",
              "      <td>0.803</td>\n",
              "      <td>0.409</td>\n",
              "      <td>-0.009</td>\n",
              "      <td>0.798</td>\n",
              "      <td>-0.137</td>\n",
              "      <td>0.141</td>\n",
              "      <td>-0.206</td>\n",
              "      <td>0.502</td>\n",
              "      <td>0.219</td>\n",
              "      <td>0.215</td>\n",
              "      <td>-0.074</td>\n",
              "      <td>0</td>\n",
              "    </tr>\n",
              "  </tbody>\n",
              "</table>\n",
              "</div>\n",
              "      <button class=\"colab-df-convert\" onclick=\"convertToInteractive('df-35423b75-2e7b-4926-b6d4-68506d3fca98')\"\n",
              "              title=\"Convert this dataframe to an interactive table.\"\n",
              "              style=\"display:none;\">\n",
              "        \n",
              "  <svg xmlns=\"http://www.w3.org/2000/svg\" height=\"24px\"viewBox=\"0 0 24 24\"\n",
              "       width=\"24px\">\n",
              "    <path d=\"M0 0h24v24H0V0z\" fill=\"none\"/>\n",
              "    <path d=\"M18.56 5.44l.94 2.06.94-2.06 2.06-.94-2.06-.94-.94-2.06-.94 2.06-2.06.94zm-11 1L8.5 8.5l.94-2.06 2.06-.94-2.06-.94L8.5 2.5l-.94 2.06-2.06.94zm10 10l.94 2.06.94-2.06 2.06-.94-2.06-.94-.94-2.06-.94 2.06-2.06.94z\"/><path d=\"M17.41 7.96l-1.37-1.37c-.4-.4-.92-.59-1.43-.59-.52 0-1.04.2-1.43.59L10.3 9.45l-7.72 7.72c-.78.78-.78 2.05 0 2.83L4 21.41c.39.39.9.59 1.41.59.51 0 1.02-.2 1.41-.59l7.78-7.78 2.81-2.81c.8-.78.8-2.07 0-2.86zM5.41 20L4 18.59l7.72-7.72 1.47 1.35L5.41 20z\"/>\n",
              "  </svg>\n",
              "      </button>\n",
              "      \n",
              "  <style>\n",
              "    .colab-df-container {\n",
              "      display:flex;\n",
              "      flex-wrap:wrap;\n",
              "      gap: 12px;\n",
              "    }\n",
              "\n",
              "    .colab-df-convert {\n",
              "      background-color: #E8F0FE;\n",
              "      border: none;\n",
              "      border-radius: 50%;\n",
              "      cursor: pointer;\n",
              "      display: none;\n",
              "      fill: #1967D2;\n",
              "      height: 32px;\n",
              "      padding: 0 0 0 0;\n",
              "      width: 32px;\n",
              "    }\n",
              "\n",
              "    .colab-df-convert:hover {\n",
              "      background-color: #E2EBFA;\n",
              "      box-shadow: 0px 1px 2px rgba(60, 64, 67, 0.3), 0px 1px 3px 1px rgba(60, 64, 67, 0.15);\n",
              "      fill: #174EA6;\n",
              "    }\n",
              "\n",
              "    [theme=dark] .colab-df-convert {\n",
              "      background-color: #3B4455;\n",
              "      fill: #D2E3FC;\n",
              "    }\n",
              "\n",
              "    [theme=dark] .colab-df-convert:hover {\n",
              "      background-color: #434B5C;\n",
              "      box-shadow: 0px 1px 3px 1px rgba(0, 0, 0, 0.15);\n",
              "      filter: drop-shadow(0px 1px 2px rgba(0, 0, 0, 0.3));\n",
              "      fill: #FFFFFF;\n",
              "    }\n",
              "  </style>\n",
              "\n",
              "      <script>\n",
              "        const buttonEl =\n",
              "          document.querySelector('#df-35423b75-2e7b-4926-b6d4-68506d3fca98 button.colab-df-convert');\n",
              "        buttonEl.style.display =\n",
              "          google.colab.kernel.accessAllowed ? 'block' : 'none';\n",
              "\n",
              "        async function convertToInteractive(key) {\n",
              "          const element = document.querySelector('#df-35423b75-2e7b-4926-b6d4-68506d3fca98');\n",
              "          const dataTable =\n",
              "            await google.colab.kernel.invokeFunction('convertToInteractive',\n",
              "                                                     [key], {});\n",
              "          if (!dataTable) return;\n",
              "\n",
              "          const docLinkHtml = 'Like what you see? Visit the ' +\n",
              "            '<a target=\"_blank\" href=https://colab.research.google.com/notebooks/data_table.ipynb>data table notebook</a>'\n",
              "            + ' to learn more about interactive tables.';\n",
              "          element.innerHTML = '';\n",
              "          dataTable['output_type'] = 'display_data';\n",
              "          await google.colab.output.renderOutput(dataTable, element);\n",
              "          const docLink = document.createElement('div');\n",
              "          docLink.innerHTML = docLinkHtml;\n",
              "          element.appendChild(docLink);\n",
              "        }\n",
              "      </script>\n",
              "    </div>\n",
              "  </div>\n",
              "  "
            ]
          },
          "metadata": {},
          "execution_count": 190
        }
      ]
    },
    {
      "cell_type": "markdown",
      "source": [
        "EDA"
      ],
      "metadata": {
        "id": "XSckgl7g7osJ"
      }
    },
    {
      "cell_type": "code",
      "source": [
        "histogram_boxplot(data, \"Amount\")"
      ],
      "metadata": {
        "colab": {
          "base_uri": "https://localhost:8080/",
          "height": 442
        },
        "id": "bKko1fRE6Xh8",
        "outputId": "d6f6d268-6b5c-4333-ef7f-e3496a766c30"
      },
      "execution_count": null,
      "outputs": [
        {
          "output_type": "display_data",
          "data": {
            "text/plain": [
              "<Figure size 864x504 with 2 Axes>"
            ],
            "image/png": "[encoded data removed]"
          },
          "metadata": {
            "needs_background": "light"
          }
        }
      ]
    },
    {
      "cell_type": "code",
      "source": [
        "histogram_boxplot(data, \"V3\")"
      ],
      "metadata": {
        "colab": {
          "base_uri": "https://localhost:8080/",
          "height": 442
        },
        "id": "5TdMmigH1QHs",
        "outputId": "46fc5eba-38ca-45c2-9253-fcd3ca514779"
      },
      "execution_count": null,
      "outputs": [
        {
          "output_type": "display_data",
          "data": {
            "text/plain": [
              "<Figure size 864x504 with 2 Axes>"
            ],
            "image/png": "[encoded data removed]"
          },
          "metadata": {
            "needs_background": "light"
          }
        }
      ]
    },
    {
      "cell_type": "code",
      "source": [
        "histogram_boxplot(data, \"V6\")"
      ],
      "metadata": {
        "colab": {
          "base_uri": "https://localhost:8080/",
          "height": 442
        },
        "id": "GNfjHLFe1P5L",
        "outputId": "40714091-2067-440b-c145-6823aa19674d"
      },
      "execution_count": null,
      "outputs": [
        {
          "output_type": "display_data",
          "data": {
            "text/plain": [
              "<Figure size 864x504 with 2 Axes>"
            ],
            "image/png": "[encoded data removed]"
          },
          "metadata": {
            "needs_background": "light"
          }
        }
      ]
    },
    {
      "cell_type": "markdown",
      "source": [
        "Bivariate Analysis"
      ],
      "metadata": {
        "id": "FZ1JlnY88JMI"
      }
    },
    {
      "cell_type": "code",
      "source": [
        "cols_list = data.select_dtypes(include=np.number).columns.tolist()\n",
        "\n",
        "plt.figure(figsize=(20, 10))\n",
        "sns.heatmap(\n",
        "    data[cols_list].corr(), annot=True, vmin=-1, vmax=1, fmt=\".2f\", cmap=\"Spectral\"\n",
        ")  ## Code to find the correlation between the variables\n",
        "plt.show()"
      ],
      "metadata": {
        "colab": {
          "base_uri": "https://localhost:8080/",
          "height": 625
        },
        "id": "a2NzKbna2h7v",
        "outputId": "2bba674c-0e95-4399-9296-2d384902066d"
      },
      "execution_count": null,
      "outputs": [
        {
          "output_type": "display_data",
          "data": {
            "text/plain": [
              "<Figure size 1440x720 with 2 Axes>"
            ],
            "image/png": "[encoded data removed]"
          },
          "metadata": {
            "needs_background": "light"
          }
        }
      ]
    },
    {
      "cell_type": "code",
      "source": [
        "# function to create labeled barplots\n",
        "\n",
        "def labeled_barplot(data, feature, perc=False, n=None):\n",
        "    \"\"\"\n",
        "    Barplot with percentage at the top\n",
        "\n",
        "    data: dataframe\n",
        "    feature: dataframe column\n",
        "    perc: whether to display percentages instead of count (default is False)\n",
        "    n: displays the top n category levels (default is None, i.e., display all levels)\n",
        "    \"\"\"\n",
        "\n",
        "    total = len(data[feature])  # length of the column\n",
        "    count = data[feature].nunique()\n",
        "    if n is None:\n",
        "        plt.figure(figsize=(count + 1, 5))\n",
        "    else:\n",
        "        plt.figure(figsize=(n + 1, 5))\n",
        "\n",
        "    plt.xticks(rotation=90, fontsize=15)\n",
        "    ax = sns.countplot(\n",
        "        data=data,\n",
        "        x=feature,\n",
        "        palette=\"Paired\",\n",
        "        order=data[feature].value_counts().index[:n].sort_values(),\n",
        "    )\n",
        "\n",
        "    for p in ax.patches:\n",
        "        if perc == True:\n",
        "            label = \"{:.1f}%\".format(\n",
        "                100 * p.get_height() / total\n",
        "            )  # percentage of each class of the category\n",
        "        else:\n",
        "            label = p.get_height()  # count of each level of the category\n",
        "\n",
        "        x = p.get_x() + p.get_width() / 2  # width of the plot\n",
        "        y = p.get_height()  # height of the plot\n",
        "\n",
        "        ax.annotate(\n",
        "            label,\n",
        "            (x, y),\n",
        "            ha=\"center\",\n",
        "            va=\"center\",\n",
        "            size=12,\n",
        "            xytext=(0, 5),\n",
        "            textcoords=\"offset points\",\n",
        "        )  # annotate the percentage\n",
        "\n",
        "    plt.show()  # show the plot"
      ],
      "metadata": {
        "id": "nQbPPSjo2h4T"
      },
      "execution_count": null,
      "outputs": []
    },
    {
      "cell_type": "code",
      "source": [
        "labeled_barplot(data, \"Class\", perc=True)"
      ],
      "metadata": {
        "colab": {
          "base_uri": "https://localhost:8080/",
          "height": 333
        },
        "id": "T3XfwC7u2h1I",
        "outputId": "624a15b3-04f6-44ad-92cb-e17230094498"
      },
      "execution_count": null,
      "outputs": [
        {
          "output_type": "display_data",
          "data": {
            "text/plain": [
              "<Figure size 216x360 with 1 Axes>"
            ],
            "image/png": "[encoded data removed]"
          },
          "metadata": {
            "needs_background": "light"
          }
        }
      ]
    },
    {
      "cell_type": "code",
      "source": [
        "def distribution_plot_wrt_target(data, predictor, target):\n",
        "\n",
        "    fig, axs = plt.subplots(2, 2, figsize=(12, 10))\n",
        "\n",
        "    target_uniq = data[target].unique()\n",
        "\n",
        "    axs[0, 0].set_title(\"Distribution of target for target=\" + str(target_uniq[0]))\n",
        "    sns.histplot(\n",
        "        data=data[data[target] == target_uniq[0]],\n",
        "        x=predictor,\n",
        "        kde=True,\n",
        "        ax=axs[0, 0],\n",
        "        color=\"teal\",\n",
        "        stat=\"density\",\n",
        "    )\n",
        "\n",
        "    axs[0, 1].set_title(\"Distribution of target for target=\" + str(target_uniq[1]))\n",
        "    sns.histplot(\n",
        "        data=data[data[target] == target_uniq[1]],\n",
        "        x=predictor,\n",
        "        kde=True,\n",
        "        ax=axs[0, 1],\n",
        "        color=\"orange\",\n",
        "        stat=\"density\",\n",
        "    )\n",
        "\n",
        "    axs[1, 0].set_title(\"Boxplot w.r.t target\")\n",
        "    sns.boxplot(data=data, x=target, y=predictor, ax=axs[1, 0], palette=\"gist_rainbow\")\n",
        "\n",
        "    axs[1, 1].set_title(\"Boxplot (without outliers) w.r.t target\")\n",
        "    sns.boxplot(\n",
        "        data=data,\n",
        "        x=target,\n",
        "        y=predictor,\n",
        "        ax=axs[1, 1],\n",
        "        showfliers=False,\n",
        "        palette=\"gist_rainbow\",\n",
        "    )\n",
        "\n",
        "    plt.tight_layout()\n",
        "    plt.show()"
      ],
      "metadata": {
        "id": "J1PC16aQ2hxk"
      },
      "execution_count": null,
      "outputs": []
    },
    {
      "cell_type": "code",
      "source": [
        "def stacked_barplot(data, predictor, target):\n",
        "    \"\"\"\n",
        "    Print the category counts and plot a stacked bar chart\n",
        "\n",
        "    data: dataframe\n",
        "    predictor: independent variable\n",
        "    target: target variable\n",
        "    \"\"\"\n",
        "    count = data[predictor].nunique()\n",
        "    sorter = data[target].value_counts().index[-1]\n",
        "    tab1 = pd.crosstab(data[predictor], data[target], margins=True).sort_values(\n",
        "        by=sorter, ascending=False\n",
        "    )\n",
        "    print(tab1)\n",
        "    print(\"-\" * 120)\n",
        "    tab = pd.crosstab(data[predictor], data[target], normalize=\"index\").sort_values(\n",
        "        by=sorter, ascending=False\n",
        "    )\n",
        "    tab.plot(kind=\"bar\", stacked=True, figsize=(count + 5, 5))\n",
        "    plt.legend(\n",
        "        loc=\"lower left\", frameon=False,\n",
        "    )\n",
        "    plt.legend(loc=\"upper left\", bbox_to_anchor=(1, 1))\n",
        "    plt.show()"
      ],
      "metadata": {
        "id": "ezO83SQ_9nqm"
      },
      "execution_count": null,
      "outputs": []
    },
    {
      "cell_type": "code",
      "source": [
        "#stacked_barplot(data, \"Amount\", \"Class\")\n",
        "distribution_plot_wrt_target(data, \"Amount\", \"Class\")"
      ],
      "metadata": {
        "colab": {
          "base_uri": "https://localhost:8080/",
          "height": 729
        },
        "id": "NyAj6cxs9nnx",
        "outputId": "bd159936-9e66-4205-944d-d981c3fcef12"
      },
      "execution_count": null,
      "outputs": [
        {
          "output_type": "display_data",
          "data": {
            "text/plain": [
              "<Figure size 864x720 with 4 Axes>"
            ],
            "image/png": "[encoded data removed]"
          },
          "metadata": {
            "needs_background": "light"
          }
        }
      ]
    },
    {
      "cell_type": "code",
      "source": [
        "dataCorrect = data.drop([\"Class\"], axis=1)\n",
        "dataLabel = data[\"Class\"]\n"
      ],
      "metadata": {
        "id": "L5MA1HmtaEwz"
      },
      "execution_count": null,
      "outputs": []
    },
    {
      "cell_type": "code",
      "source": [
        "# outlier detection using boxplot for train dataset\n",
        "numeric_columns =dataCorrect.select_dtypes(include=np.number).columns.tolist()\n",
        "\n",
        "plt.figure(figsize=(20, 30))\n",
        "\n",
        "for i, variable in enumerate(numeric_columns):\n",
        "    plt.subplot(10, 10, i + 1)\n",
        "    plt.boxplot(dataCorrect[variable], whis=1.5)\n",
        "    plt.tight_layout()\n",
        "    plt.title(variable)  ## Code to create boxplots for all the numeric columns\n",
        "plt.show()"
      ],
      "metadata": {
        "colab": {
          "base_uri": "https://localhost:8080/",
          "height": 670
        },
        "id": "NPVs4AXX9ncY",
        "outputId": "0c055421-3b09-4ba6-ba1c-c351d2110883"
      },
      "execution_count": null,
      "outputs": [
        {
          "output_type": "display_data",
          "data": {
            "text/plain": [
              "<Figure size 1440x2160 with 29 Axes>"
            ],
            "image/png": "[encoded data removed]"
          },
          "metadata": {
            "needs_background": "light"
          }
        }
      ]
    },
    {
      "cell_type": "code",
      "source": [
        "# functions to treat outliers by flooring and capping\n",
        "\n",
        "\n",
        "def treat_outliers(df, col):\n",
        "    \"\"\"\n",
        "    Treats outliers in a variable\n",
        "\n",
        "    df: dataframe\n",
        "    col: dataframe column\n",
        "    \"\"\"\n",
        "    Q1 = df[col].quantile(0.25)  # 25th quantile\n",
        "    Q3 = df[col].quantile(0.75)  # 75th quantile\n",
        "    IQR = Q3 - Q1\n",
        "    Lower_Whisker = Q1 - 1.5 * IQR\n",
        "    Upper_Whisker = Q3 + 1.5 * IQR\n",
        "\n",
        "    # all the values smaller than Lower_Whisker will be assigned the value of Lower_Whisker\n",
        "    # all the values greater than Upper_Whisker will be assigned the value of Upper_Whisker\n",
        "    df[col] = np.clip(df[col], Lower_Whisker, Upper_Whisker)\n",
        "\n",
        "    return df\n",
        "\n",
        "\n",
        "def treat_outliers_all(df, col_list):\n",
        "    \"\"\"\n",
        "    Treat outliers in a list of variables\n",
        "\n",
        "    df: dataframe\n",
        "    col_list: list of dataframe columns\n",
        "    \"\"\"\n",
        "    for c in col_list:\n",
        "        df = treat_outliers(df, c)\n",
        "\n",
        "    return df"
      ],
      "metadata": {
        "id": "cyer8_BdZBLL"
      },
      "execution_count": null,
      "outputs": []
    },
    {
      "cell_type": "code",
      "source": [
        "numerical_col = dataCorrect.select_dtypes(include=np.number).columns.tolist()\n",
        "dataCorrect = treat_outliers_all(dataCorrect, numerical_col)"
      ],
      "metadata": {
        "id": "Qz9rK8l6Y9US"
      },
      "execution_count": null,
      "outputs": []
    },
    {
      "cell_type": "code",
      "source": [
        "# let's look at box plot to see if outliers have been treated or not\n",
        "plt.figure(figsize=(20, 30))\n",
        "\n",
        "for i, variable in enumerate(numerical_col):\n",
        "    plt.subplot(5, 7, i + 1)\n",
        "    plt.boxplot(dataCorrect[variable], whis=1.5)\n",
        "    plt.tight_layout()\n",
        "    plt.title(variable)\n",
        "\n",
        "plt.show()"
      ],
      "metadata": {
        "colab": {
          "base_uri": "https://localhost:8080/",
          "height": 1000
        },
        "id": "OLVYZYd8Yy8b",
        "outputId": "8a1edf19-542f-4ea5-87d1-55ba2080948c"
      },
      "execution_count": null,
      "outputs": [
        {
          "output_type": "display_data",
          "data": {
            "text/plain": [
              "<Figure size 1440x2160 with 29 Axes>"
            ],
            "image/png": "[encoded data removed]"
          },
          "metadata": {
            "needs_background": "light"
          }
        }
      ]
    },
    {
      "cell_type": "code",
      "source": [
        "datacat = pd.concat([dataCorrect, dataLabel], axis=1)\n",
        "datacat.head(5)"
      ],
      "metadata": {
        "colab": {
          "base_uri": "https://localhost:8080/",
          "height": 270
        },
        "id": "uktCM_HrbFI8",
        "outputId": "f0eaa91b-ceee-467e-8bc6-91329bc5ebc8"
      },
      "execution_count": null,
      "outputs": [
        {
          "output_type": "execute_result",
          "data": {
            "text/plain": [
              "      V1     V2    V3     V4     V5     V6     V7     V8     V9    V10    V11  \\\n",
              "0 -1.360 -0.073 2.536  1.378 -0.338  0.462  0.240  0.099  0.364  0.091 -0.552   \n",
              "1  1.192  0.266 0.166  0.448  0.060 -0.082 -0.079  0.085 -0.255 -0.167  1.613   \n",
              "2 -1.358 -1.340 1.773  0.380 -0.503  1.800  0.791  0.248 -1.515  0.208  0.625   \n",
              "3 -0.966 -0.185 1.793 -0.863 -0.010  1.247  0.238  0.377 -1.387 -0.055 -0.226   \n",
              "4 -1.158  0.878 1.549  0.403 -0.407  0.096  0.593 -0.271  0.818  0.753 -0.823   \n",
              "\n",
              "     V12    V13    V14    V15    V16    V17    V18    V19    V20    V21  \\\n",
              "0 -0.618 -0.991 -0.311  1.468 -0.470  0.208  0.026  0.404  0.251 -0.018   \n",
              "1  1.065  0.489 -0.144  0.636  0.464 -0.115 -0.183 -0.146 -0.069 -0.226   \n",
              "2  0.066  0.717 -0.166  2.346 -1.952  1.110 -0.121 -1.828  0.525  0.248   \n",
              "3  0.178  0.508 -0.288 -0.631 -1.060 -0.684  1.966 -1.233 -0.208 -0.108   \n",
              "4  0.538  1.346 -1.120  0.175 -0.451 -0.237 -0.038  0.803  0.409 -0.009   \n",
              "\n",
              "     V22    V23    V24    V25    V26    V27    V28  Amount  Class  \n",
              "0  0.278 -0.110  0.067  0.129 -0.189  0.134 -0.021   0.244      0  \n",
              "1 -0.639  0.101 -0.340  0.167  0.126 -0.009  0.015  -0.343      0  \n",
              "2  0.772  0.612 -0.689 -0.328 -0.139 -0.055 -0.060   0.387      0  \n",
              "3  0.005 -0.190 -1.176  0.647 -0.222  0.063  0.061   0.140      0  \n",
              "4  0.798 -0.137  0.141 -0.206  0.502  0.219  0.215  -0.074      0  "
            ],
            "text/html": [
              "\n",
              "  <div id=\"df-a044e36a-915f-4ea8-a5b4-deaef35de8d1\">\n",
              "    <div class=\"colab-df-container\">\n",
              "      <div>\n",
              "<style scoped>\n",
              "    .dataframe tbody tr th:only-of-type {\n",
              "        vertical-align: middle;\n",
              "    }\n",
              "\n",
              "    .dataframe tbody tr th {\n",
              "        vertical-align: top;\n",
              "    }\n",
              "\n",
              "    .dataframe thead th {\n",
              "        text-align: right;\n",
              "    }\n",
              "</style>\n",
              "<table border=\"1\" class=\"dataframe\">\n",
              "  <thead>\n",
              "    <tr style=\"text-align: right;\">\n",
              "      <th></th>\n",
              "      <th>V1</th>\n",
              "      <th>V2</th>\n",
              "      <th>V3</th>\n",
              "      <th>V4</th>\n",
              "      <th>V5</th>\n",
              "      <th>V6</th>\n",
              "      <th>V7</th>\n",
              "      <th>V8</th>\n",
              "      <th>V9</th>\n",
              "      <th>V10</th>\n",
              "      <th>V11</th>\n",
              "      <th>V12</th>\n",
              "      <th>V13</th>\n",
              "      <th>V14</th>\n",
              "      <th>V15</th>\n",
              "      <th>V16</th>\n",
              "      <th>V17</th>\n",
              "      <th>V18</th>\n",
              "      <th>V19</th>\n",
              "      <th>V20</th>\n",
              "      <th>V21</th>\n",
              "      <th>V22</th>\n",
              "      <th>V23</th>\n",
              "      <th>V24</th>\n",
              "      <th>V25</th>\n",
              "      <th>V26</th>\n",
              "      <th>V27</th>\n",
              "      <th>V28</th>\n",
              "      <th>Amount</th>\n",
              "      <th>Class</th>\n",
              "    </tr>\n",
              "  </thead>\n",
              "  <tbody>\n",
              "    <tr>\n",
              "      <th>0</th>\n",
              "      <td>-1.360</td>\n",
              "      <td>-0.073</td>\n",
              "      <td>2.536</td>\n",
              "      <td>1.378</td>\n",
              "      <td>-0.338</td>\n",
              "      <td>0.462</td>\n",
              "      <td>0.240</td>\n",
              "      <td>0.099</td>\n",
              "      <td>0.364</td>\n",
              "      <td>0.091</td>\n",
              "      <td>-0.552</td>\n",
              "      <td>-0.618</td>\n",
              "      <td>-0.991</td>\n",
              "      <td>-0.311</td>\n",
              "      <td>1.468</td>\n",
              "      <td>-0.470</td>\n",
              "      <td>0.208</td>\n",
              "      <td>0.026</td>\n",
              "      <td>0.404</td>\n",
              "      <td>0.251</td>\n",
              "      <td>-0.018</td>\n",
              "      <td>0.278</td>\n",
              "      <td>-0.110</td>\n",
              "      <td>0.067</td>\n",
              "      <td>0.129</td>\n",
              "      <td>-0.189</td>\n",
              "      <td>0.134</td>\n",
              "      <td>-0.021</td>\n",
              "      <td>0.244</td>\n",
              "      <td>0</td>\n",
              "    </tr>\n",
              "    <tr>\n",
              "      <th>1</th>\n",
              "      <td>1.192</td>\n",
              "      <td>0.266</td>\n",
              "      <td>0.166</td>\n",
              "      <td>0.448</td>\n",
              "      <td>0.060</td>\n",
              "      <td>-0.082</td>\n",
              "      <td>-0.079</td>\n",
              "      <td>0.085</td>\n",
              "      <td>-0.255</td>\n",
              "      <td>-0.167</td>\n",
              "      <td>1.613</td>\n",
              "      <td>1.065</td>\n",
              "      <td>0.489</td>\n",
              "      <td>-0.144</td>\n",
              "      <td>0.636</td>\n",
              "      <td>0.464</td>\n",
              "      <td>-0.115</td>\n",
              "      <td>-0.183</td>\n",
              "      <td>-0.146</td>\n",
              "      <td>-0.069</td>\n",
              "      <td>-0.226</td>\n",
              "      <td>-0.639</td>\n",
              "      <td>0.101</td>\n",
              "      <td>-0.340</td>\n",
              "      <td>0.167</td>\n",
              "      <td>0.126</td>\n",
              "      <td>-0.009</td>\n",
              "      <td>0.015</td>\n",
              "      <td>-0.343</td>\n",
              "      <td>0</td>\n",
              "    </tr>\n",
              "    <tr>\n",
              "      <th>2</th>\n",
              "      <td>-1.358</td>\n",
              "      <td>-1.340</td>\n",
              "      <td>1.773</td>\n",
              "      <td>0.380</td>\n",
              "      <td>-0.503</td>\n",
              "      <td>1.800</td>\n",
              "      <td>0.791</td>\n",
              "      <td>0.248</td>\n",
              "      <td>-1.515</td>\n",
              "      <td>0.208</td>\n",
              "      <td>0.625</td>\n",
              "      <td>0.066</td>\n",
              "      <td>0.717</td>\n",
              "      <td>-0.166</td>\n",
              "      <td>2.346</td>\n",
              "      <td>-1.952</td>\n",
              "      <td>1.110</td>\n",
              "      <td>-0.121</td>\n",
              "      <td>-1.828</td>\n",
              "      <td>0.525</td>\n",
              "      <td>0.248</td>\n",
              "      <td>0.772</td>\n",
              "      <td>0.612</td>\n",
              "      <td>-0.689</td>\n",
              "      <td>-0.328</td>\n",
              "      <td>-0.139</td>\n",
              "      <td>-0.055</td>\n",
              "      <td>-0.060</td>\n",
              "      <td>0.387</td>\n",
              "      <td>0</td>\n",
              "    </tr>\n",
              "    <tr>\n",
              "      <th>3</th>\n",
              "      <td>-0.966</td>\n",
              "      <td>-0.185</td>\n",
              "      <td>1.793</td>\n",
              "      <td>-0.863</td>\n",
              "      <td>-0.010</td>\n",
              "      <td>1.247</td>\n",
              "      <td>0.238</td>\n",
              "      <td>0.377</td>\n",
              "      <td>-1.387</td>\n",
              "      <td>-0.055</td>\n",
              "      <td>-0.226</td>\n",
              "      <td>0.178</td>\n",
              "      <td>0.508</td>\n",
              "      <td>-0.288</td>\n",
              "      <td>-0.631</td>\n",
              "      <td>-1.060</td>\n",
              "      <td>-0.684</td>\n",
              "      <td>1.966</td>\n",
              "      <td>-1.233</td>\n",
              "      <td>-0.208</td>\n",
              "      <td>-0.108</td>\n",
              "      <td>0.005</td>\n",
              "      <td>-0.190</td>\n",
              "      <td>-1.176</td>\n",
              "      <td>0.647</td>\n",
              "      <td>-0.222</td>\n",
              "      <td>0.063</td>\n",
              "      <td>0.061</td>\n",
              "      <td>0.140</td>\n",
              "      <td>0</td>\n",
              "    </tr>\n",
              "    <tr>\n",
              "      <th>4</th>\n",
              "      <td>-1.158</td>\n",
              "      <td>0.878</td>\n",
              "      <td>1.549</td>\n",
              "      <td>0.403</td>\n",
              "      <td>-0.407</td>\n",
              "      <td>0.096</td>\n",
              "      <td>0.593</td>\n",
              "      <td>-0.271</td>\n",
              "      <td>0.818</td>\n",
              "      <td>0.753</td>\n",
              "      <td>-0.823</td>\n",
              "      <td>0.538</td>\n",
              "      <td>1.346</td>\n",
              "      <td>-1.120</td>\n",
              "      <td>0.175</td>\n",
              "      <td>-0.451</td>\n",
              "      <td>-0.237</td>\n",
              "      <td>-0.038</td>\n",
              "      <td>0.803</td>\n",
              "      <td>0.409</td>\n",
              "      <td>-0.009</td>\n",
              "      <td>0.798</td>\n",
              "      <td>-0.137</td>\n",
              "      <td>0.141</td>\n",
              "      <td>-0.206</td>\n",
              "      <td>0.502</td>\n",
              "      <td>0.219</td>\n",
              "      <td>0.215</td>\n",
              "      <td>-0.074</td>\n",
              "      <td>0</td>\n",
              "    </tr>\n",
              "  </tbody>\n",
              "</table>\n",
              "</div>\n",
              "      <button class=\"colab-df-convert\" onclick=\"convertToInteractive('df-a044e36a-915f-4ea8-a5b4-deaef35de8d1')\"\n",
              "              title=\"Convert this dataframe to an interactive table.\"\n",
              "              style=\"display:none;\">\n",
              "        \n",
              "  <svg xmlns=\"http://www.w3.org/2000/svg\" height=\"24px\"viewBox=\"0 0 24 24\"\n",
              "       width=\"24px\">\n",
              "    <path d=\"M0 0h24v24H0V0z\" fill=\"none\"/>\n",
              "    <path d=\"M18.56 5.44l.94 2.06.94-2.06 2.06-.94-2.06-.94-.94-2.06-.94 2.06-2.06.94zm-11 1L8.5 8.5l.94-2.06 2.06-.94-2.06-.94L8.5 2.5l-.94 2.06-2.06.94zm10 10l.94 2.06.94-2.06 2.06-.94-2.06-.94-.94-2.06-.94 2.06-2.06.94z\"/><path d=\"M17.41 7.96l-1.37-1.37c-.4-.4-.92-.59-1.43-.59-.52 0-1.04.2-1.43.59L10.3 9.45l-7.72 7.72c-.78.78-.78 2.05 0 2.83L4 21.41c.39.39.9.59 1.41.59.51 0 1.02-.2 1.41-.59l7.78-7.78 2.81-2.81c.8-.78.8-2.07 0-2.86zM5.41 20L4 18.59l7.72-7.72 1.47 1.35L5.41 20z\"/>\n",
              "  </svg>\n",
              "      </button>\n",
              "      \n",
              "  <style>\n",
              "    .colab-df-container {\n",
              "      display:flex;\n",
              "      flex-wrap:wrap;\n",
              "      gap: 12px;\n",
              "    }\n",
              "\n",
              "    .colab-df-convert {\n",
              "      background-color: #E8F0FE;\n",
              "      border: none;\n",
              "      border-radius: 50%;\n",
              "      cursor: pointer;\n",
              "      display: none;\n",
              "      fill: #1967D2;\n",
              "      height: 32px;\n",
              "      padding: 0 0 0 0;\n",
              "      width: 32px;\n",
              "    }\n",
              "\n",
              "    .colab-df-convert:hover {\n",
              "      background-color: #E2EBFA;\n",
              "      box-shadow: 0px 1px 2px rgba(60, 64, 67, 0.3), 0px 1px 3px 1px rgba(60, 64, 67, 0.15);\n",
              "      fill: #174EA6;\n",
              "    }\n",
              "\n",
              "    [theme=dark] .colab-df-convert {\n",
              "      background-color: #3B4455;\n",
              "      fill: #D2E3FC;\n",
              "    }\n",
              "\n",
              "    [theme=dark] .colab-df-convert:hover {\n",
              "      background-color: #434B5C;\n",
              "      box-shadow: 0px 1px 3px 1px rgba(0, 0, 0, 0.15);\n",
              "      filter: drop-shadow(0px 1px 2px rgba(0, 0, 0, 0.3));\n",
              "      fill: #FFFFFF;\n",
              "    }\n",
              "  </style>\n",
              "\n",
              "      <script>\n",
              "        const buttonEl =\n",
              "          document.querySelector('#df-a044e36a-915f-4ea8-a5b4-deaef35de8d1 button.colab-df-convert');\n",
              "        buttonEl.style.display =\n",
              "          google.colab.kernel.accessAllowed ? 'block' : 'none';\n",
              "\n",
              "        async function convertToInteractive(key) {\n",
              "          const element = document.querySelector('#df-a044e36a-915f-4ea8-a5b4-deaef35de8d1');\n",
              "          const dataTable =\n",
              "            await google.colab.kernel.invokeFunction('convertToInteractive',\n",
              "                                                     [key], {});\n",
              "          if (!dataTable) return;\n",
              "\n",
              "          const docLinkHtml = 'Like what you see? Visit the ' +\n",
              "            '<a target=\"_blank\" href=https://colab.research.google.com/notebooks/data_table.ipynb>data table notebook</a>'\n",
              "            + ' to learn more about interactive tables.';\n",
              "          element.innerHTML = '';\n",
              "          dataTable['output_type'] = 'display_data';\n",
              "          await google.colab.output.renderOutput(dataTable, element);\n",
              "          const docLink = document.createElement('div');\n",
              "          docLink.innerHTML = docLinkHtml;\n",
              "          element.appendChild(docLink);\n",
              "        }\n",
              "      </script>\n",
              "    </div>\n",
              "  </div>\n",
              "  "
            ]
          },
          "metadata": {},
          "execution_count": 205
        }
      ]
    },
    {
      "cell_type": "code",
      "source": [
        "\"\"\"\n",
        "# scaling the data before analysis\n",
        "scaler = StandardScaler()\n",
        "subset = datacat['Amount'].values  ## Complete the code to scale the data\n",
        "datacat['Amount'] = scaler.fit_transform(subset.reshape(-1, 1))\n",
        "\"\"\""
      ],
      "metadata": {
        "colab": {
          "base_uri": "https://localhost:8080/",
          "height": 35
        },
        "id": "_l1ZB5gp_c7P",
        "outputId": "ebdd4428-ef34-49bc-9638-4966bb9ca00d"
      },
      "execution_count": null,
      "outputs": [
        {
          "output_type": "execute_result",
          "data": {
            "text/plain": [
              "\"\\n# scaling the data before analysis\\nscaler = StandardScaler()\\nsubset = datacat['Amount'].values  ## Complete the code to scale the data\\ndatacat['Amount'] = scaler.fit_transform(subset.reshape(-1, 1))\\n\""
            ],
            "application/vnd.google.colaboratory.intrinsic+json": {
              "type": "string"
            }
          },
          "metadata": {},
          "execution_count": 206
        }
      ]
    },
    {
      "cell_type": "code",
      "execution_count": null,
      "metadata": {
        "colab": {
          "base_uri": "https://localhost:8080/"
        },
        "id": "Kdg8zi5phW5p",
        "outputId": "cd148d59-5c6c-4374-f744-1f0383aef21d"
      },
      "outputs": [
        {
          "output_type": "stream",
          "name": "stdout",
          "text": [
            "Shape of X: (283726, 29)\n",
            "Shape of y: (283726,)\n",
            "(170235, 29) (56745, 29) (56746, 29)\n"
          ]
        }
      ],
      "source": [
        "#Preparing the data to train/test split the dataset\n",
        "X = datacat.drop([\"Class\"], axis=1)\n",
        "y = datacat[\"Class\"]\n",
        "\n",
        "print('Shape of X: {}'.format(X.shape))\n",
        "print('Shape of y: {}'.format(y.shape))\n",
        "\n",
        "# Splitting data into training, validation and test set:\n",
        "# first we split data into 2 parts, say temporary and test\n",
        "\n",
        "X_temp, X_test, y_temp, y_test = train_test_split(\n",
        "    X, y, test_size=0.2, random_state=1, stratify=y\n",
        ")\n",
        "\n",
        "# then we split the temporary set into train and validation\n",
        "\n",
        "X_train, X_val, y_train, y_val = train_test_split(\n",
        "    X_temp, y_temp, test_size=0.25, random_state=1, stratify=y_temp\n",
        ")\n",
        "print(X_train.shape, X_val.shape, X_test.shape)"
      ]
    },
    {
      "cell_type": "code",
      "source": [
        "print(\"Shape of Training set : \", X_train.shape)\n",
        "print(\"Shape of validation set : \", X_val.shape)\n",
        "print(\"Shape of testing set : \", X_test.shape)\n",
        "print(\"Percentage of classes in training set:\")\n",
        "print(y_train.value_counts(normalize=True))\n",
        "print(\"Percentage of classes in validation set:\")\n",
        "print(y_val.value_counts(normalize=True))\n",
        "print(\"Percentage of classes in test set:\")\n",
        "print(y_test.value_counts(normalize=True))"
      ],
      "metadata": {
        "colab": {
          "base_uri": "https://localhost:8080/"
        },
        "id": "naOE8CoRCDjd",
        "outputId": "eafdbf8d-f19b-4404-a8d4-88d2bc503990"
      },
      "execution_count": null,
      "outputs": [
        {
          "output_type": "stream",
          "name": "stdout",
          "text": [
            "Shape of Training set :  (170235, 29)\n",
            "Shape of validation set :  (56745, 29)\n",
            "Shape of testing set :  (56746, 29)\n",
            "Percentage of classes in training set:\n",
            "0   0.998\n",
            "1   0.002\n",
            "Name: Class, dtype: float64\n",
            "Percentage of classes in validation set:\n",
            "0   0.998\n",
            "1   0.002\n",
            "Name: Class, dtype: float64\n",
            "Percentage of classes in test set:\n",
            "0   0.998\n",
            "1   0.002\n",
            "Name: Class, dtype: float64\n"
          ]
        }
      ]
    },
    {
      "cell_type": "code",
      "source": [
        "y_train = to_categorical(y_train)\n",
        "y_test = to_categorical(y_test)\n",
        "y_val = to_categorical(y_val)"
      ],
      "metadata": {
        "id": "ubtEl1EqCDf8"
      },
      "execution_count": null,
      "outputs": []
    },
    {
      "cell_type": "code",
      "source": [
        "print('X_train', X_train.shape)\n",
        "print('y_train', y_train.shape)\n",
        "print('X_test', X_test.shape)\n",
        "print('y_test', y_test.shape)\n",
        "print('X_val', X_val.shape)\n",
        "print('y_val', y_val.shape)"
      ],
      "metadata": {
        "colab": {
          "base_uri": "https://localhost:8080/"
        },
        "id": "3tF_slJRCDO2",
        "outputId": "8e0f573c-a6b7-423e-e31c-114008b7230d"
      },
      "execution_count": null,
      "outputs": [
        {
          "output_type": "stream",
          "name": "stdout",
          "text": [
            "X_train (170235, 29)\n",
            "y_train (170235, 2)\n",
            "X_test (56746, 29)\n",
            "y_test (56746, 2)\n",
            "X_val (56745, 29)\n",
            "y_val (56745, 2)\n"
          ]
        }
      ]
    },
    {
      "cell_type": "code",
      "execution_count": null,
      "metadata": {
        "colab": {
          "base_uri": "https://localhost:8080/"
        },
        "id": "dk73C4groL6C",
        "outputId": "bbe41540-d747-4415-d4ce-631b2cdd6262"
      },
      "outputs": [
        {
          "output_type": "execute_result",
          "data": {
            "text/plain": [
              "pandas.core.frame.DataFrame"
            ]
          },
          "metadata": {},
          "execution_count": 211
        }
      ],
      "source": [
        "type(X_train)"
      ]
    },
    {
      "cell_type": "code",
      "source": [
        "type(y_train)"
      ],
      "metadata": {
        "colab": {
          "base_uri": "https://localhost:8080/"
        },
        "id": "c7cD7_5VNMUd",
        "outputId": "07877cc3-df06-4ca4-8df0-656e84be7602"
      },
      "execution_count": null,
      "outputs": [
        {
          "output_type": "execute_result",
          "data": {
            "text/plain": [
              "numpy.ndarray"
            ]
          },
          "metadata": {},
          "execution_count": 212
        }
      ]
    },
    {
      "cell_type": "markdown",
      "source": [
        "Oversampling using SMOTE"
      ],
      "metadata": {
        "id": "I20S_WoV_s0d"
      }
    },
    {
      "cell_type": "code",
      "source": [
        "# Synthetic Minority Over Sampling Technique (SMOTE)\n",
        "\n",
        "print(\"Before OverSampling, counts of label '1': {}\".format(sum(y_train == 1)))\n",
        "print(\"Before OverSampling, counts of label '0': {} \\n\".format(sum(y_train == 0)))\n",
        "\n",
        "# Synthetic Minority Over Sampling Technique\n",
        "sm = SMOTE(sampling_strategy=1, k_neighbors=5, random_state=1)\n",
        "X_train_over, y_train_over = sm.fit_resample(X_train, y_train)\n",
        "\n",
        "\n",
        "print(\"After OverSampling, counts of label '1': {}\".format(sum(y_train_over == 1)))\n",
        "print(\"After OverSampling, counts of label '0': {} \\n\".format(sum(y_train_over == 0)))\n",
        "\n",
        "\n",
        "print(\"After OverSampling, the shape of train_X: {}\".format(X_train_over.shape))\n",
        "print(\"After OverSampling, the shape of train_y: {} \\n\".format(y_train_over.shape))"
      ],
      "metadata": {
        "colab": {
          "base_uri": "https://localhost:8080/"
        },
        "id": "N6ykGE5WCfSu",
        "outputId": "88296dc1-3ab2-48e0-b01d-7a43d3945580"
      },
      "execution_count": null,
      "outputs": [
        {
          "output_type": "stream",
          "name": "stdout",
          "text": [
            "Before OverSampling, counts of label '1': [169952    283]\n",
            "Before OverSampling, counts of label '0': [   283 169952] \n",
            "\n",
            "After OverSampling, counts of label '1': [169952]\n",
            "After OverSampling, counts of label '0': [169952] \n",
            "\n",
            "After OverSampling, the shape of train_X: (339904, 29)\n",
            "After OverSampling, the shape of train_y: (339904, 1) \n",
            "\n"
          ]
        }
      ]
    },
    {
      "cell_type": "code",
      "source": [
        "# Splitting data into training, validation and test set:\n",
        "# first we split data into 2 parts, say temporary and test\n",
        "\n",
        "X_temp, X_test, y_temp, y_test = train_test_split(\n",
        "    X_train_over, y_train_over, test_size=0.2, random_state=1, stratify=y_train_over\n",
        ")\n",
        "\n",
        "# then we split the temporary set into train and validation\n",
        "\n",
        "X_train, X_val, y_train, y_val = train_test_split(\n",
        "    X_temp, y_temp, test_size=0.25, random_state=1, stratify=y_temp\n",
        ")\n",
        "print(X_train.shape, X_val.shape, X_test.shape)"
      ],
      "metadata": {
        "colab": {
          "base_uri": "https://localhost:8080/"
        },
        "id": "f-5FYwlVCgO8",
        "outputId": "3371d245-4f63-4db1-97a6-a1c3e658e65e"
      },
      "execution_count": null,
      "outputs": [
        {
          "output_type": "stream",
          "name": "stdout",
          "text": [
            "(203942, 29) (67981, 29) (67981, 29)\n"
          ]
        }
      ]
    },
    {
      "cell_type": "code",
      "source": [
        "print('X_train_over', X_train_over.shape)\n",
        "print('y_train_over', y_train_over.shape)"
      ],
      "metadata": {
        "colab": {
          "base_uri": "https://localhost:8080/"
        },
        "id": "JTIFKImBDM0e",
        "outputId": "915613e3-bfd5-4cd5-adcd-c90a3bdc2d02"
      },
      "execution_count": null,
      "outputs": [
        {
          "output_type": "stream",
          "name": "stdout",
          "text": [
            "X_train_over (339904, 29)\n",
            "y_train_over (339904, 1)\n"
          ]
        }
      ]
    },
    {
      "cell_type": "code",
      "source": [
        "y_train = to_categorical(y_train)\n",
        "y_test = to_categorical(y_test)\n",
        "y_val = to_categorical(y_val)\n",
        "print('y_train', y_train.shape)\n",
        "print('y_val', y_val.shape)\n",
        "print('y_test', y_test.shape)"
      ],
      "metadata": {
        "colab": {
          "base_uri": "https://localhost:8080/"
        },
        "id": "3FmTxYL6DMwF",
        "outputId": "efa4d937-dece-4be5-d39f-10f64b894227"
      },
      "execution_count": null,
      "outputs": [
        {
          "output_type": "stream",
          "name": "stdout",
          "text": [
            "y_train (203942, 2)\n",
            "y_val (67981, 2)\n",
            "y_test (67981, 2)\n"
          ]
        }
      ]
    },
    {
      "cell_type": "code",
      "source": [
        "# VIF dataframe\n",
        "vif_train = pd.DataFrame()\n",
        "vif_train[\"Feature\"] = X_train.columns\n",
        "\n",
        "# calculating VIF for each feature\n",
        "vif_train[\"VIF\"] = [\n",
        "    variance_inflation_factor(X_train.values, i) for i in range(len(X_train.columns))\n",
        "]\n",
        "\n",
        "print((vif_train).to_string(index=False))"
      ],
      "metadata": {
        "colab": {
          "base_uri": "https://localhost:8080/"
        },
        "id": "X9jE8LomfVGn",
        "outputId": "1eafe57b-83d5-4d49-989e-639d30a5fa4e"
      },
      "execution_count": null,
      "outputs": [
        {
          "output_type": "stream",
          "name": "stdout",
          "text": [
            "Feature   VIF\n",
            "     V1 2.752\n",
            "     V2 4.405\n",
            "     V3 4.798\n",
            "     V4 3.525\n",
            "     V5 2.827\n",
            "     V6 2.584\n",
            "     V7 4.395\n",
            "     V8 2.132\n",
            "     V9 3.385\n",
            "    V10 4.704\n",
            "    V11 5.184\n",
            "    V12 3.852\n",
            "    V13 1.080\n",
            "    V14 3.888\n",
            "    V15 1.130\n",
            "    V16 3.760\n",
            "    V17 3.382\n",
            "    V18 2.807\n",
            "    V19 1.873\n",
            "    V20 1.490\n",
            "    V21 2.227\n",
            "    V22 1.273\n",
            "    V23 1.450\n",
            "    V24 1.134\n",
            "    V25 1.462\n",
            "    V26 1.099\n",
            "    V27 2.136\n",
            "    V28 1.800\n",
            " Amount 2.311\n"
          ]
        }
      ]
    },
    {
      "cell_type": "code",
      "source": [
        "\"\"\"\n",
        "# Converting dataframe to numpy array\n",
        "X_train = X_train.to_numpy()\n",
        "X_test = X_test.to_numpy()\n",
        "X_val = X_val.to_numpy()\n",
        "\"\"\""
      ],
      "metadata": {
        "colab": {
          "base_uri": "https://localhost:8080/",
          "height": 35
        },
        "id": "SOEYSIwRwC-n",
        "outputId": "ca40446e-9474-4a05-90fe-1cef5b601f9a"
      },
      "execution_count": null,
      "outputs": [
        {
          "output_type": "execute_result",
          "data": {
            "text/plain": [
              "'\\n# Converting dataframe to numpy array\\nX_train = X_train.to_numpy()\\nX_test = X_test.to_numpy()\\nX_val = X_val.to_numpy()\\n'"
            ],
            "application/vnd.google.colaboratory.intrinsic+json": {
              "type": "string"
            }
          },
          "metadata": {},
          "execution_count": 218
        }
      ]
    },
    {
      "cell_type": "code",
      "source": [
        "\"\"\"\n",
        "# reshape input to be 3D [samples, timesteps, features]\n",
        "X_train = X_train.reshape((X_train.shape[0], 1, X_train.shape[1]))\n",
        "X_test = X_test.reshape((X_test.shape[0], 1, X_test.shape[1]))\n",
        "X_val = X_val.reshape((X_val.shape[0], 1, X_val.shape[1]))\n",
        "\"\"\""
      ],
      "metadata": {
        "colab": {
          "base_uri": "https://localhost:8080/",
          "height": 54
        },
        "id": "y1ZtSr-GwCzc",
        "outputId": "b909ed5a-13f1-4bb0-dee6-8dfc7272ba2e"
      },
      "execution_count": null,
      "outputs": [
        {
          "output_type": "execute_result",
          "data": {
            "text/plain": [
              "'\\n# reshape input to be 3D [samples, timesteps, features]\\nX_train = X_train.reshape((X_train.shape[0], 1, X_train.shape[1]))\\nX_test = X_test.reshape((X_test.shape[0], 1, X_test.shape[1]))\\nX_val = X_val.reshape((X_val.shape[0], 1, X_val.shape[1]))\\n'"
            ],
            "application/vnd.google.colaboratory.intrinsic+json": {
              "type": "string"
            }
          },
          "metadata": {},
          "execution_count": 219
        }
      ]
    },
    {
      "cell_type": "code",
      "source": [
        "X_train.shape"
      ],
      "metadata": {
        "colab": {
          "base_uri": "https://localhost:8080/"
        },
        "id": "9cdzlsoj5qwx",
        "outputId": "672fdbba-6b62-4c27-e1d2-33101c3349a0"
      },
      "execution_count": null,
      "outputs": [
        {
          "output_type": "execute_result",
          "data": {
            "text/plain": [
              "(203942, 29)"
            ]
          },
          "metadata": {},
          "execution_count": 220
        }
      ]
    },
    {
      "cell_type": "code",
      "execution_count": null,
      "metadata": {
        "id": "6MWilio2hW_m",
        "colab": {
          "base_uri": "https://localhost:8080/",
          "height": 54
        },
        "outputId": "b63501b7-d141-4745-83d1-3df7931c16e3"
      },
      "outputs": [
        {
          "output_type": "execute_result",
          "data": {
            "text/plain": [
              "'\\n# First algorithm:\\nmodel = Sequential()\\nmodel.add(\\n    Bidirectional(\\n        LSTM(30, return_sequences=True), input_shape=(X_train.shape[1], X_train.shape[2])\\n    )\\n)\\nmodel.add(Dropout(0.2))\\nmodel.add(Bidirectional(LSTM(30)))\\nmodel.add(Dense(2))\\n# model.add(Activation(\\'softmax\\'))\\nmodel.add(Activation(\"sigmoid\"))\\n'"
            ],
            "application/vnd.google.colaboratory.intrinsic+json": {
              "type": "string"
            }
          },
          "metadata": {},
          "execution_count": 221
        }
      ],
      "source": [
        "\n",
        "#Applying a Neural Network\n",
        "model = Sequential()\n",
        "#model.add(Dense(16, input_dim=11, activation='relu', input_shape=(11,)))\n",
        "model.add(Dense(128, activation='relu', input_shape=(29,)))\n",
        "model.add(Dense(64, activation='relu'))\n",
        "model.add(Dropout(0.3))\n",
        "model.add(Dense(64, activation='relu'))\n",
        "model.add(BatchNormalization())\n",
        "model.add(Dense(32, activation='relu'))\n",
        "model.add(Dense(2, activation='Softmax'))\n",
        "\"\"\"\n",
        "# First algorithm:\n",
        "model = Sequential()\n",
        "model.add(\n",
        "    Bidirectional(\n",
        "        LSTM(30, return_sequences=True), input_shape=(X_train.shape[1], X_train.shape[2])\n",
        "    )\n",
        ")\n",
        "model.add(Dropout(0.2))\n",
        "model.add(Bidirectional(LSTM(30)))\n",
        "model.add(Dense(2))\n",
        "# model.add(Activation('softmax'))\n",
        "model.add(Activation(\"sigmoid\"))\n",
        "\"\"\"\n"
      ]
    },
    {
      "cell_type": "code",
      "execution_count": null,
      "metadata": {
        "colab": {
          "base_uri": "https://localhost:8080/"
        },
        "id": "Mf35hD9tyC3h",
        "outputId": "6b7aff7b-9761-47b6-cfb7-fc4092435387"
      },
      "outputs": [
        {
          "output_type": "stream",
          "name": "stdout",
          "text": [
            "Model: \"sequential_3\"\n",
            "_________________________________________________________________\n",
            " Layer (type)                Output Shape              Param #   \n",
            "=================================================================\n",
            " dense_11 (Dense)            (None, 128)               3840      \n",
            "                                                                 \n",
            " dense_12 (Dense)            (None, 64)                8256      \n",
            "                                                                 \n",
            " dropout_3 (Dropout)         (None, 64)                0         \n",
            "                                                                 \n",
            " dense_13 (Dense)            (None, 64)                4160      \n",
            "                                                                 \n",
            " batch_normalization_2 (Batc  (None, 64)               256       \n",
            " hNormalization)                                                 \n",
            "                                                                 \n",
            " dense_14 (Dense)            (None, 32)                2080      \n",
            "                                                                 \n",
            " dense_15 (Dense)            (None, 2)                 66        \n",
            "                                                                 \n",
            "=================================================================\n",
            "Total params: 18,658\n",
            "Trainable params: 18,530\n",
            "Non-trainable params: 128\n",
            "_________________________________________________________________\n"
          ]
        }
      ],
      "source": [
        "model.summary()"
      ]
    },
    {
      "cell_type": "code",
      "execution_count": null,
      "metadata": {
        "id": "3Q_na9KIj0iI"
      },
      "outputs": [],
      "source": [
        "#Question 9 AND Question 15\n",
        "opt = tf.keras.optimizers.Adam(learning_rate=0.001)\n",
        "#opt = tf.keras.optimizers.RMSprop(learning_rate=0.001)\n",
        "\n",
        "#Question 13\n",
        "#opt = tf.keras.optimizers.SGD(learning_rate=0.001)\n"
      ]
    },
    {
      "cell_type": "code",
      "execution_count": null,
      "metadata": {
        "id": "4-H4WxA6hXEA"
      },
      "outputs": [],
      "source": [
        "model.compile(loss='binary_crossentropy', optimizer=opt, metrics=['accuracy'])"
      ]
    },
    {
      "cell_type": "code",
      "execution_count": null,
      "metadata": {
        "colab": {
          "base_uri": "https://localhost:8080/"
        },
        "id": "9o2E-bfOhXHY",
        "outputId": "9734997f-d621-4b4f-e098-c0e4aa02bb2f"
      },
      "outputs": [
        {
          "output_type": "stream",
          "name": "stdout",
          "text": [
            "Epoch 1/20\n",
            "2040/2040 [==============================] - 17s 8ms/step - loss: 0.0284 - accuracy: 0.9896 - val_loss: 0.0119 - val_accuracy: 0.9966\n",
            "Epoch 2/20\n",
            "2040/2040 [==============================] - 8s 4ms/step - loss: 0.0071 - accuracy: 0.9981 - val_loss: 0.0042 - val_accuracy: 0.9990\n",
            "Epoch 3/20\n",
            "2040/2040 [==============================] - 8s 4ms/step - loss: 0.0055 - accuracy: 0.9986 - val_loss: 0.0028 - val_accuracy: 0.9995\n",
            "Epoch 4/20\n",
            "2040/2040 [==============================] - 8s 4ms/step - loss: 0.0045 - accuracy: 0.9989 - val_loss: 0.0029 - val_accuracy: 0.9995\n",
            "Epoch 5/20\n",
            "2040/2040 [==============================] - 9s 4ms/step - loss: 0.0042 - accuracy: 0.9991 - val_loss: 0.0040 - val_accuracy: 0.9988\n",
            "Epoch 6/20\n",
            "2040/2040 [==============================] - 8s 4ms/step - loss: 0.0033 - accuracy: 0.9992 - val_loss: 0.0066 - val_accuracy: 0.9984\n",
            "Epoch 7/20\n",
            "2040/2040 [==============================] - 9s 4ms/step - loss: 0.0030 - accuracy: 0.9993 - val_loss: 0.0021 - val_accuracy: 0.9996\n",
            "Epoch 8/20\n",
            "2040/2040 [==============================] - 8s 4ms/step - loss: 0.0030 - accuracy: 0.9994 - val_loss: 0.0023 - val_accuracy: 0.9995\n",
            "Epoch 9/20\n",
            "2040/2040 [==============================] - 8s 4ms/step - loss: 0.0031 - accuracy: 0.9993 - val_loss: 0.0033 - val_accuracy: 0.9992\n",
            "Epoch 10/20\n",
            "2040/2040 [==============================] - 8s 4ms/step - loss: 0.0024 - accuracy: 0.9995 - val_loss: 0.0061 - val_accuracy: 0.9984\n",
            "Epoch 11/20\n",
            "2040/2040 [==============================] - 9s 4ms/step - loss: 0.0021 - accuracy: 0.9996 - val_loss: 0.0017 - val_accuracy: 0.9998\n",
            "Epoch 12/20\n",
            "2040/2040 [==============================] - 8s 4ms/step - loss: 0.0024 - accuracy: 0.9995 - val_loss: 0.0022 - val_accuracy: 0.9997\n",
            "Epoch 13/20\n",
            "2040/2040 [==============================] - 8s 4ms/step - loss: 0.0021 - accuracy: 0.9995 - val_loss: 0.0019 - val_accuracy: 0.9997\n",
            "Epoch 14/20\n",
            "2040/2040 [==============================] - 8s 4ms/step - loss: 0.0018 - accuracy: 0.9997 - val_loss: 0.0029 - val_accuracy: 0.9991\n",
            "Epoch 15/20\n",
            "2040/2040 [==============================] - 8s 4ms/step - loss: 0.0023 - accuracy: 0.9995 - val_loss: 0.0019 - val_accuracy: 0.9998\n",
            "Epoch 16/20\n",
            "2040/2040 [==============================] - 8s 4ms/step - loss: 0.0017 - accuracy: 0.9996 - val_loss: 0.0016 - val_accuracy: 0.9997\n",
            "Epoch 17/20\n",
            "2040/2040 [==============================] - 8s 4ms/step - loss: 0.0017 - accuracy: 0.9996 - val_loss: 0.0016 - val_accuracy: 0.9997\n",
            "Epoch 18/20\n",
            "2040/2040 [==============================] - 8s 4ms/step - loss: 0.0015 - accuracy: 0.9997 - val_loss: 0.0022 - val_accuracy: 0.9996\n",
            "Epoch 19/20\n",
            "2040/2040 [==============================] - 9s 4ms/step - loss: 0.0019 - accuracy: 0.9996 - val_loss: 0.0032 - val_accuracy: 0.9991\n",
            "Epoch 20/20\n",
            "2040/2040 [==============================] - 9s 5ms/step - loss: 0.0015 - accuracy: 0.9997 - val_loss: 0.0015 - val_accuracy: 0.9997\n"
          ]
        }
      ],
      "source": [
        "#FOR QUESTION 9\n",
        "#history = model.fit(X_train, y_train, epochs=50, batch_size=1, validation_data=(X_test, y_test))\n",
        "#FOR QUESTION 15\n",
        "#history = model.fit(X_train, y_train, epochs=100, batch_size=1, validation_data=(X_test, y_test))\n",
        "#FOR QUESTION 13\n",
        "history = model.fit(X_train, y_train, epochs=20, batch_size=100, validation_data=(X_val, y_val))"
      ]
    },
    {
      "cell_type": "code",
      "execution_count": null,
      "metadata": {
        "colab": {
          "base_uri": "https://localhost:8080/",
          "height": 297
        },
        "id": "t0LX066iRkpI",
        "outputId": "1a3e00a3-95a4-40eb-c705-35235eb0dbcd"
      },
      "outputs": [
        {
          "output_type": "execute_result",
          "data": {
            "text/plain": [
              "<matplotlib.legend.Legend at 0x7f40cee53ed0>"
            ]
          },
          "metadata": {},
          "execution_count": 226
        },
        {
          "output_type": "display_data",
          "data": {
            "text/plain": [
              "<Figure size 432x288 with 1 Axes>"
            ],
            "image/png": "[encoded data removed]"
          },
          "metadata": {
            "needs_background": "light"
          }
        }
      ],
      "source": [
        "plt.plot(history.history['accuracy'], label = 'train')\n",
        "plt.plot(history.history['val_accuracy'], label = 'validation')\n",
        "plt.ylabel('accuracy')\n",
        "plt.xlabel('epochs')\n",
        "plt.legend(loc = 'upper right')"
      ]
    },
    {
      "cell_type": "code",
      "execution_count": null,
      "metadata": {
        "colab": {
          "base_uri": "https://localhost:8080/",
          "height": 297
        },
        "id": "lOqh0eoURkXg",
        "outputId": "6bddb10d-83a8-408f-dca1-25e92ff73b03"
      },
      "outputs": [
        {
          "output_type": "execute_result",
          "data": {
            "text/plain": [
              "<matplotlib.legend.Legend at 0x7f40d2930e10>"
            ]
          },
          "metadata": {},
          "execution_count": 227
        },
        {
          "output_type": "display_data",
          "data": {
            "text/plain": [
              "<Figure size 432x288 with 1 Axes>"
            ],
            "image/png": "[encoded data removed]"
          },
          "metadata": {
            "needs_background": "light"
          }
        }
      ],
      "source": [
        "plt.plot(history.history['loss'], label = 'train')\n",
        "plt.plot(history.history['val_loss'], label = 'validation')\n",
        "plt.ylabel('loss')\n",
        "plt.xlabel('epochs')\n",
        "plt.legend(loc = 'lower right')"
      ]
    },
    {
      "cell_type": "markdown",
      "metadata": {
        "id": "7hrawW7bLJVT"
      },
      "source": [
        "Training Performance"
      ]
    },
    {
      "cell_type": "code",
      "execution_count": null,
      "metadata": {
        "id": "cIeFEjU1LNtB"
      },
      "outputs": [],
      "source": [
        "Y_pred = model.predict(X_train)"
      ]
    },
    {
      "cell_type": "code",
      "execution_count": null,
      "metadata": {
        "colab": {
          "base_uri": "https://localhost:8080/"
        },
        "id": "3f2cz6SpLNn_",
        "outputId": "bc81959f-924d-4b35-b271-b9c7f6dd63a8"
      },
      "outputs": [
        {
          "output_type": "execute_result",
          "data": {
            "text/plain": [
              "(203942, 2)"
            ]
          },
          "metadata": {},
          "execution_count": 229
        }
      ],
      "source": [
        "Y_pred.shape"
      ]
    },
    {
      "cell_type": "code",
      "execution_count": null,
      "metadata": {
        "colab": {
          "base_uri": "https://localhost:8080/"
        },
        "id": "y90gX1k9LNiZ",
        "outputId": "db6ee27d-4a90-4f1f-ff01-4550458c8c47"
      },
      "outputs": [
        {
          "output_type": "execute_result",
          "data": {
            "text/plain": [
              "(203942, 2)"
            ]
          },
          "metadata": {},
          "execution_count": 230
        }
      ],
      "source": [
        "y_train.shape"
      ]
    },
    {
      "cell_type": "code",
      "execution_count": null,
      "metadata": {
        "id": "anavnnlcLNW7"
      },
      "outputs": [],
      "source": [
        "label_pred = np.argmax(Y_pred, axis=1)"
      ]
    },
    {
      "cell_type": "code",
      "execution_count": null,
      "metadata": {
        "colab": {
          "base_uri": "https://localhost:8080/"
        },
        "id": "km5zrIKvLNKz",
        "outputId": "c0e5ea5b-5f9f-4bcd-8fa8-99f7a58dace5"
      },
      "outputs": [
        {
          "output_type": "execute_result",
          "data": {
            "text/plain": [
              "array([1, 1, 0, ..., 0, 1, 1])"
            ]
          },
          "metadata": {},
          "execution_count": 232
        }
      ],
      "source": [
        "label_pred"
      ]
    },
    {
      "cell_type": "code",
      "execution_count": null,
      "metadata": {
        "id": "uBY9DYq0LkCi"
      },
      "outputs": [],
      "source": [
        "label_train = np.argmax(y_train, axis=1)"
      ]
    },
    {
      "cell_type": "code",
      "execution_count": null,
      "metadata": {
        "colab": {
          "base_uri": "https://localhost:8080/"
        },
        "id": "rSCXUR79Lj0i",
        "outputId": "6475d9b9-3b87-4ea9-cbad-ca2e3cd9e9d1"
      },
      "outputs": [
        {
          "output_type": "stream",
          "name": "stdout",
          "text": [
            "[[     0 101935]\n",
            " [     1 102007]]\n"
          ]
        }
      ],
      "source": [
        "(unique, counts) = np.unique(label_pred, return_counts=True)\n",
        "frequencies = np.asarray((unique, counts)).T\n",
        "print(frequencies)"
      ]
    },
    {
      "cell_type": "code",
      "execution_count": null,
      "metadata": {
        "colab": {
          "base_uri": "https://localhost:8080/"
        },
        "id": "BM96ZXw-L1ZK",
        "outputId": "ca85d356-6a62-48b3-be4e-c4cec5aee165"
      },
      "outputs": [
        {
          "output_type": "execute_result",
          "data": {
            "text/plain": [
              "array([1, 1, 0, ..., 0, 1, 1])"
            ]
          },
          "metadata": {},
          "execution_count": 235
        }
      ],
      "source": [
        "label_train"
      ]
    },
    {
      "cell_type": "code",
      "execution_count": null,
      "metadata": {
        "colab": {
          "base_uri": "https://localhost:8080/"
        },
        "id": "JceuyKrpL1TC",
        "outputId": "91e6a24e-52c5-430d-c91a-587d88ba5bfd"
      },
      "outputs": [
        {
          "output_type": "stream",
          "name": "stdout",
          "text": [
            "[[     0 101971]\n",
            " [     1 101971]]\n"
          ]
        }
      ],
      "source": [
        "(unique, counts) = np.unique(label_train, return_counts=True)\n",
        "frequencies = np.asarray((unique, counts)).T\n",
        "print(frequencies)"
      ]
    },
    {
      "cell_type": "code",
      "execution_count": null,
      "metadata": {
        "colab": {
          "base_uri": "https://localhost:8080/"
        },
        "id": "1M7eSKlOL1F7",
        "outputId": "082f14ea-1329-4fae-efdc-c7b9dc667aba"
      },
      "outputs": [
        {
          "output_type": "execute_result",
          "data": {
            "text/plain": [
              "array([[101935,     36],\n",
              "       [     0, 101971]])"
            ]
          },
          "metadata": {},
          "execution_count": 237
        }
      ],
      "source": [
        "confusion_matrix(label_train, label_pred)"
      ]
    },
    {
      "cell_type": "code",
      "source": [
        "precision_score(label_train, label_pred, average=\"macro\")\n",
        "#Second model with feature \"Amount\" scaled and feature \"Time\" dropped\n",
        "#0.9999558737007257\n",
        "#2nd run\n",
        "#0.9998235415216603"
      ],
      "metadata": {
        "colab": {
          "base_uri": "https://localhost:8080/"
        },
        "id": "VvFPk1quxMkY",
        "outputId": "725919c6-0c6b-4dd0-a520-dc9da2754ce0"
      },
      "execution_count": null,
      "outputs": [
        {
          "output_type": "execute_result",
          "data": {
            "text/plain": [
              "0.9998235415216603"
            ]
          },
          "metadata": {},
          "execution_count": 238
        }
      ]
    },
    {
      "cell_type": "code",
      "execution_count": null,
      "metadata": {
        "colab": {
          "base_uri": "https://localhost:8080/"
        },
        "id": "ubCuetasMjVi",
        "outputId": "4f96d519-5925-49b6-dc4d-225420c0273d"
      },
      "outputs": [
        {
          "output_type": "execute_result",
          "data": {
            "text/plain": [
              "0.9998234792244853"
            ]
          },
          "metadata": {},
          "execution_count": 239
        }
      ],
      "source": [
        "recall_score(label_train, label_pred,  average = 'macro')\n",
        "#First model\n",
        "#0.5291957603923283\n",
        "#Second model with feature \"Amount\" scaled and feature \"Time\" dropped\n",
        "#0.9999558698061213\n",
        "#2nd run\n",
        "#0.9998234792244853"
      ]
    },
    {
      "cell_type": "code",
      "execution_count": null,
      "metadata": {
        "colab": {
          "base_uri": "https://localhost:8080/"
        },
        "id": "fbNtpZ0uMjHa",
        "outputId": "c1fd83e1-640c-42a7-e4c7-a1b47ea08c08"
      },
      "outputs": [
        {
          "output_type": "execute_result",
          "data": {
            "text/plain": [
              "0.9998234792189851"
            ]
          },
          "metadata": {},
          "execution_count": 240
        }
      ],
      "source": [
        "f1_score(label_train, label_pred, average='macro')\n",
        "#First model\n",
        "#0.5290408941856531\n",
        "#Second model with feature \"Amount\" scaled and feature \"Time\" dropped\n",
        "#0.9999558698060353\n",
        "#2nd run\n",
        "#0.9998234792189851"
      ]
    },
    {
      "cell_type": "code",
      "execution_count": null,
      "metadata": {
        "colab": {
          "base_uri": "https://localhost:8080/"
        },
        "id": "FI6y6iv1LM7H",
        "outputId": "4c0401ff-d474-4a9d-8df6-6c6e0145b331"
      },
      "outputs": [
        {
          "output_type": "stream",
          "name": "stdout",
          "text": [
            "Classification report: \n",
            "               precision    recall  f1-score   support\n",
            "\n",
            "           0       1.00      1.00      1.00    101971\n",
            "           1       1.00      1.00      1.00    101971\n",
            "\n",
            "    accuracy                           1.00    203942\n",
            "   macro avg       1.00      1.00      1.00    203942\n",
            "weighted avg       1.00      1.00      1.00    203942\n",
            "\n"
          ]
        }
      ],
      "source": [
        "from sklearn.metrics import classification_report\n",
        "matrix = classification_report(label_train,label_pred)\n",
        "print('Classification report: \\n',matrix)\n",
        "#Classification report: \n",
        "               #precision    recall  f1-score   support\n",
        "\n",
        "           #0       0.53      0.51      0.52    102353\n",
        "           #1       0.53      0.55      0.54    102352\n",
        "\n",
        "    #accuracy                           0.53    204705\n",
        "   #macro avg       0.53      0.53      0.53    204705\n",
        "#weighted avg       0.53      0.53      0.53    204705\n",
        "#Second model with feature \"Amount\" scaled and feature \"Time\" dropped\n",
        "#Classification report: \n",
        "               #precision    recall  f1-score   support\n",
        "\n",
        "           #0       1.00      1.00      1.00    101971\n",
        "           #1       1.00      1.00      1.00    101971\n",
        "\n",
        "    #accuracy                           1.00    203942\n",
        "   #macro avg       1.00      1.00      1.00    203942\n",
        "#weighted avg       1.00      1.00      1.00    203942\n",
        "#2nd run\n",
        "#Classification report: \n",
        "               #precision    recall  f1-score   support\n",
        "\n",
        "           #0       1.00      1.00      1.00    101971\n",
        "           #1       1.00      1.00      1.00    101971\n",
        "\n",
        "    #accuracy                           1.00    203942\n",
        "   #macro avg       1.00      1.00      1.00    203942\n",
        "#weighted avg       1.00      1.00      1.00    203942\n"
      ]
    },
    {
      "cell_type": "code",
      "source": [
        "#ROC_AUC for the train set\n",
        "NN_roc_auc_test = roc_auc_score(label_train, label_pred)\n",
        "fpr, tpr, thresholds = roc_curve(label_train, label_pred)\n",
        "plt.figure(figsize=(7, 5))\n",
        "plt.plot(fpr, tpr, label=\"Neural Network (area = %0.2f)\" % NN_roc_auc_test)\n",
        "plt.plot([0, 1], [0, 1], \"r--\")\n",
        "plt.xlim([0.0, 1.0])\n",
        "plt.ylim([0.0, 1.01])\n",
        "plt.xlabel(\"False Positive Rate\")\n",
        "plt.ylabel(\"True Positive Rate\")\n",
        "plt.title(\"Receiver operating characteristic\")\n",
        "plt.legend(loc=\"lower right\")\n",
        "plt.show()"
      ],
      "metadata": {
        "colab": {
          "base_uri": "https://localhost:8080/",
          "height": 350
        },
        "id": "QV-_qlY4-psD",
        "outputId": "0bd74a0c-59fe-4f13-e98c-9888727f0179"
      },
      "execution_count": null,
      "outputs": [
        {
          "output_type": "display_data",
          "data": {
            "text/plain": [
              "<Figure size 504x360 with 1 Axes>"
            ],
            "image/png": "[encoded data removed]"
          },
          "metadata": {
            "needs_background": "light"
          }
        }
      ]
    },
    {
      "cell_type": "markdown",
      "metadata": {
        "id": "MteXPRp2My3z"
      },
      "source": [
        "Testing Performance"
      ]
    },
    {
      "cell_type": "code",
      "execution_count": null,
      "metadata": {
        "id": "XET92VxFlo_c"
      },
      "outputs": [],
      "source": [
        "Y_pred = model.predict(X_test)"
      ]
    },
    {
      "cell_type": "code",
      "execution_count": null,
      "metadata": {
        "colab": {
          "base_uri": "https://localhost:8080/"
        },
        "id": "zvavMJdytytK",
        "outputId": "5d33c70a-61f5-4cb3-9a6b-7e15471aa767"
      },
      "outputs": [
        {
          "output_type": "execute_result",
          "data": {
            "text/plain": [
              "(67981, 2)"
            ]
          },
          "metadata": {},
          "execution_count": 244
        }
      ],
      "source": [
        "Y_pred.shape"
      ]
    },
    {
      "cell_type": "code",
      "execution_count": null,
      "metadata": {
        "colab": {
          "base_uri": "https://localhost:8080/"
        },
        "id": "dw3ARjYWtyzi",
        "outputId": "d1e00f35-79de-4350-e853-cd3ba5999862"
      },
      "outputs": [
        {
          "output_type": "execute_result",
          "data": {
            "text/plain": [
              "(67981, 2)"
            ]
          },
          "metadata": {},
          "execution_count": 245
        }
      ],
      "source": [
        "y_test.shape"
      ]
    },
    {
      "cell_type": "code",
      "execution_count": null,
      "metadata": {
        "id": "EC9nqsTYty35"
      },
      "outputs": [],
      "source": [
        "label_pred = np.argmax(Y_pred, axis=1)"
      ]
    },
    {
      "cell_type": "code",
      "execution_count": null,
      "metadata": {
        "colab": {
          "base_uri": "https://localhost:8080/"
        },
        "id": "BXRKVWI_ty7F",
        "outputId": "e71225da-936e-4ab1-d909-cd21d8605b6d"
      },
      "outputs": [
        {
          "output_type": "execute_result",
          "data": {
            "text/plain": [
              "array([1, 1, 0, ..., 0, 1, 1])"
            ]
          },
          "metadata": {},
          "execution_count": 247
        }
      ],
      "source": [
        "label_pred"
      ]
    },
    {
      "cell_type": "code",
      "execution_count": null,
      "metadata": {
        "id": "6rftvI3jWHhY"
      },
      "outputs": [],
      "source": [
        "label_test = np.argmax(y_test, axis=1)"
      ]
    },
    {
      "cell_type": "code",
      "execution_count": null,
      "metadata": {
        "colab": {
          "base_uri": "https://localhost:8080/"
        },
        "id": "FV1jK_deWkQX",
        "outputId": "42ce9979-03dc-4aee-cb8e-87ab30763530"
      },
      "outputs": [
        {
          "output_type": "stream",
          "name": "stdout",
          "text": [
            "[[    0 33964]\n",
            " [    1 34017]]\n"
          ]
        }
      ],
      "source": [
        "(unique, counts) = np.unique(label_pred, return_counts=True)\n",
        "frequencies = np.asarray((unique, counts)).T\n",
        "print(frequencies)"
      ]
    },
    {
      "cell_type": "code",
      "execution_count": null,
      "metadata": {
        "colab": {
          "base_uri": "https://localhost:8080/"
        },
        "id": "_EMecVvTWHsY",
        "outputId": "51ed8dcc-943d-43f3-90e3-ba7b8579fccb"
      },
      "outputs": [
        {
          "output_type": "execute_result",
          "data": {
            "text/plain": [
              "array([1, 1, 0, ..., 0, 1, 1])"
            ]
          },
          "metadata": {},
          "execution_count": 250
        }
      ],
      "source": [
        "label_test"
      ]
    },
    {
      "cell_type": "code",
      "execution_count": null,
      "metadata": {
        "colab": {
          "base_uri": "https://localhost:8080/"
        },
        "id": "1IS2lGahWHx5",
        "outputId": "b82a080d-b3b0-44da-cc98-f3e8c270d38a"
      },
      "outputs": [
        {
          "output_type": "stream",
          "name": "stdout",
          "text": [
            "[[    0 33990]\n",
            " [    1 33991]]\n"
          ]
        }
      ],
      "source": [
        "(unique, counts) = np.unique(label_test, return_counts=True)\n",
        "frequencies = np.asarray((unique, counts)).T\n",
        "print(frequencies)"
      ]
    },
    {
      "cell_type": "code",
      "execution_count": null,
      "metadata": {
        "colab": {
          "base_uri": "https://localhost:8080/"
        },
        "id": "9MOrIfq4Wenw",
        "outputId": "83e146b8-ee0c-4d0a-8d4a-3763db529b4c"
      },
      "outputs": [
        {
          "output_type": "execute_result",
          "data": {
            "text/plain": [
              "array([[33964,    26],\n",
              "       [    0, 33991]])"
            ]
          },
          "metadata": {},
          "execution_count": 252
        }
      ],
      "source": [
        "confusion_matrix(label_test, label_pred)"
      ]
    },
    {
      "cell_type": "code",
      "source": [
        "precision_score(label_test, label_pred, average=\"macro\")\n",
        "#Second model with feature \"Amount\" scaled and feature \"Time\" dropped\n",
        "#0.9997794506851732\n",
        "#2nd run\n",
        "#0.99954441243901"
      ],
      "metadata": {
        "colab": {
          "base_uri": "https://localhost:8080/"
        },
        "id": "NbsgoiFhxVBF",
        "outputId": "924ba720-9dc3-443e-fb77-4d0f703ce12e"
      },
      "execution_count": null,
      "outputs": [
        {
          "output_type": "execute_result",
          "data": {
            "text/plain": [
              "0.9996178381397536"
            ]
          },
          "metadata": {},
          "execution_count": 253
        }
      ]
    },
    {
      "cell_type": "code",
      "execution_count": null,
      "metadata": {
        "colab": {
          "base_uri": "https://localhost:8080/"
        },
        "id": "zjXxAZtzWew6",
        "outputId": "c5ef01d2-a8b9-4399-bf87-404dc21a6874"
      },
      "outputs": [
        {
          "output_type": "execute_result",
          "data": {
            "text/plain": [
              "0.9996175345689908"
            ]
          },
          "metadata": {},
          "execution_count": 254
        }
      ],
      "source": [
        "recall_score(label_test, label_pred,  average = 'macro')\n",
        "#First Model\n",
        "#0.5318307051996014\n",
        "#Second model with feature \"Amount\" scaled and feature \"Time\" dropped\n",
        "#0.9997793468667255\n",
        "#2nd run\n",
        "#0.9995439835245661"
      ]
    },
    {
      "cell_type": "code",
      "execution_count": null,
      "metadata": {
        "colab": {
          "base_uri": "https://localhost:8080/"
        },
        "id": "BE69eFOEWe1s",
        "outputId": "c4d9e9f7-a4aa-4192-de40-4a7dc7a17525"
      },
      "outputs": [
        {
          "output_type": "execute_result",
          "data": {
            "text/plain": [
              "0.9996175401347238"
            ]
          },
          "metadata": {},
          "execution_count": 255
        }
      ],
      "source": [
        "f1_score(label_test, label_pred, average='macro')\n",
        "#First model\n",
        "#0.5315976701583305\n",
        "#Second model with feature \"Amount\" scaled and feature \"Time\" dropped\n",
        "#0.9997793501003087\n",
        "#2nd run\n",
        "#0.9995439901315236"
      ]
    },
    {
      "cell_type": "code",
      "execution_count": null,
      "metadata": {
        "colab": {
          "base_uri": "https://localhost:8080/"
        },
        "id": "kjiFuafRWH1d",
        "outputId": "c63d3645-19e8-48e9-82c1-dbd9f0762b24"
      },
      "outputs": [
        {
          "output_type": "stream",
          "name": "stdout",
          "text": [
            "Classification report: \n",
            "               precision    recall  f1-score   support\n",
            "\n",
            "           0       1.00      1.00      1.00     33990\n",
            "           1       1.00      1.00      1.00     33991\n",
            "\n",
            "    accuracy                           1.00     67981\n",
            "   macro avg       1.00      1.00      1.00     67981\n",
            "weighted avg       1.00      1.00      1.00     67981\n",
            "\n"
          ]
        }
      ],
      "source": [
        "from sklearn.metrics import classification_report\n",
        "matrix = classification_report(label_test,label_pred)\n",
        "print('Classification report: \\n',matrix)\n",
        "#Classification report: \n",
        "               #precision    recall  f1-score   support\n",
        "\n",
        "           #0       0.53      0.51      0.52     34118\n",
        "           #1       0.53      0.55      0.54     34118\n",
        "\n",
        "    #accuracy                           0.53     68236\n",
        "   #macro avg       0.53      0.53      0.53     68236\n",
        "#weighted avg       0.53      0.53      0.53     68236\n",
        "#Second model with feature \"Amount\" scaled and feature \"Time\" dropped\n",
        "#Classification report: \n",
        "               #precision    recall  f1-score   support\n",
        "\n",
        "           #0       1.00      1.00      1.00     33990\n",
        "           #1       1.00      1.00      1.00     33991\n",
        "\n",
        "    #accuracy                           1.00     67981\n",
        "   #macro avg       1.00      1.00      1.00     67981\n",
        "#weighted avg       1.00      1.00      1.00     67981\n",
        "#2nd run\n",
        "#Classification report: \n",
        "               #precision    recall  f1-score   support\n",
        "\n",
        "           #0       1.00      1.00      1.00     33990\n",
        "           #1       1.00      1.00      1.00     33991\n",
        "\n",
        "    #accuracy                           1.00     67981\n",
        "   #macro avg       1.00      1.00      1.00     67981\n",
        "#weighted avg       1.00      1.00      1.00     67981\n"
      ]
    },
    {
      "cell_type": "code",
      "source": [
        "# Different confusion matrix plot with percentages\n",
        "def plot_cm(label_test, label_pred, figsize=(5, 5)):\n",
        "    cm = confusion_matrix(label_test, label_pred, labels=np.unique(label_test))\n",
        "    cm_sum = np.sum(cm, axis=1, keepdims=True)\n",
        "    cm_perc = cm / cm_sum.astype(float) * 100\n",
        "    annot = np.empty_like(cm).astype(str)\n",
        "    nrows, ncols = cm.shape\n",
        "    for i in range(nrows):\n",
        "        for j in range(ncols):\n",
        "            c = cm[i, j]\n",
        "            p = cm_perc[i, j]\n",
        "            if i == j:\n",
        "                s = cm_sum[i]\n",
        "                annot[i, j] = \"%.1f%%\\n%d/%d\" % (p, c, s)\n",
        "            elif c == 0:\n",
        "                annot[i, j] = \"\"\n",
        "            else:\n",
        "                annot[i, j] = \"%.1f%%\\n%d\" % (p, c)\n",
        "    cm = pd.DataFrame(cm, index=np.unique(label_test), columns=np.unique(label_test))\n",
        "    cm.index.name = \"Actual\"\n",
        "    cm.columns.name = \"Predicted\"\n",
        "    fig, ax = plt.subplots(figsize=figsize)\n",
        "    # sns.heatmap(cm, cmap= \"YlGnBu\", annot=annot, fmt='', ax=ax)\n",
        "    sns.heatmap(cm, cmap=\"Blues\", annot=annot, fmt=\"\", ax=ax)\n",
        "plot_cm(label_test, label_pred)"
      ],
      "metadata": {
        "colab": {
          "base_uri": "https://localhost:8080/",
          "height": 334
        },
        "id": "PAI2TgDP-TVC",
        "outputId": "a263653f-b370-4883-ec4b-9e44d7517ee9"
      },
      "execution_count": null,
      "outputs": [
        {
          "output_type": "display_data",
          "data": {
            "text/plain": [
              "<Figure size 360x360 with 2 Axes>"
            ],
            "image/png": "[encoded data removed]"
          },
          "metadata": {
            "needs_background": "light"
          }
        }
      ]
    },
    {
      "cell_type": "code",
      "source": [
        "#ROC_AUC for the train set\n",
        "NN_roc_auc_test = roc_auc_score(label_test, label_pred)\n",
        "fpr, tpr, thresholds = roc_curve(label_test, label_pred)\n",
        "plt.figure(figsize=(7, 5))\n",
        "plt.plot(fpr, tpr, label=\"Neural Network (area = %0.2f)\" % NN_roc_auc_test)\n",
        "plt.plot([0, 1], [0, 1], \"r--\")\n",
        "plt.xlim([0.0, 1.0])\n",
        "plt.ylim([0.0, 1.01])\n",
        "plt.xlabel(\"False Positive Rate\")\n",
        "plt.ylabel(\"True Positive Rate\")\n",
        "plt.title(\"Receiver operating characteristic\")\n",
        "plt.legend(loc=\"lower right\")\n",
        "plt.show()"
      ],
      "metadata": {
        "colab": {
          "base_uri": "https://localhost:8080/",
          "height": 350
        },
        "id": "sb6DwtTx-TAy",
        "outputId": "a7c8d6b5-2a35-494f-b953-132d73a03531"
      },
      "execution_count": null,
      "outputs": [
        {
          "output_type": "display_data",
          "data": {
            "text/plain": [
              "<Figure size 504x360 with 1 Axes>"
            ],
            "image/png": "[encoded data removed]"
          },
          "metadata": {
            "needs_background": "light"
          }
        }
      ]
    },
    {
      "cell_type": "markdown",
      "source": [
        "Undersampling using RandomUnderSampler"
      ],
      "metadata": {
        "id": "zgMEhVVUAKdL"
      }
    },
    {
      "cell_type": "code",
      "source": [
        "#Undersampling\n",
        "print(\"Before UnderSampling, counts of label '1': {}\".format(sum(y_train == 1)))\n",
        "print(\"Before UnderSampling, counts of label '0': {} \\n\".format(sum(y_train == 0)))\n",
        "# Random undersampler for under sampling the data\n",
        "rus = RandomUnderSampler(random_state=1, sampling_strategy=1)\n",
        "X_train_un, y_train_un = rus.fit_resample(X_train, y_train)\n",
        "\n",
        "print(\"After UnderSampling, counts of label '1': {}\".format(sum(y_train_un == 1)))\n",
        "print(\"After UnderSampling, counts of label '0': {} \\n\".format(sum(y_train_un == 0)))\n",
        "\n",
        "\n",
        "print(\"After UnderSampling, the shape of train_X: {}\".format(X_train_un.shape))\n",
        "print(\"After UnderSampling, the shape of train_y: {} \\n\".format(y_train_un.shape))"
      ],
      "metadata": {
        "colab": {
          "base_uri": "https://localhost:8080/"
        },
        "id": "nVOCMG9y-Szb",
        "outputId": "30f7f39e-fd11-4869-db54-a711dbb6a582"
      },
      "execution_count": null,
      "outputs": [
        {
          "output_type": "stream",
          "name": "stdout",
          "text": [
            "Before UnderSampling, counts of label '1': [101971 101971]\n",
            "Before UnderSampling, counts of label '0': [101971 101971] \n",
            "\n",
            "After UnderSampling, counts of label '1': [101971]\n",
            "After UnderSampling, counts of label '0': [101971] \n",
            "\n",
            "After UnderSampling, the shape of train_X: (203942, 29)\n",
            "After UnderSampling, the shape of train_y: (203942, 1) \n",
            "\n"
          ]
        }
      ]
    },
    {
      "cell_type": "code",
      "source": [
        "# Splitting data into training, validation and test set:\n",
        "# first we split data into 2 parts, say temporary and test\n",
        "\n",
        "X_temp, X_test, y_temp, y_test = train_test_split(\n",
        "    X_train_un, y_train_un, test_size=0.2, random_state=1, stratify=y_train_un\n",
        ")\n",
        "\n",
        "# then we split the temporary set into train and validation\n",
        "\n",
        "X_train, X_val, y_train, y_val = train_test_split(\n",
        "    X_temp, y_temp, test_size=0.25, random_state=1, stratify=y_temp\n",
        ")\n",
        "print(X_train.shape, X_val.shape, X_test.shape)"
      ],
      "metadata": {
        "colab": {
          "base_uri": "https://localhost:8080/"
        },
        "id": "JbL4341TAVRK",
        "outputId": "9001c809-7d8d-481c-f204-94e58ef4eeb5"
      },
      "execution_count": null,
      "outputs": [
        {
          "output_type": "stream",
          "name": "stdout",
          "text": [
            "(122364, 29) (40789, 29) (40789, 29)\n"
          ]
        }
      ]
    },
    {
      "cell_type": "code",
      "source": [
        "print('X_train_un', X_train_un.shape)\n",
        "print('y_train_un', y_train_un.shape)"
      ],
      "metadata": {
        "colab": {
          "base_uri": "https://localhost:8080/"
        },
        "id": "No4gjg6DAVDk",
        "outputId": "a30dfff1-21c3-4750-cb5a-62f8e3e99fb2"
      },
      "execution_count": null,
      "outputs": [
        {
          "output_type": "stream",
          "name": "stdout",
          "text": [
            "X_train_un (203942, 29)\n",
            "y_train_un (203942, 1)\n"
          ]
        }
      ]
    },
    {
      "cell_type": "code",
      "source": [
        "y_train = to_categorical(y_train)\n",
        "y_test = to_categorical(y_test)\n",
        "y_val = to_categorical(y_val)\n",
        "print('y_train', y_train.shape)\n",
        "print('y_val', y_val.shape)\n",
        "print('y_test', y_test.shape)"
      ],
      "metadata": {
        "colab": {
          "base_uri": "https://localhost:8080/"
        },
        "id": "UDQRoZK9AVBi",
        "outputId": "ee9ae1f6-3316-40d5-cdb8-28e563581d52"
      },
      "execution_count": null,
      "outputs": [
        {
          "output_type": "stream",
          "name": "stdout",
          "text": [
            "y_train (122364, 2)\n",
            "y_val (40789, 2)\n",
            "y_test (40789, 2)\n"
          ]
        }
      ]
    },
    {
      "cell_type": "code",
      "source": [
        "\"\"\"\n",
        "# Converting dataframe to numpy array\n",
        "X_train = X_train.to_numpy()\n",
        "X_test = X_test.to_numpy()\n",
        "X_val = X_val.to_numpy()\n",
        "\"\"\""
      ],
      "metadata": {
        "colab": {
          "base_uri": "https://localhost:8080/",
          "height": 35
        },
        "id": "gDSXz_RHAU-A",
        "outputId": "3520800e-1b4c-4ba5-d77c-bf1f4f25fc41"
      },
      "execution_count": null,
      "outputs": [
        {
          "output_type": "execute_result",
          "data": {
            "text/plain": [
              "'\\n# Converting dataframe to numpy array\\nX_train = X_train.to_numpy()\\nX_test = X_test.to_numpy()\\nX_val = X_val.to_numpy()\\n'"
            ],
            "application/vnd.google.colaboratory.intrinsic+json": {
              "type": "string"
            }
          },
          "metadata": {},
          "execution_count": 263
        }
      ]
    },
    {
      "cell_type": "code",
      "source": [
        "\"\"\"\n",
        "# reshape input to be 3D [samples, timesteps, features]\n",
        "X_train = X_train.reshape((X_train.shape[0], 1, X_train.shape[1]))\n",
        "X_test = X_test.reshape((X_test.shape[0], 1, X_test.shape[1]))\n",
        "X_val = X_val.reshape((X_val.shape[0], 1, X_val.shape[1]))\n",
        "\"\"\""
      ],
      "metadata": {
        "colab": {
          "base_uri": "https://localhost:8080/",
          "height": 54
        },
        "id": "eY6643aOAU5q",
        "outputId": "957eee95-f072-4f94-d91e-e058da9fdd41"
      },
      "execution_count": null,
      "outputs": [
        {
          "output_type": "execute_result",
          "data": {
            "text/plain": [
              "'\\n# reshape input to be 3D [samples, timesteps, features]\\nX_train = X_train.reshape((X_train.shape[0], 1, X_train.shape[1]))\\nX_test = X_test.reshape((X_test.shape[0], 1, X_test.shape[1]))\\nX_val = X_val.reshape((X_val.shape[0], 1, X_val.shape[1]))\\n'"
            ],
            "application/vnd.google.colaboratory.intrinsic+json": {
              "type": "string"
            }
          },
          "metadata": {},
          "execution_count": 264
        }
      ]
    },
    {
      "cell_type": "code",
      "source": [
        "X_train.shape"
      ],
      "metadata": {
        "colab": {
          "base_uri": "https://localhost:8080/"
        },
        "id": "t7quHeryAU2-",
        "outputId": "9d0af883-8f18-433a-beb4-9841b98bd763"
      },
      "execution_count": null,
      "outputs": [
        {
          "output_type": "execute_result",
          "data": {
            "text/plain": [
              "(122364, 29)"
            ]
          },
          "metadata": {},
          "execution_count": 265
        }
      ]
    },
    {
      "cell_type": "code",
      "source": [
        "#Applying a Neural Network\n",
        "model = Sequential()\n",
        "#model.add(Dense(16, input_dim=11, activation='relu', input_shape=(11,)))\n",
        "model.add(Dense(128, activation='relu', input_shape=(29,)))\n",
        "model.add(Dense(64, activation='relu'))\n",
        "model.add(Dropout(0.3))\n",
        "model.add(Dense(64, activation='relu'))\n",
        "model.add(BatchNormalization())\n",
        "model.add(Dense(32, activation='relu'))\n",
        "model.add(Dense(2, activation='Softmax'))\n",
        "\"\"\"\n",
        "# First algorithm:\n",
        "model = Sequential()\n",
        "model.add(\n",
        "    Bidirectional(\n",
        "        LSTM(30, return_sequences=True), input_shape=(X_train.shape[1], X_train.shape[2])\n",
        "    )\n",
        ")\n",
        "model.add(Dropout(0.2))\n",
        "model.add(Bidirectional(LSTM(30)))\n",
        "model.add(Dense(2))\n",
        "# model.add(Activation('softmax'))\n",
        "model.add(Activation(\"sigmoid\"))\n",
        "\"\"\"\n"
      ],
      "metadata": {
        "colab": {
          "base_uri": "https://localhost:8080/",
          "height": 54
        },
        "id": "auAIoUrqAUzY",
        "outputId": "409da762-acb9-47c3-bee9-c7964d4bfb8b"
      },
      "execution_count": null,
      "outputs": [
        {
          "output_type": "execute_result",
          "data": {
            "text/plain": [
              "'\\n# First algorithm:\\nmodel = Sequential()\\nmodel.add(\\n    Bidirectional(\\n        LSTM(30, return_sequences=True), input_shape=(X_train.shape[1], X_train.shape[2])\\n    )\\n)\\nmodel.add(Dropout(0.2))\\nmodel.add(Bidirectional(LSTM(30)))\\nmodel.add(Dense(2))\\n# model.add(Activation(\\'softmax\\'))\\nmodel.add(Activation(\"sigmoid\"))\\n'"
            ],
            "application/vnd.google.colaboratory.intrinsic+json": {
              "type": "string"
            }
          },
          "metadata": {},
          "execution_count": 266
        }
      ]
    },
    {
      "cell_type": "code",
      "source": [
        "model.summary()"
      ],
      "metadata": {
        "colab": {
          "base_uri": "https://localhost:8080/"
        },
        "id": "XNAxu5h8AUt-",
        "outputId": "6b7b4707-2447-446d-e5e4-e565c2eee631"
      },
      "execution_count": null,
      "outputs": [
        {
          "output_type": "stream",
          "name": "stdout",
          "text": [
            "Model: \"sequential_4\"\n",
            "_________________________________________________________________\n",
            " Layer (type)                Output Shape              Param #   \n",
            "=================================================================\n",
            " dense_16 (Dense)            (None, 128)               3840      \n",
            "                                                                 \n",
            " dense_17 (Dense)            (None, 64)                8256      \n",
            "                                                                 \n",
            " dropout_4 (Dropout)         (None, 64)                0         \n",
            "                                                                 \n",
            " dense_18 (Dense)            (None, 64)                4160      \n",
            "                                                                 \n",
            " batch_normalization_3 (Batc  (None, 64)               256       \n",
            " hNormalization)                                                 \n",
            "                                                                 \n",
            " dense_19 (Dense)            (None, 32)                2080      \n",
            "                                                                 \n",
            " dense_20 (Dense)            (None, 2)                 66        \n",
            "                                                                 \n",
            "=================================================================\n",
            "Total params: 18,658\n",
            "Trainable params: 18,530\n",
            "Non-trainable params: 128\n",
            "_________________________________________________________________\n"
          ]
        }
      ]
    },
    {
      "cell_type": "code",
      "source": [
        "opt = tf.keras.optimizers.Adam(learning_rate=0.001)\n",
        "model.compile(loss='binary_crossentropy', optimizer=opt, metrics=['accuracy'])"
      ],
      "metadata": {
        "id": "tKSuVZAAAUqr"
      },
      "execution_count": null,
      "outputs": []
    },
    {
      "cell_type": "code",
      "source": [
        "history = model.fit(X_train, y_train, epochs=20, batch_size=100, validation_data=(X_val, y_val))"
      ],
      "metadata": {
        "colab": {
          "base_uri": "https://localhost:8080/"
        },
        "id": "ctal2x6VAUnW",
        "outputId": "d44af149-f6ad-4a22-8dd3-c62b5a3bf87d"
      },
      "execution_count": null,
      "outputs": [
        {
          "output_type": "stream",
          "name": "stdout",
          "text": [
            "Epoch 1/20\n",
            "1224/1224 [==============================] - 10s 8ms/step - loss: 0.0395 - accuracy: 0.9854 - val_loss: 0.0067 - val_accuracy: 0.9984\n",
            "Epoch 2/20\n",
            "1224/1224 [==============================] - 5s 4ms/step - loss: 0.0100 - accuracy: 0.9971 - val_loss: 0.0117 - val_accuracy: 0.9960\n",
            "Epoch 3/20\n",
            "1224/1224 [==============================] - 5s 4ms/step - loss: 0.0068 - accuracy: 0.9982 - val_loss: 0.0051 - val_accuracy: 0.9989\n",
            "Epoch 4/20\n",
            "1224/1224 [==============================] - 5s 4ms/step - loss: 0.0054 - accuracy: 0.9985 - val_loss: 0.0047 - val_accuracy: 0.9990\n",
            "Epoch 5/20\n",
            "1224/1224 [==============================] - 5s 4ms/step - loss: 0.0052 - accuracy: 0.9987 - val_loss: 0.0040 - val_accuracy: 0.9993\n",
            "Epoch 6/20\n",
            "1224/1224 [==============================] - 5s 4ms/step - loss: 0.0043 - accuracy: 0.9990 - val_loss: 0.0041 - val_accuracy: 0.9992\n",
            "Epoch 7/20\n",
            "1224/1224 [==============================] - 5s 4ms/step - loss: 0.0040 - accuracy: 0.9990 - val_loss: 0.0055 - val_accuracy: 0.9987\n",
            "Epoch 8/20\n",
            "1224/1224 [==============================] - 5s 4ms/step - loss: 0.0033 - accuracy: 0.9993 - val_loss: 0.0038 - val_accuracy: 0.9992\n",
            "Epoch 9/20\n",
            "1224/1224 [==============================] - 5s 4ms/step - loss: 0.0030 - accuracy: 0.9993 - val_loss: 0.0034 - val_accuracy: 0.9993\n",
            "Epoch 10/20\n",
            "1224/1224 [==============================] - 5s 4ms/step - loss: 0.0028 - accuracy: 0.9994 - val_loss: 0.0043 - val_accuracy: 0.9990\n",
            "Epoch 11/20\n",
            "1224/1224 [==============================] - 5s 4ms/step - loss: 0.0028 - accuracy: 0.9994 - val_loss: 0.0030 - val_accuracy: 0.9993\n",
            "Epoch 12/20\n",
            "1224/1224 [==============================] - 5s 4ms/step - loss: 0.0027 - accuracy: 0.9994 - val_loss: 0.0043 - val_accuracy: 0.9991\n",
            "Epoch 13/20\n",
            "1224/1224 [==============================] - 5s 4ms/step - loss: 0.0026 - accuracy: 0.9995 - val_loss: 0.0024 - val_accuracy: 0.9995\n",
            "Epoch 14/20\n",
            "1224/1224 [==============================] - 5s 4ms/step - loss: 0.0023 - accuracy: 0.9995 - val_loss: 0.0040 - val_accuracy: 0.9991\n",
            "Epoch 15/20\n",
            "1224/1224 [==============================] - 5s 4ms/step - loss: 0.0021 - accuracy: 0.9995 - val_loss: 0.0041 - val_accuracy: 0.9991\n",
            "Epoch 16/20\n",
            "1224/1224 [==============================] - 5s 4ms/step - loss: 0.0020 - accuracy: 0.9996 - val_loss: 0.0032 - val_accuracy: 0.9994\n",
            "Epoch 17/20\n",
            "1224/1224 [==============================] - 5s 4ms/step - loss: 0.0024 - accuracy: 0.9995 - val_loss: 0.0025 - val_accuracy: 0.9996\n",
            "Epoch 18/20\n",
            "1224/1224 [==============================] - 5s 4ms/step - loss: 0.0026 - accuracy: 0.9995 - val_loss: 0.0060 - val_accuracy: 0.9985\n",
            "Epoch 19/20\n",
            "1224/1224 [==============================] - 4s 4ms/step - loss: 0.0016 - accuracy: 0.9997 - val_loss: 0.0024 - val_accuracy: 0.9997\n",
            "Epoch 20/20\n",
            "1224/1224 [==============================] - 5s 4ms/step - loss: 0.0020 - accuracy: 0.9995 - val_loss: 0.0022 - val_accuracy: 0.9996\n"
          ]
        }
      ]
    },
    {
      "cell_type": "code",
      "source": [
        "plt.plot(history.history['accuracy'], label = 'train')\n",
        "plt.plot(history.history['val_accuracy'], label = 'validation')\n",
        "plt.ylabel('accuracy')\n",
        "plt.xlabel('epochs')\n",
        "plt.legend(loc = 'upper right')"
      ],
      "metadata": {
        "colab": {
          "base_uri": "https://localhost:8080/",
          "height": 297
        },
        "id": "bfHWP8c_AUjn",
        "outputId": "b4d993c4-7c58-418a-e56b-6d2fcff61e88"
      },
      "execution_count": null,
      "outputs": [
        {
          "output_type": "execute_result",
          "data": {
            "text/plain": [
              "<matplotlib.legend.Legend at 0x7f40ce9b0fd0>"
            ]
          },
          "metadata": {},
          "execution_count": 270
        },
        {
          "output_type": "display_data",
          "data": {
            "text/plain": [
              "<Figure size 432x288 with 1 Axes>"
            ],
            "image/png": "[encoded data removed]"
          },
          "metadata": {
            "needs_background": "light"
          }
        }
      ]
    },
    {
      "cell_type": "code",
      "source": [
        "plt.plot(history.history['loss'], label = 'train')\n",
        "plt.plot(history.history['val_loss'], label = 'validation')\n",
        "plt.ylabel('loss')\n",
        "plt.xlabel('epochs')\n",
        "plt.legend(loc = 'lower right')"
      ],
      "metadata": {
        "colab": {
          "base_uri": "https://localhost:8080/",
          "height": 297
        },
        "id": "Bfn-NRzrCMz9",
        "outputId": "08228c22-bf01-41b7-ce75-98f23b7611c3"
      },
      "execution_count": null,
      "outputs": [
        {
          "output_type": "execute_result",
          "data": {
            "text/plain": [
              "<matplotlib.legend.Legend at 0x7f40d328cd90>"
            ]
          },
          "metadata": {},
          "execution_count": 271
        },
        {
          "output_type": "display_data",
          "data": {
            "text/plain": [
              "<Figure size 432x288 with 1 Axes>"
            ],
            "image/png": "[encoded data removed]"
          },
          "metadata": {
            "needs_background": "light"
          }
        }
      ]
    },
    {
      "cell_type": "markdown",
      "source": [
        "Training performance"
      ],
      "metadata": {
        "id": "iWN4MtfrDOJD"
      }
    },
    {
      "cell_type": "code",
      "source": [
        "Y_pred = model.predict(X_train)"
      ],
      "metadata": {
        "id": "CakhWhndCMwS"
      },
      "execution_count": null,
      "outputs": []
    },
    {
      "cell_type": "code",
      "source": [
        "Y_pred.shape"
      ],
      "metadata": {
        "colab": {
          "base_uri": "https://localhost:8080/"
        },
        "id": "ia696RlBCMtg",
        "outputId": "4d3a771b-65e9-4b9c-ee52-95a56895acd5"
      },
      "execution_count": null,
      "outputs": [
        {
          "output_type": "execute_result",
          "data": {
            "text/plain": [
              "(122364, 2)"
            ]
          },
          "metadata": {},
          "execution_count": 273
        }
      ]
    },
    {
      "cell_type": "code",
      "source": [
        "y_train.shape"
      ],
      "metadata": {
        "colab": {
          "base_uri": "https://localhost:8080/"
        },
        "id": "pDPuk3-LCMqi",
        "outputId": "80eb1df8-80e4-49ba-8239-f7388daf30d3"
      },
      "execution_count": null,
      "outputs": [
        {
          "output_type": "execute_result",
          "data": {
            "text/plain": [
              "(122364, 2)"
            ]
          },
          "metadata": {},
          "execution_count": 274
        }
      ]
    },
    {
      "cell_type": "code",
      "source": [
        "label_pred = np.argmax(Y_pred, axis=1)"
      ],
      "metadata": {
        "id": "kfC8R-GxCMnj"
      },
      "execution_count": null,
      "outputs": []
    },
    {
      "cell_type": "code",
      "source": [
        "label_train = np.argmax(y_train, axis=1)"
      ],
      "metadata": {
        "id": "BEUwJzEpCMkq"
      },
      "execution_count": null,
      "outputs": []
    },
    {
      "cell_type": "code",
      "source": [
        "label_pred"
      ],
      "metadata": {
        "colab": {
          "base_uri": "https://localhost:8080/"
        },
        "id": "4CPnZOTzCMd5",
        "outputId": "75d29223-fa44-4f83-8486-f8d926d4db23"
      },
      "execution_count": null,
      "outputs": [
        {
          "output_type": "execute_result",
          "data": {
            "text/plain": [
              "array([0, 1, 1, ..., 0, 1, 0])"
            ]
          },
          "metadata": {},
          "execution_count": 277
        }
      ]
    },
    {
      "cell_type": "code",
      "source": [
        "(unique, counts) = np.unique(label_pred, return_counts=True)\n",
        "frequencies = np.asarray((unique, counts)).T\n",
        "print(frequencies)"
      ],
      "metadata": {
        "colab": {
          "base_uri": "https://localhost:8080/"
        },
        "id": "vt4zkfG-CMaE",
        "outputId": "c7348ff0-7e27-4687-d9a9-eef7bbb969b0"
      },
      "execution_count": null,
      "outputs": [
        {
          "output_type": "stream",
          "name": "stdout",
          "text": [
            "[[    0 61161]\n",
            " [    1 61203]]\n"
          ]
        }
      ]
    },
    {
      "cell_type": "code",
      "source": [
        "label_train"
      ],
      "metadata": {
        "colab": {
          "base_uri": "https://localhost:8080/"
        },
        "id": "xPXjTQlyCMRd",
        "outputId": "8f6daa6f-b8dc-47d0-ff9e-ffb062d4886a"
      },
      "execution_count": null,
      "outputs": [
        {
          "output_type": "execute_result",
          "data": {
            "text/plain": [
              "array([0, 1, 1, ..., 0, 1, 0])"
            ]
          },
          "metadata": {},
          "execution_count": 279
        }
      ]
    },
    {
      "cell_type": "code",
      "source": [
        "(unique, counts) = np.unique(label_train, return_counts=True)\n",
        "frequencies = np.asarray((unique, counts)).T\n",
        "print(frequencies)"
      ],
      "metadata": {
        "colab": {
          "base_uri": "https://localhost:8080/"
        },
        "id": "YRIuqsnNCucd",
        "outputId": "fbfdadd2-79b6-49a7-c88e-db487b1a9b53"
      },
      "execution_count": null,
      "outputs": [
        {
          "output_type": "stream",
          "name": "stdout",
          "text": [
            "[[    0 61182]\n",
            " [    1 61182]]\n"
          ]
        }
      ]
    },
    {
      "cell_type": "code",
      "source": [
        "confusion_matrix(label_train, label_pred)"
      ],
      "metadata": {
        "colab": {
          "base_uri": "https://localhost:8080/"
        },
        "id": "mz1pmdQpCuXh",
        "outputId": "f2e9cedb-9432-4b3c-8cb2-300b778c71fd"
      },
      "execution_count": null,
      "outputs": [
        {
          "output_type": "execute_result",
          "data": {
            "text/plain": [
              "array([[61161,    21],\n",
              "       [    0, 61182]])"
            ]
          },
          "metadata": {},
          "execution_count": 281
        }
      ]
    },
    {
      "cell_type": "code",
      "source": [
        "precision_score(label_train, label_pred, average=\"macro\")"
      ],
      "metadata": {
        "colab": {
          "base_uri": "https://localhost:8080/"
        },
        "id": "qFK_JD_ACuR4",
        "outputId": "68c75edf-5e9f-4ec2-c444-a71f23aa63c6"
      },
      "execution_count": null,
      "outputs": [
        {
          "output_type": "execute_result",
          "data": {
            "text/plain": [
              "0.9998284397823636"
            ]
          },
          "metadata": {},
          "execution_count": 282
        }
      ]
    },
    {
      "cell_type": "code",
      "source": [
        "recall_score(label_train, label_pred, average=\"macro\")"
      ],
      "metadata": {
        "colab": {
          "base_uri": "https://localhost:8080/"
        },
        "id": "dpvcVlp1CuO_",
        "outputId": "2753dad1-a088-4c91-d7fd-c5cd82f92c56"
      },
      "execution_count": null,
      "outputs": [
        {
          "output_type": "execute_result",
          "data": {
            "text/plain": [
              "0.9998283808963421"
            ]
          },
          "metadata": {},
          "execution_count": 283
        }
      ]
    },
    {
      "cell_type": "code",
      "source": [
        "f1_score(label_train, label_pred, average=\"macro\")"
      ],
      "metadata": {
        "colab": {
          "base_uri": "https://localhost:8080/"
        },
        "id": "uQQeWruICuHD",
        "outputId": "947ff2fd-9dbd-4a7d-ace5-27328c4067d5"
      },
      "execution_count": null,
      "outputs": [
        {
          "output_type": "execute_result",
          "data": {
            "text/plain": [
              "0.9998283808912873"
            ]
          },
          "metadata": {},
          "execution_count": 284
        }
      ]
    },
    {
      "cell_type": "code",
      "source": [
        "matrix = classification_report(label_train, label_pred)\n",
        "print(\"Classification report: \\n\", matrix)"
      ],
      "metadata": {
        "colab": {
          "base_uri": "https://localhost:8080/"
        },
        "id": "CH0pOQzfC9Vs",
        "outputId": "427f0c22-a0d9-406a-81b3-35050b7de79a"
      },
      "execution_count": null,
      "outputs": [
        {
          "output_type": "stream",
          "name": "stdout",
          "text": [
            "Classification report: \n",
            "               precision    recall  f1-score   support\n",
            "\n",
            "           0       1.00      1.00      1.00     61182\n",
            "           1       1.00      1.00      1.00     61182\n",
            "\n",
            "    accuracy                           1.00    122364\n",
            "   macro avg       1.00      1.00      1.00    122364\n",
            "weighted avg       1.00      1.00      1.00    122364\n",
            "\n"
          ]
        }
      ]
    },
    {
      "cell_type": "code",
      "source": [
        "#ROC_AUC for the train set\n",
        "NN_roc_auc_test = roc_auc_score(label_train, label_pred)\n",
        "fpr, tpr, thresholds = roc_curve(label_train, label_pred)\n",
        "plt.figure(figsize=(7, 5))\n",
        "plt.plot(fpr, tpr, label=\"Neural Network (area = %0.2f)\" % NN_roc_auc_test)\n",
        "plt.plot([0, 1], [0, 1], \"r--\")\n",
        "plt.xlim([0.0, 1.0])\n",
        "plt.ylim([0.0, 1.01])\n",
        "plt.xlabel(\"False Positive Rate\")\n",
        "plt.ylabel(\"True Positive Rate\")\n",
        "plt.title(\"Receiver operating characteristic\")\n",
        "plt.legend(loc=\"lower right\")\n",
        "plt.show()"
      ],
      "metadata": {
        "colab": {
          "base_uri": "https://localhost:8080/",
          "height": 350
        },
        "id": "7yLOE8PvC9P0",
        "outputId": "a808d76b-1d91-4248-fe86-fa9caf7b036e"
      },
      "execution_count": null,
      "outputs": [
        {
          "output_type": "display_data",
          "data": {
            "text/plain": [
              "<Figure size 504x360 with 1 Axes>"
            ],
            "image/png": "[encoded data removed]"
          },
          "metadata": {
            "needs_background": "light"
          }
        }
      ]
    },
    {
      "cell_type": "markdown",
      "source": [
        "Testing performance"
      ],
      "metadata": {
        "id": "j-1n9d7TDKSf"
      }
    },
    {
      "cell_type": "code",
      "source": [
        "Y_pred = model.predict(X_test)"
      ],
      "metadata": {
        "id": "_Q4V17XCC9Mr"
      },
      "execution_count": null,
      "outputs": []
    },
    {
      "cell_type": "code",
      "source": [
        "Y_pred.shape"
      ],
      "metadata": {
        "colab": {
          "base_uri": "https://localhost:8080/"
        },
        "id": "-IdQ2UElC87u",
        "outputId": "dc6d2b2e-0b23-4c33-807f-f27a5d8521f0"
      },
      "execution_count": null,
      "outputs": [
        {
          "output_type": "execute_result",
          "data": {
            "text/plain": [
              "(40789, 2)"
            ]
          },
          "metadata": {},
          "execution_count": 288
        }
      ]
    },
    {
      "cell_type": "code",
      "source": [
        "y_test.shape"
      ],
      "metadata": {
        "colab": {
          "base_uri": "https://localhost:8080/"
        },
        "id": "k7OmFIntAUfs",
        "outputId": "2b1dd135-8f38-417a-a374-b34b1e6fbe98"
      },
      "execution_count": null,
      "outputs": [
        {
          "output_type": "execute_result",
          "data": {
            "text/plain": [
              "(40789, 2)"
            ]
          },
          "metadata": {},
          "execution_count": 289
        }
      ]
    },
    {
      "cell_type": "code",
      "source": [
        "label_pred = np.argmax(Y_pred, axis=1)"
      ],
      "metadata": {
        "id": "WZU5o0FWDh2t"
      },
      "execution_count": null,
      "outputs": []
    },
    {
      "cell_type": "code",
      "source": [
        "label_test = np.argmax(y_test, axis=1)"
      ],
      "metadata": {
        "id": "oIjPhzKADiJ5"
      },
      "execution_count": null,
      "outputs": []
    },
    {
      "cell_type": "code",
      "source": [
        "label_pred"
      ],
      "metadata": {
        "colab": {
          "base_uri": "https://localhost:8080/"
        },
        "id": "dn5Ebug8DiNI",
        "outputId": "f3bb0816-37bc-430a-c672-9ccdbd7ed05f"
      },
      "execution_count": null,
      "outputs": [
        {
          "output_type": "execute_result",
          "data": {
            "text/plain": [
              "array([0, 1, 1, ..., 1, 1, 0])"
            ]
          },
          "metadata": {},
          "execution_count": 292
        }
      ]
    },
    {
      "cell_type": "code",
      "source": [
        "(unique, counts) = np.unique(label_pred, return_counts=True)\n",
        "frequencies = np.asarray((unique, counts)).T\n",
        "print(frequencies)"
      ],
      "metadata": {
        "colab": {
          "base_uri": "https://localhost:8080/"
        },
        "id": "LB2QCP7fDiQc",
        "outputId": "40f01c26-8bbe-4ab1-886f-3491c83cd6f1"
      },
      "execution_count": null,
      "outputs": [
        {
          "output_type": "stream",
          "name": "stdout",
          "text": [
            "[[    0 20372]\n",
            " [    1 20417]]\n"
          ]
        }
      ]
    },
    {
      "cell_type": "code",
      "source": [
        "label_test"
      ],
      "metadata": {
        "colab": {
          "base_uri": "https://localhost:8080/"
        },
        "id": "GpYLdehJDiTR",
        "outputId": "c481b099-5f95-442f-da90-f5f97c6e5d35"
      },
      "execution_count": null,
      "outputs": [
        {
          "output_type": "execute_result",
          "data": {
            "text/plain": [
              "array([0, 1, 1, ..., 1, 1, 0])"
            ]
          },
          "metadata": {},
          "execution_count": 294
        }
      ]
    },
    {
      "cell_type": "code",
      "source": [
        "(unique, counts) = np.unique(label_test, return_counts=True)\n",
        "frequencies = np.asarray((unique, counts)).T\n",
        "print(frequencies)"
      ],
      "metadata": {
        "colab": {
          "base_uri": "https://localhost:8080/"
        },
        "id": "zGKA5XVGDiV8",
        "outputId": "44c61ac2-a7f8-47ac-abe7-d7663e76d034"
      },
      "execution_count": null,
      "outputs": [
        {
          "output_type": "stream",
          "name": "stdout",
          "text": [
            "[[    0 20394]\n",
            " [    1 20395]]\n"
          ]
        }
      ]
    },
    {
      "cell_type": "code",
      "source": [
        "confusion_matrix(label_test, label_pred)"
      ],
      "metadata": {
        "colab": {
          "base_uri": "https://localhost:8080/"
        },
        "id": "QVM1j9a6D0jj",
        "outputId": "fa91d74e-7f44-4104-c26e-439d52149ece"
      },
      "execution_count": null,
      "outputs": [
        {
          "output_type": "execute_result",
          "data": {
            "text/plain": [
              "array([[20372,    22],\n",
              "       [    0, 20395]])"
            ]
          },
          "metadata": {},
          "execution_count": 296
        }
      ]
    },
    {
      "cell_type": "code",
      "source": [
        "precision_score(label_test, label_pred, average=\"macro\")"
      ],
      "metadata": {
        "colab": {
          "base_uri": "https://localhost:8080/"
        },
        "id": "PzfM6AakD0g0",
        "outputId": "7dd20eec-21c1-4e86-82c4-b1108359d56d"
      },
      "execution_count": null,
      "outputs": [
        {
          "output_type": "execute_result",
          "data": {
            "text/plain": [
              "0.9994612332859871"
            ]
          },
          "metadata": {},
          "execution_count": 297
        }
      ]
    },
    {
      "cell_type": "code",
      "source": [
        "recall_score(label_test, label_pred, average=\"macro\")"
      ],
      "metadata": {
        "colab": {
          "base_uri": "https://localhost:8080/"
        },
        "id": "XED5L6_HD0dx",
        "outputId": "6a52530b-5235-41a3-bba5-9d0a04088251"
      },
      "execution_count": null,
      "outputs": [
        {
          "output_type": "execute_result",
          "data": {
            "text/plain": [
              "0.9994606256742179"
            ]
          },
          "metadata": {},
          "execution_count": 298
        }
      ]
    },
    {
      "cell_type": "code",
      "source": [
        "f1_score(label_test, label_pred, average=\"macro\")"
      ],
      "metadata": {
        "colab": {
          "base_uri": "https://localhost:8080/"
        },
        "id": "W5lo1F7VD0a9",
        "outputId": "7d027180-48c4-4e75-d697-2863984584bc"
      },
      "execution_count": null,
      "outputs": [
        {
          "output_type": "execute_result",
          "data": {
            "text/plain": [
              "0.9994606387262479"
            ]
          },
          "metadata": {},
          "execution_count": 299
        }
      ]
    },
    {
      "cell_type": "code",
      "source": [
        "matrix = classification_report(label_test, label_pred)\n",
        "print(\"Classification report: \\n\", matrix)\n",
        "# 1st run"
      ],
      "metadata": {
        "colab": {
          "base_uri": "https://localhost:8080/"
        },
        "id": "tmNy2_91D0YC",
        "outputId": "5528c79c-4df5-4dca-9aa7-de3f88862d3b"
      },
      "execution_count": null,
      "outputs": [
        {
          "output_type": "stream",
          "name": "stdout",
          "text": [
            "Classification report: \n",
            "               precision    recall  f1-score   support\n",
            "\n",
            "           0       1.00      1.00      1.00     20394\n",
            "           1       1.00      1.00      1.00     20395\n",
            "\n",
            "    accuracy                           1.00     40789\n",
            "   macro avg       1.00      1.00      1.00     40789\n",
            "weighted avg       1.00      1.00      1.00     40789\n",
            "\n"
          ]
        }
      ]
    },
    {
      "cell_type": "code",
      "source": [
        "# Different confusion matrix plot with percentages\n",
        "def plot_cm(label_test, label_pred, figsize=(5, 5)):\n",
        "    cm = confusion_matrix(label_test, label_pred, labels=np.unique(label_test))\n",
        "    cm_sum = np.sum(cm, axis=1, keepdims=True)\n",
        "    cm_perc = cm / cm_sum.astype(float) * 100\n",
        "    annot = np.empty_like(cm).astype(str)\n",
        "    nrows, ncols = cm.shape\n",
        "    for i in range(nrows):\n",
        "        for j in range(ncols):\n",
        "            c = cm[i, j]\n",
        "            p = cm_perc[i, j]\n",
        "            if i == j:\n",
        "                s = cm_sum[i]\n",
        "                annot[i, j] = \"%.1f%%\\n%d/%d\" % (p, c, s)\n",
        "            elif c == 0:\n",
        "                annot[i, j] = \"\"\n",
        "            else:\n",
        "                annot[i, j] = \"%.1f%%\\n%d\" % (p, c)\n",
        "    cm = pd.DataFrame(cm, index=np.unique(label_test), columns=np.unique(label_test))\n",
        "    cm.index.name = \"Actual\"\n",
        "    cm.columns.name = \"Predicted\"\n",
        "    fig, ax = plt.subplots(figsize=figsize)\n",
        "    # sns.heatmap(cm, cmap= \"YlGnBu\", annot=annot, fmt='', ax=ax)\n",
        "    sns.heatmap(cm, cmap=\"Blues\", annot=annot, fmt=\"\", ax=ax)\n",
        "plot_cm(label_test, label_pred)"
      ],
      "metadata": {
        "colab": {
          "base_uri": "https://localhost:8080/",
          "height": 334
        },
        "id": "CAGOmUUpEBgj",
        "outputId": "c6ca04bf-2c9b-4851-d833-8eef3b415176"
      },
      "execution_count": null,
      "outputs": [
        {
          "output_type": "display_data",
          "data": {
            "text/plain": [
              "<Figure size 360x360 with 2 Axes>"
            ],
            "image/png": "[encoded data removed]"
          },
          "metadata": {
            "needs_background": "light"
          }
        }
      ]
    },
    {
      "cell_type": "code",
      "source": [
        "#ROC_AUC for the train set\n",
        "NN_roc_auc_test = roc_auc_score(label_test, label_pred)\n",
        "fpr, tpr, thresholds = roc_curve(label_test, label_pred)\n",
        "plt.figure(figsize=(7, 5))\n",
        "plt.plot(fpr, tpr, label=\"Neural Network (area = %0.2f)\" % NN_roc_auc_test)\n",
        "plt.plot([0, 1], [0, 1], \"r--\")\n",
        "plt.xlim([0.0, 1.0])\n",
        "plt.ylim([0.0, 1.01])\n",
        "plt.xlabel(\"False Positive Rate\")\n",
        "plt.ylabel(\"True Positive Rate\")\n",
        "plt.title(\"Receiver operating characteristic\")\n",
        "plt.legend(loc=\"lower right\")\n",
        "plt.show()"
      ],
      "metadata": {
        "colab": {
          "base_uri": "https://localhost:8080/",
          "height": 350
        },
        "id": "LCby0UoBEBc8",
        "outputId": "1ff9e4eb-d4ea-4390-811f-4a6bb7518b31"
      },
      "execution_count": null,
      "outputs": [
        {
          "output_type": "display_data",
          "data": {
            "text/plain": [
              "<Figure size 504x360 with 1 Axes>"
            ],
            "image/png": "[encoded data removed]"
          },
          "metadata": {
            "needs_background": "light"
          }
        }
      ]
    },
    {
      "cell_type": "code",
      "source": [
        ""
      ],
      "metadata": {
        "id": "UAJVzMsLDiYs"
      },
      "execution_count": null,
      "outputs": []
    }
  ],
  "metadata": {
    "accelerator": "GPU",
    "colab": {
      "collapsed_sections": [],
      "name": "CreditC Notebook.ipynb",
      "provenance": []
    },
    "kernelspec": {
      "display_name": "Python 3",
      "name": "python3"
    },
    "language_info": {
      "name": "python"
    }
  },
  "nbformat": 4,
  "nbformat_minor": 0
}